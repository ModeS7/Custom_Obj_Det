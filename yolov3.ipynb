{
  "nbformat": 4,
  "nbformat_minor": 0,
  "metadata": {
    "colab": {
      "provenance": [],
      "gpuType": "T4"
    },
    "kernelspec": {
      "name": "python3",
      "display_name": "Python 3"
    },
    "language_info": {
      "name": "python"
    },
    "accelerator": "GPU"
  },
  "cells": [
    {
      "cell_type": "code",
      "execution_count": null,
      "metadata": {
        "colab": {
          "base_uri": "https://localhost:8080/"
        },
        "id": "urZYpfUJfz8f",
        "outputId": "9e2b2115-d738-4dc4-cac1-9cb3ce84bb9f"
      },
      "outputs": [
        {
          "output_type": "stream",
          "name": "stdout",
          "text": [
            "Requirement already satisfied: ultralytics in /usr/local/lib/python3.11/dist-packages (8.3.101)\n",
            "Requirement already satisfied: roboflow in /usr/local/lib/python3.11/dist-packages (1.1.60)\n",
            "Requirement already satisfied: numpy<=2.1.1,>=1.23.0 in /usr/local/lib/python3.11/dist-packages (from ultralytics) (2.0.2)\n",
            "Requirement already satisfied: matplotlib>=3.3.0 in /usr/local/lib/python3.11/dist-packages (from ultralytics) (3.10.0)\n",
            "Requirement already satisfied: opencv-python>=4.6.0 in /usr/local/lib/python3.11/dist-packages (from ultralytics) (4.11.0.86)\n",
            "Requirement already satisfied: pillow>=7.1.2 in /usr/local/lib/python3.11/dist-packages (from ultralytics) (11.1.0)\n",
            "Requirement already satisfied: pyyaml>=5.3.1 in /usr/local/lib/python3.11/dist-packages (from ultralytics) (6.0.2)\n",
            "Requirement already satisfied: requests>=2.23.0 in /usr/local/lib/python3.11/dist-packages (from ultralytics) (2.32.3)\n",
            "Requirement already satisfied: scipy>=1.4.1 in /usr/local/lib/python3.11/dist-packages (from ultralytics) (1.14.1)\n",
            "Requirement already satisfied: torch>=1.8.0 in /usr/local/lib/python3.11/dist-packages (from ultralytics) (2.6.0+cu124)\n",
            "Requirement already satisfied: torchvision>=0.9.0 in /usr/local/lib/python3.11/dist-packages (from ultralytics) (0.21.0+cu124)\n",
            "Requirement already satisfied: tqdm>=4.64.0 in /usr/local/lib/python3.11/dist-packages (from ultralytics) (4.67.1)\n",
            "Requirement already satisfied: psutil in /usr/local/lib/python3.11/dist-packages (from ultralytics) (5.9.5)\n",
            "Requirement already satisfied: py-cpuinfo in /usr/local/lib/python3.11/dist-packages (from ultralytics) (9.0.0)\n",
            "Requirement already satisfied: pandas>=1.1.4 in /usr/local/lib/python3.11/dist-packages (from ultralytics) (2.2.2)\n",
            "Requirement already satisfied: seaborn>=0.11.0 in /usr/local/lib/python3.11/dist-packages (from ultralytics) (0.13.2)\n",
            "Requirement already satisfied: ultralytics-thop>=2.0.0 in /usr/local/lib/python3.11/dist-packages (from ultralytics) (2.0.14)\n",
            "Requirement already satisfied: certifi in /usr/local/lib/python3.11/dist-packages (from roboflow) (2025.1.31)\n",
            "Requirement already satisfied: idna==3.7 in /usr/local/lib/python3.11/dist-packages (from roboflow) (3.7)\n",
            "Requirement already satisfied: cycler in /usr/local/lib/python3.11/dist-packages (from roboflow) (0.12.1)\n",
            "Requirement already satisfied: kiwisolver>=1.3.1 in /usr/local/lib/python3.11/dist-packages (from roboflow) (1.4.8)\n",
            "Requirement already satisfied: opencv-python-headless==4.10.0.84 in /usr/local/lib/python3.11/dist-packages (from roboflow) (4.10.0.84)\n",
            "Requirement already satisfied: pillow-heif>=0.18.0 in /usr/local/lib/python3.11/dist-packages (from roboflow) (0.22.0)\n",
            "Requirement already satisfied: python-dateutil in /usr/local/lib/python3.11/dist-packages (from roboflow) (2.8.2)\n",
            "Requirement already satisfied: python-dotenv in /usr/local/lib/python3.11/dist-packages (from roboflow) (1.1.0)\n",
            "Requirement already satisfied: six in /usr/local/lib/python3.11/dist-packages (from roboflow) (1.17.0)\n",
            "Requirement already satisfied: urllib3>=1.26.6 in /usr/local/lib/python3.11/dist-packages (from roboflow) (2.3.0)\n",
            "Requirement already satisfied: requests-toolbelt in /usr/local/lib/python3.11/dist-packages (from roboflow) (1.0.0)\n",
            "Requirement already satisfied: filetype in /usr/local/lib/python3.11/dist-packages (from roboflow) (1.2.0)\n",
            "Requirement already satisfied: contourpy>=1.0.1 in /usr/local/lib/python3.11/dist-packages (from matplotlib>=3.3.0->ultralytics) (1.3.1)\n",
            "Requirement already satisfied: fonttools>=4.22.0 in /usr/local/lib/python3.11/dist-packages (from matplotlib>=3.3.0->ultralytics) (4.56.0)\n",
            "Requirement already satisfied: packaging>=20.0 in /usr/local/lib/python3.11/dist-packages (from matplotlib>=3.3.0->ultralytics) (24.2)\n",
            "Requirement already satisfied: pyparsing>=2.3.1 in /usr/local/lib/python3.11/dist-packages (from matplotlib>=3.3.0->ultralytics) (3.2.3)\n",
            "Requirement already satisfied: pytz>=2020.1 in /usr/local/lib/python3.11/dist-packages (from pandas>=1.1.4->ultralytics) (2025.2)\n",
            "Requirement already satisfied: tzdata>=2022.7 in /usr/local/lib/python3.11/dist-packages (from pandas>=1.1.4->ultralytics) (2025.2)\n",
            "Requirement already satisfied: charset-normalizer<4,>=2 in /usr/local/lib/python3.11/dist-packages (from requests>=2.23.0->ultralytics) (3.4.1)\n",
            "Requirement already satisfied: filelock in /usr/local/lib/python3.11/dist-packages (from torch>=1.8.0->ultralytics) (3.18.0)\n",
            "Requirement already satisfied: typing-extensions>=4.10.0 in /usr/local/lib/python3.11/dist-packages (from torch>=1.8.0->ultralytics) (4.13.0)\n",
            "Requirement already satisfied: networkx in /usr/local/lib/python3.11/dist-packages (from torch>=1.8.0->ultralytics) (3.4.2)\n",
            "Requirement already satisfied: jinja2 in /usr/local/lib/python3.11/dist-packages (from torch>=1.8.0->ultralytics) (3.1.6)\n",
            "Requirement already satisfied: fsspec in /usr/local/lib/python3.11/dist-packages (from torch>=1.8.0->ultralytics) (2025.3.2)\n",
            "Requirement already satisfied: nvidia-cuda-nvrtc-cu12==12.4.127 in /usr/local/lib/python3.11/dist-packages (from torch>=1.8.0->ultralytics) (12.4.127)\n",
            "Requirement already satisfied: nvidia-cuda-runtime-cu12==12.4.127 in /usr/local/lib/python3.11/dist-packages (from torch>=1.8.0->ultralytics) (12.4.127)\n",
            "Requirement already satisfied: nvidia-cuda-cupti-cu12==12.4.127 in /usr/local/lib/python3.11/dist-packages (from torch>=1.8.0->ultralytics) (12.4.127)\n",
            "Requirement already satisfied: nvidia-cudnn-cu12==9.1.0.70 in /usr/local/lib/python3.11/dist-packages (from torch>=1.8.0->ultralytics) (9.1.0.70)\n",
            "Requirement already satisfied: nvidia-cublas-cu12==12.4.5.8 in /usr/local/lib/python3.11/dist-packages (from torch>=1.8.0->ultralytics) (12.4.5.8)\n",
            "Requirement already satisfied: nvidia-cufft-cu12==11.2.1.3 in /usr/local/lib/python3.11/dist-packages (from torch>=1.8.0->ultralytics) (11.2.1.3)\n",
            "Requirement already satisfied: nvidia-curand-cu12==10.3.5.147 in /usr/local/lib/python3.11/dist-packages (from torch>=1.8.0->ultralytics) (10.3.5.147)\n",
            "Requirement already satisfied: nvidia-cusolver-cu12==11.6.1.9 in /usr/local/lib/python3.11/dist-packages (from torch>=1.8.0->ultralytics) (11.6.1.9)\n",
            "Requirement already satisfied: nvidia-cusparse-cu12==12.3.1.170 in /usr/local/lib/python3.11/dist-packages (from torch>=1.8.0->ultralytics) (12.3.1.170)\n",
            "Requirement already satisfied: nvidia-cusparselt-cu12==0.6.2 in /usr/local/lib/python3.11/dist-packages (from torch>=1.8.0->ultralytics) (0.6.2)\n",
            "Requirement already satisfied: nvidia-nccl-cu12==2.21.5 in /usr/local/lib/python3.11/dist-packages (from torch>=1.8.0->ultralytics) (2.21.5)\n",
            "Requirement already satisfied: nvidia-nvtx-cu12==12.4.127 in /usr/local/lib/python3.11/dist-packages (from torch>=1.8.0->ultralytics) (12.4.127)\n",
            "Requirement already satisfied: nvidia-nvjitlink-cu12==12.4.127 in /usr/local/lib/python3.11/dist-packages (from torch>=1.8.0->ultralytics) (12.4.127)\n",
            "Requirement already satisfied: triton==3.2.0 in /usr/local/lib/python3.11/dist-packages (from torch>=1.8.0->ultralytics) (3.2.0)\n",
            "Requirement already satisfied: sympy==1.13.1 in /usr/local/lib/python3.11/dist-packages (from torch>=1.8.0->ultralytics) (1.13.1)\n",
            "Requirement already satisfied: mpmath<1.4,>=1.1.0 in /usr/local/lib/python3.11/dist-packages (from sympy==1.13.1->torch>=1.8.0->ultralytics) (1.3.0)\n",
            "Requirement already satisfied: MarkupSafe>=2.0 in /usr/local/lib/python3.11/dist-packages (from jinja2->torch>=1.8.0->ultralytics) (3.0.2)\n"
          ]
        }
      ],
      "source": [
        "\"\"\"\n",
        "YOLOv3 Training Script for Google Colab\n",
        "This script sets up the environment, downloads your Roboflow dataset, and trains a YOLOv3 model.\n",
        "\"\"\"\n",
        "\n",
        "# INITIAL SETUP\n",
        "!pip install ultralytics roboflow\n"
      ]
    },
    {
      "cell_type": "code",
      "source": [
        "from ultralytics import YOLO\n",
        "import os\n",
        "from google.colab import drive\n",
        "from roboflow import Roboflow"
      ],
      "metadata": {
        "id": "KH5FIUPdgA1f"
      },
      "execution_count": null,
      "outputs": []
    },
    {
      "cell_type": "code",
      "source": [
        "# Mount Google Drive to save models\n",
        "drive.mount('/content/drive')\n",
        "save_dir = '/content/drive/MyDrive/yolov3tiny_training'\n",
        "os.makedirs(save_dir, exist_ok=True)"
      ],
      "metadata": {
        "colab": {
          "base_uri": "https://localhost:8080/"
        },
        "id": "5jJANN8RgCXe",
        "outputId": "c9556ffc-a900-47e4-c8a3-7bcc4e880886"
      },
      "execution_count": null,
      "outputs": [
        {
          "output_type": "stream",
          "name": "stdout",
          "text": [
            "Drive already mounted at /content/drive; to attempt to forcibly remount, call drive.mount(\"/content/drive\", force_remount=True).\n"
          ]
        }
      ]
    },
    {
      "cell_type": "code",
      "source": [
        "# DOWNLOAD DATASET FROM ROBOFLOW\n",
        "rf = Roboflow(api_key=\"GxIQV8VK2SzzOLiapv3z\")\n",
        "project = rf.workspace(\"ais4002-assigment\").project(\"my-first-project-cyllk\")\n",
        "version = project.version(2)\n",
        "dataset = version.download(\"yolov8\")"
      ],
      "metadata": {
        "colab": {
          "base_uri": "https://localhost:8080/"
        },
        "id": "wLFIsfnOgG_a",
        "outputId": "42a89236-543e-4255-a635-3e7220e51b3c"
      },
      "execution_count": null,
      "outputs": [
        {
          "output_type": "stream",
          "name": "stdout",
          "text": [
            "loading Roboflow workspace...\n",
            "loading Roboflow project...\n"
          ]
        }
      ]
    },
    {
      "cell_type": "code",
      "source": [
        "# Print dataset information\n",
        "print(f\"Dataset downloaded to: {dataset.location}\")\n",
        "print(f\"Data configuration file: {dataset.location}/data.yaml\")\n"
      ],
      "metadata": {
        "colab": {
          "base_uri": "https://localhost:8080/"
        },
        "id": "Lh6OefW-gSJM",
        "outputId": "c98f0a22-4e1b-43e0-9b06-34c590a8a7a8"
      },
      "execution_count": null,
      "outputs": [
        {
          "output_type": "stream",
          "name": "stdout",
          "text": [
            "Dataset downloaded to: /content/My-First-Project-2\n",
            "Data configuration file: /content/My-First-Project-2/data.yaml\n"
          ]
        }
      ]
    },
    {
      "cell_type": "code",
      "source": [
        "# TRAIN THE MODEL\n",
        "# YOLOv3-tiny is the lightweight version, similar to YOLOv8n\n",
        "model = YOLO('yolov3-tiny.pt')  # Load pre-trained YOLOv3-tiny model"
      ],
      "metadata": {
        "colab": {
          "base_uri": "https://localhost:8080/"
        },
        "id": "whP0mF2igUEs",
        "outputId": "6e77be6e-102f-4ab8-96b2-3b3465e5d5cb"
      },
      "execution_count": null,
      "outputs": [
        {
          "output_type": "stream",
          "name": "stdout",
          "text": [
            "PRO TIP 💡 Replace 'model=yolov3-tiny.pt' with new 'model=yolov3-tinyu.pt'.\n",
            "YOLOv5 'u' models are trained with https://github.com/ultralytics/ultralytics and feature improved performance vs standard YOLOv5 models trained with https://github.com/ultralytics/yolov5.\n",
            "\n",
            "Downloading https://github.com/ultralytics/assets/releases/download/v8.3.0/yolov3-tinyu.pt to 'yolov3-tinyu.pt'...\n"
          ]
        },
        {
          "output_type": "stream",
          "name": "stderr",
          "text": [
            "100%|██████████| 23.3M/23.3M [00:00<00:00, 37.6MB/s]\n"
          ]
        }
      ]
    },
    {
      "cell_type": "code",
      "source": [
        "# TRAINING CONFIGURATION\n",
        "# Modified parameters appropriate for YOLOv3\n",
        "epochs = 100             # For small dataset, 100-150 epochs is often sufficient\n",
        "batch_size = 16          # Smaller batch size for limited VRAM\n",
        "image_size = 640         # Standard YOLOv3 input size\n",
        "patience = 20            # Early stopping patience\n",
        "\n",
        "# Start training\n",
        "results = model.train(\n",
        "    data=f\"{dataset.location}/data.yaml\",\n",
        "    epochs=epochs,\n",
        "    batch=batch_size,\n",
        "    imgsz=image_size,\n",
        "    patience=patience,\n",
        "    project=save_dir,\n",
        "    name='yolov3tiny_custom',\n",
        "    exist_ok=True,\n",
        "    pretrained=True,\n",
        "    optimizer=\"AdamW\",   # Advanced optimizer\n",
        "    cos_lr=True,         # Cosine learning rate schedule\n",
        "    lr0=0.001,           # Initial learning rate\n",
        "    lrf=0.01,            # Final learning rate ratio\n",
        "    weight_decay=0.0001, # Weight decay\n",
        "    warmup_epochs=3,     # Warmup epochs\n",
        "    seed=0,                 # For reproducibility\n",
        "    device=0,               # Use GPU 0\n",
        ")"
      ],
      "metadata": {
        "colab": {
          "base_uri": "https://localhost:8080/"
        },
        "id": "8wHuA4BxgWeS",
        "outputId": "0303395d-7c26-4f4a-9e3f-e433d0bbe1ec"
      },
      "execution_count": null,
      "outputs": [
        {
          "output_type": "stream",
          "name": "stdout",
          "text": [
            "Ultralytics 8.3.101 🚀 Python-3.11.11 torch-2.6.0+cu124 CUDA:0 (Tesla T4, 15095MiB)\n",
            "\u001b[34m\u001b[1mengine/trainer: \u001b[0mtask=detect, mode=train, model=yolov3-tiny.pt, data=/content/My-First-Project-2/data.yaml, epochs=100, time=None, patience=20, batch=16, imgsz=640, save=True, save_period=-1, cache=False, device=0, workers=8, project=/content/drive/MyDrive/yolov3tiny_training, name=yolov3tiny_custom, exist_ok=True, pretrained=True, optimizer=AdamW, verbose=True, seed=0, deterministic=True, single_cls=False, rect=False, cos_lr=True, close_mosaic=10, resume=False, amp=True, fraction=1.0, profile=False, freeze=None, multi_scale=False, overlap_mask=True, mask_ratio=4, dropout=0.0, val=True, split=val, save_json=False, save_hybrid=False, conf=None, iou=0.7, max_det=300, half=False, dnn=False, plots=True, source=None, vid_stride=1, stream_buffer=False, visualize=False, augment=False, agnostic_nms=False, classes=None, retina_masks=False, embed=None, show=False, save_frames=False, save_txt=False, save_conf=False, save_crop=False, show_labels=True, show_conf=True, show_boxes=True, line_width=None, format=torchscript, keras=False, optimize=False, int8=False, dynamic=False, simplify=True, opset=None, workspace=None, nms=False, lr0=0.001, lrf=0.01, momentum=0.937, weight_decay=0.0001, warmup_epochs=3, warmup_momentum=0.8, warmup_bias_lr=0.1, box=7.5, cls=0.5, dfl=1.5, pose=12.0, kobj=1.0, nbs=64, hsv_h=0.015, hsv_s=0.7, hsv_v=0.4, degrees=0.0, translate=0.1, scale=0.5, shear=0.0, perspective=0.0, flipud=0.0, fliplr=0.5, bgr=0.0, mosaic=1.0, mixup=0.0, copy_paste=0.0, copy_paste_mode=flip, auto_augment=randaugment, erasing=0.4, crop_fraction=1.0, cfg=None, tracker=botsort.yaml, save_dir=/content/drive/MyDrive/yolov3tiny_training/yolov3tiny_custom\n",
            "Overriding model.yaml nc=80 with nc=1\n",
            "\n",
            "                   from  n    params  module                                       arguments                     \n",
            "  0                  -1  1       464  ultralytics.nn.modules.conv.Conv             [3, 16, 3, 1]                 \n",
            "  1                  -1  1         0  torch.nn.modules.pooling.MaxPool2d           [2, 2, 0]                     \n",
            "  2                  -1  1      4672  ultralytics.nn.modules.conv.Conv             [16, 32, 3, 1]                \n",
            "  3                  -1  1         0  torch.nn.modules.pooling.MaxPool2d           [2, 2, 0]                     \n",
            "  4                  -1  1     18560  ultralytics.nn.modules.conv.Conv             [32, 64, 3, 1]                \n",
            "  5                  -1  1         0  torch.nn.modules.pooling.MaxPool2d           [2, 2, 0]                     \n",
            "  6                  -1  1     73984  ultralytics.nn.modules.conv.Conv             [64, 128, 3, 1]               \n",
            "  7                  -1  1         0  torch.nn.modules.pooling.MaxPool2d           [2, 2, 0]                     \n",
            "  8                  -1  1    295424  ultralytics.nn.modules.conv.Conv             [128, 256, 3, 1]              \n",
            "  9                  -1  1         0  torch.nn.modules.pooling.MaxPool2d           [2, 2, 0]                     \n",
            " 10                  -1  1   1180672  ultralytics.nn.modules.conv.Conv             [256, 512, 3, 1]              \n",
            " 11                  -1  1         0  torch.nn.modules.padding.ZeroPad2d           [[0, 1, 0, 1]]                \n",
            " 12                  -1  1         0  torch.nn.modules.pooling.MaxPool2d           [2, 1, 0]                     \n",
            " 13                  -1  1   4720640  ultralytics.nn.modules.conv.Conv             [512, 1024, 3, 1]             \n",
            " 14                  -1  1    262656  ultralytics.nn.modules.conv.Conv             [1024, 256, 1, 1]             \n",
            " 15                  -1  1   1180672  ultralytics.nn.modules.conv.Conv             [256, 512, 3, 1]              \n",
            " 16                  -2  1     33024  ultralytics.nn.modules.conv.Conv             [256, 128, 1, 1]              \n",
            " 17                  -1  1         0  torch.nn.modules.upsampling.Upsample         [None, 2, 'nearest']          \n",
            " 18             [-1, 8]  1         0  ultralytics.nn.modules.conv.Concat           [1]                           \n",
            " 19                  -1  1    885248  ultralytics.nn.modules.conv.Conv             [384, 256, 3, 1]              \n",
            " 20            [19, 15]  1   3476626  ultralytics.nn.modules.head.Detect           [1, [256, 512]]               \n",
            "YOLOv3-tiny summary: 53 layers, 12,132,642 parameters, 12,132,626 gradients, 19.0 GFLOPs\n",
            "\n",
            "Transferred 119/123 items from pretrained weights\n",
            "\u001b[34m\u001b[1mTensorBoard: \u001b[0mStart with 'tensorboard --logdir /content/drive/MyDrive/yolov3tiny_training/yolov3tiny_custom', view at http://localhost:6006/\n",
            "Freezing layer 'model.20.dfl.conv.weight'\n",
            "\u001b[34m\u001b[1mAMP: \u001b[0mrunning Automatic Mixed Precision (AMP) checks...\n",
            "\u001b[34m\u001b[1mAMP: \u001b[0mchecks passed ✅\n"
          ]
        },
        {
          "output_type": "stream",
          "name": "stderr",
          "text": [
            "\u001b[34m\u001b[1mtrain: \u001b[0mScanning /content/My-First-Project-2/train/labels.cache... 603 images, 255 backgrounds, 0 corrupt: 100%|██████████| 603/603 [00:00<?, ?it/s]"
          ]
        },
        {
          "output_type": "stream",
          "name": "stdout",
          "text": [
            "\u001b[34m\u001b[1malbumentations: \u001b[0mBlur(p=0.01, blur_limit=(3, 7)), MedianBlur(p=0.01, blur_limit=(3, 7)), ToGray(p=0.01, num_output_channels=3, method='weighted_average'), CLAHE(p=0.01, clip_limit=(1.0, 4.0), tile_grid_size=(8, 8))\n"
          ]
        },
        {
          "output_type": "stream",
          "name": "stderr",
          "text": [
            "\n",
            "\u001b[34m\u001b[1mval: \u001b[0mScanning /content/My-First-Project-2/valid/labels.cache... 42 images, 24 backgrounds, 0 corrupt: 100%|██████████| 42/42 [00:00<?, ?it/s]\n"
          ]
        },
        {
          "output_type": "stream",
          "name": "stdout",
          "text": [
            "Plotting labels to /content/drive/MyDrive/yolov3tiny_training/yolov3tiny_custom/labels.jpg... \n",
            "\u001b[34m\u001b[1moptimizer:\u001b[0m AdamW(lr=0.001, momentum=0.937) with parameter groups 19 weight(decay=0.0), 24 weight(decay=0.0001), 23 bias(decay=0.0)\n",
            "\u001b[34m\u001b[1mTensorBoard: \u001b[0mmodel graph visualization added ✅\n",
            "Image sizes 640 train, 640 val\n",
            "Using 2 dataloader workers\n",
            "Logging results to \u001b[1m/content/drive/MyDrive/yolov3tiny_training/yolov3tiny_custom\u001b[0m\n",
            "Starting training for 100 epochs...\n",
            "\n",
            "      Epoch    GPU_mem   box_loss   cls_loss   dfl_loss  Instances       Size\n"
          ]
        },
        {
          "output_type": "stream",
          "name": "stderr",
          "text": [
            "      1/100      14.5G      2.371      2.893      1.491         27        640: 100%|██████████| 38/38 [00:12<00:00,  2.96it/s]\n",
            "                 Class     Images  Instances      Box(P          R      mAP50  mAP50-95): 100%|██████████| 2/2 [00:00<00:00,  2.68it/s]"
          ]
        },
        {
          "output_type": "stream",
          "name": "stdout",
          "text": [
            "                   all         42         87      0.655      0.598      0.617      0.301\n"
          ]
        },
        {
          "output_type": "stream",
          "name": "stderr",
          "text": [
            "\n"
          ]
        },
        {
          "output_type": "stream",
          "name": "stdout",
          "text": [
            "\n",
            "      Epoch    GPU_mem   box_loss   cls_loss   dfl_loss  Instances       Size\n"
          ]
        },
        {
          "output_type": "stream",
          "name": "stderr",
          "text": [
            "      2/100      14.2G      2.074       1.69      1.286         33        640: 100%|██████████| 38/38 [00:12<00:00,  2.99it/s]\n",
            "                 Class     Images  Instances      Box(P          R      mAP50  mAP50-95): 100%|██████████| 2/2 [00:00<00:00,  3.09it/s]"
          ]
        },
        {
          "output_type": "stream",
          "name": "stdout",
          "text": [
            "                   all         42         87      0.686      0.527      0.597      0.348\n"
          ]
        },
        {
          "output_type": "stream",
          "name": "stderr",
          "text": [
            "\n"
          ]
        },
        {
          "output_type": "stream",
          "name": "stdout",
          "text": [
            "\n",
            "      Epoch    GPU_mem   box_loss   cls_loss   dfl_loss  Instances       Size\n"
          ]
        },
        {
          "output_type": "stream",
          "name": "stderr",
          "text": [
            "      3/100      14.1G      2.109      1.595      1.321         27        640: 100%|██████████| 38/38 [00:12<00:00,  3.12it/s]\n",
            "                 Class     Images  Instances      Box(P          R      mAP50  mAP50-95): 100%|██████████| 2/2 [00:00<00:00,  3.59it/s]"
          ]
        },
        {
          "output_type": "stream",
          "name": "stdout",
          "text": [
            "                   all         42         87      0.608      0.609      0.583      0.317\n"
          ]
        },
        {
          "output_type": "stream",
          "name": "stderr",
          "text": [
            "\n"
          ]
        },
        {
          "output_type": "stream",
          "name": "stdout",
          "text": [
            "\n",
            "      Epoch    GPU_mem   box_loss   cls_loss   dfl_loss  Instances       Size\n"
          ]
        },
        {
          "output_type": "stream",
          "name": "stderr",
          "text": [
            "      4/100      14.2G      2.042      1.567       1.26         19        640: 100%|██████████| 38/38 [00:12<00:00,  3.13it/s]\n",
            "                 Class     Images  Instances      Box(P          R      mAP50  mAP50-95): 100%|██████████| 2/2 [00:00<00:00,  3.49it/s]"
          ]
        },
        {
          "output_type": "stream",
          "name": "stdout",
          "text": [
            "                   all         42         87      0.644       0.69      0.692      0.377\n"
          ]
        },
        {
          "output_type": "stream",
          "name": "stderr",
          "text": [
            "\n"
          ]
        },
        {
          "output_type": "stream",
          "name": "stdout",
          "text": [
            "\n",
            "      Epoch    GPU_mem   box_loss   cls_loss   dfl_loss  Instances       Size\n"
          ]
        },
        {
          "output_type": "stream",
          "name": "stderr",
          "text": [
            "      5/100      13.7G      2.074      1.588      1.317         15        640: 100%|██████████| 38/38 [00:14<00:00,  2.57it/s]\n",
            "                 Class     Images  Instances      Box(P          R      mAP50  mAP50-95): 100%|██████████| 2/2 [00:00<00:00,  3.78it/s]"
          ]
        },
        {
          "output_type": "stream",
          "name": "stdout",
          "text": [
            "                   all         42         87      0.637      0.666      0.675      0.339\n"
          ]
        },
        {
          "output_type": "stream",
          "name": "stderr",
          "text": [
            "\n"
          ]
        },
        {
          "output_type": "stream",
          "name": "stdout",
          "text": [
            "\n",
            "      Epoch    GPU_mem   box_loss   cls_loss   dfl_loss  Instances       Size\n"
          ]
        },
        {
          "output_type": "stream",
          "name": "stderr",
          "text": [
            "      6/100      13.9G      2.073      1.495      1.288         40        640: 100%|██████████| 38/38 [00:18<00:00,  2.07it/s]\n",
            "                 Class     Images  Instances      Box(P          R      mAP50  mAP50-95): 100%|██████████| 2/2 [00:00<00:00,  4.07it/s]"
          ]
        },
        {
          "output_type": "stream",
          "name": "stdout",
          "text": [
            "                   all         42         87      0.645       0.73      0.717       0.39\n"
          ]
        },
        {
          "output_type": "stream",
          "name": "stderr",
          "text": [
            "\n"
          ]
        },
        {
          "output_type": "stream",
          "name": "stdout",
          "text": [
            "\n",
            "      Epoch    GPU_mem   box_loss   cls_loss   dfl_loss  Instances       Size\n"
          ]
        },
        {
          "output_type": "stream",
          "name": "stderr",
          "text": [
            "      7/100      14.1G      2.012      1.486      1.245         31        640: 100%|██████████| 38/38 [00:12<00:00,  3.09it/s]\n",
            "                 Class     Images  Instances      Box(P          R      mAP50  mAP50-95): 100%|██████████| 2/2 [00:00<00:00,  3.46it/s]"
          ]
        },
        {
          "output_type": "stream",
          "name": "stdout",
          "text": [
            "                   all         42         87      0.797      0.644      0.761      0.427\n"
          ]
        },
        {
          "output_type": "stream",
          "name": "stderr",
          "text": [
            "\n"
          ]
        },
        {
          "output_type": "stream",
          "name": "stdout",
          "text": [
            "\n",
            "      Epoch    GPU_mem   box_loss   cls_loss   dfl_loss  Instances       Size\n"
          ]
        },
        {
          "output_type": "stream",
          "name": "stderr",
          "text": [
            "      8/100      14.2G      1.974       1.44      1.235         27        640: 100%|██████████| 38/38 [00:12<00:00,  3.09it/s]\n",
            "                 Class     Images  Instances      Box(P          R      mAP50  mAP50-95): 100%|██████████| 2/2 [00:00<00:00,  3.08it/s]"
          ]
        },
        {
          "output_type": "stream",
          "name": "stdout",
          "text": [
            "                   all         42         87      0.705       0.74      0.754      0.327\n"
          ]
        },
        {
          "output_type": "stream",
          "name": "stderr",
          "text": [
            "\n"
          ]
        },
        {
          "output_type": "stream",
          "name": "stdout",
          "text": [
            "\n",
            "      Epoch    GPU_mem   box_loss   cls_loss   dfl_loss  Instances       Size\n"
          ]
        },
        {
          "output_type": "stream",
          "name": "stderr",
          "text": [
            "      9/100      13.7G      1.963      1.427       1.25         32        640: 100%|██████████| 38/38 [00:11<00:00,  3.17it/s]\n",
            "                 Class     Images  Instances      Box(P          R      mAP50  mAP50-95): 100%|██████████| 2/2 [00:00<00:00,  3.59it/s]"
          ]
        },
        {
          "output_type": "stream",
          "name": "stdout",
          "text": [
            "                   all         42         87      0.687      0.724      0.736      0.453\n"
          ]
        },
        {
          "output_type": "stream",
          "name": "stderr",
          "text": [
            "\n"
          ]
        },
        {
          "output_type": "stream",
          "name": "stdout",
          "text": [
            "\n",
            "      Epoch    GPU_mem   box_loss   cls_loss   dfl_loss  Instances       Size\n"
          ]
        },
        {
          "output_type": "stream",
          "name": "stderr",
          "text": [
            "     10/100      13.9G      1.911      1.326       1.23         26        640: 100%|██████████| 38/38 [00:12<00:00,  3.12it/s]\n",
            "                 Class     Images  Instances      Box(P          R      mAP50  mAP50-95): 100%|██████████| 2/2 [00:00<00:00,  3.45it/s]"
          ]
        },
        {
          "output_type": "stream",
          "name": "stdout",
          "text": [
            "                   all         42         87      0.814      0.706      0.762      0.473\n"
          ]
        },
        {
          "output_type": "stream",
          "name": "stderr",
          "text": [
            "\n"
          ]
        },
        {
          "output_type": "stream",
          "name": "stdout",
          "text": [
            "\n",
            "      Epoch    GPU_mem   box_loss   cls_loss   dfl_loss  Instances       Size\n"
          ]
        },
        {
          "output_type": "stream",
          "name": "stderr",
          "text": [
            "     11/100      14.1G      1.921      1.327      1.179         29        640: 100%|██████████| 38/38 [00:12<00:00,  3.09it/s]\n",
            "                 Class     Images  Instances      Box(P          R      mAP50  mAP50-95): 100%|██████████| 2/2 [00:00<00:00,  3.70it/s]"
          ]
        },
        {
          "output_type": "stream",
          "name": "stdout",
          "text": [
            "                   all         42         87       0.93      0.607      0.784      0.469\n"
          ]
        },
        {
          "output_type": "stream",
          "name": "stderr",
          "text": [
            "\n"
          ]
        },
        {
          "output_type": "stream",
          "name": "stdout",
          "text": [
            "\n",
            "      Epoch    GPU_mem   box_loss   cls_loss   dfl_loss  Instances       Size\n"
          ]
        },
        {
          "output_type": "stream",
          "name": "stderr",
          "text": [
            "     12/100      14.2G      1.843      1.261      1.182         28        640: 100%|██████████| 38/38 [00:11<00:00,  3.38it/s]\n",
            "                 Class     Images  Instances      Box(P          R      mAP50  mAP50-95): 100%|██████████| 2/2 [00:00<00:00,  2.66it/s]"
          ]
        },
        {
          "output_type": "stream",
          "name": "stdout",
          "text": [
            "                   all         42         87      0.864      0.736      0.809      0.497\n"
          ]
        },
        {
          "output_type": "stream",
          "name": "stderr",
          "text": [
            "\n"
          ]
        },
        {
          "output_type": "stream",
          "name": "stdout",
          "text": [
            "\n",
            "      Epoch    GPU_mem   box_loss   cls_loss   dfl_loss  Instances       Size\n"
          ]
        },
        {
          "output_type": "stream",
          "name": "stderr",
          "text": [
            "     13/100      13.7G      1.783       1.18      1.162         36        640: 100%|██████████| 38/38 [00:11<00:00,  3.42it/s]\n",
            "                 Class     Images  Instances      Box(P          R      mAP50  mAP50-95): 100%|██████████| 2/2 [00:00<00:00,  2.66it/s]"
          ]
        },
        {
          "output_type": "stream",
          "name": "stdout",
          "text": [
            "                   all         42         87      0.836      0.759        0.8      0.493\n"
          ]
        },
        {
          "output_type": "stream",
          "name": "stderr",
          "text": [
            "\n"
          ]
        },
        {
          "output_type": "stream",
          "name": "stdout",
          "text": [
            "\n",
            "      Epoch    GPU_mem   box_loss   cls_loss   dfl_loss  Instances       Size\n"
          ]
        },
        {
          "output_type": "stream",
          "name": "stderr",
          "text": [
            "     14/100      13.9G      1.873      1.204      1.208         37        640: 100%|██████████| 38/38 [00:11<00:00,  3.39it/s]\n",
            "                 Class     Images  Instances      Box(P          R      mAP50  mAP50-95): 100%|██████████| 2/2 [00:00<00:00,  2.61it/s]"
          ]
        },
        {
          "output_type": "stream",
          "name": "stdout",
          "text": [
            "                   all         42         87       0.82      0.805      0.843      0.459\n"
          ]
        },
        {
          "output_type": "stream",
          "name": "stderr",
          "text": [
            "\n"
          ]
        },
        {
          "output_type": "stream",
          "name": "stdout",
          "text": [
            "\n",
            "      Epoch    GPU_mem   box_loss   cls_loss   dfl_loss  Instances       Size\n"
          ]
        },
        {
          "output_type": "stream",
          "name": "stderr",
          "text": [
            "     15/100      14.1G      1.858      1.178      1.182         46        640: 100%|██████████| 38/38 [00:10<00:00,  3.58it/s]\n",
            "                 Class     Images  Instances      Box(P          R      mAP50  mAP50-95): 100%|██████████| 2/2 [00:00<00:00,  2.69it/s]"
          ]
        },
        {
          "output_type": "stream",
          "name": "stdout",
          "text": [
            "                   all         42         87      0.866      0.724      0.834      0.452\n"
          ]
        },
        {
          "output_type": "stream",
          "name": "stderr",
          "text": [
            "\n"
          ]
        },
        {
          "output_type": "stream",
          "name": "stdout",
          "text": [
            "\n",
            "      Epoch    GPU_mem   box_loss   cls_loss   dfl_loss  Instances       Size\n"
          ]
        },
        {
          "output_type": "stream",
          "name": "stderr",
          "text": [
            "     16/100      14.2G      1.812      1.211      1.177         22        640: 100%|██████████| 38/38 [00:11<00:00,  3.37it/s]\n",
            "                 Class     Images  Instances      Box(P          R      mAP50  mAP50-95): 100%|██████████| 2/2 [00:00<00:00,  3.79it/s]"
          ]
        },
        {
          "output_type": "stream",
          "name": "stdout",
          "text": [
            "                   all         42         87      0.855      0.713       0.79      0.484\n"
          ]
        },
        {
          "output_type": "stream",
          "name": "stderr",
          "text": [
            "\n"
          ]
        },
        {
          "output_type": "stream",
          "name": "stdout",
          "text": [
            "\n",
            "      Epoch    GPU_mem   box_loss   cls_loss   dfl_loss  Instances       Size\n"
          ]
        },
        {
          "output_type": "stream",
          "name": "stderr",
          "text": [
            "     17/100      13.7G      1.784      1.161      1.154         72        640: 100%|██████████| 38/38 [00:12<00:00,  3.16it/s]\n",
            "                 Class     Images  Instances      Box(P          R      mAP50  mAP50-95): 100%|██████████| 2/2 [00:00<00:00,  3.48it/s]"
          ]
        },
        {
          "output_type": "stream",
          "name": "stdout",
          "text": [
            "                   all         42         87      0.804      0.754      0.804      0.491\n"
          ]
        },
        {
          "output_type": "stream",
          "name": "stderr",
          "text": [
            "\n"
          ]
        },
        {
          "output_type": "stream",
          "name": "stdout",
          "text": [
            "\n",
            "      Epoch    GPU_mem   box_loss   cls_loss   dfl_loss  Instances       Size\n"
          ]
        },
        {
          "output_type": "stream",
          "name": "stderr",
          "text": [
            "     18/100      13.9G      1.714      1.106      1.152         26        640: 100%|██████████| 38/38 [00:12<00:00,  3.14it/s]\n",
            "                 Class     Images  Instances      Box(P          R      mAP50  mAP50-95): 100%|██████████| 2/2 [00:00<00:00,  2.80it/s]\n"
          ]
        },
        {
          "output_type": "stream",
          "name": "stdout",
          "text": [
            "                   all         42         87      0.861      0.724      0.785      0.468\n",
            "\n",
            "      Epoch    GPU_mem   box_loss   cls_loss   dfl_loss  Instances       Size\n"
          ]
        },
        {
          "output_type": "stream",
          "name": "stderr",
          "text": [
            "     19/100      14.1G      1.757      1.097      1.131         33        640: 100%|██████████| 38/38 [00:12<00:00,  3.00it/s]\n",
            "                 Class     Images  Instances      Box(P          R      mAP50  mAP50-95): 100%|██████████| 2/2 [00:00<00:00,  4.00it/s]"
          ]
        },
        {
          "output_type": "stream",
          "name": "stdout",
          "text": [
            "                   all         42         87      0.888      0.713      0.796      0.374\n"
          ]
        },
        {
          "output_type": "stream",
          "name": "stderr",
          "text": [
            "\n"
          ]
        },
        {
          "output_type": "stream",
          "name": "stdout",
          "text": [
            "\n",
            "      Epoch    GPU_mem   box_loss   cls_loss   dfl_loss  Instances       Size\n"
          ]
        },
        {
          "output_type": "stream",
          "name": "stderr",
          "text": [
            "     20/100      14.2G      1.763      1.133      1.161         44        640: 100%|██████████| 38/38 [00:11<00:00,  3.23it/s]\n",
            "                 Class     Images  Instances      Box(P          R      mAP50  mAP50-95): 100%|██████████| 2/2 [00:00<00:00,  3.15it/s]"
          ]
        },
        {
          "output_type": "stream",
          "name": "stdout",
          "text": [
            "                   all         42         87      0.863      0.701      0.798      0.496\n"
          ]
        },
        {
          "output_type": "stream",
          "name": "stderr",
          "text": [
            "\n"
          ]
        },
        {
          "output_type": "stream",
          "name": "stdout",
          "text": [
            "\n",
            "      Epoch    GPU_mem   box_loss   cls_loss   dfl_loss  Instances       Size\n"
          ]
        },
        {
          "output_type": "stream",
          "name": "stderr",
          "text": [
            "     21/100      13.7G      1.701      1.103      1.134         26        640: 100%|██████████| 38/38 [00:11<00:00,  3.22it/s]\n",
            "                 Class     Images  Instances      Box(P          R      mAP50  mAP50-95): 100%|██████████| 2/2 [00:00<00:00,  3.44it/s]"
          ]
        },
        {
          "output_type": "stream",
          "name": "stdout",
          "text": [
            "                   all         42         87      0.924      0.759      0.855      0.516\n"
          ]
        },
        {
          "output_type": "stream",
          "name": "stderr",
          "text": [
            "\n"
          ]
        },
        {
          "output_type": "stream",
          "name": "stdout",
          "text": [
            "\n",
            "      Epoch    GPU_mem   box_loss   cls_loss   dfl_loss  Instances       Size\n"
          ]
        },
        {
          "output_type": "stream",
          "name": "stderr",
          "text": [
            "     22/100      13.9G      1.656      1.045      1.126         35        640: 100%|██████████| 38/38 [00:12<00:00,  3.09it/s]\n",
            "                 Class     Images  Instances      Box(P          R      mAP50  mAP50-95): 100%|██████████| 2/2 [00:00<00:00,  4.59it/s]"
          ]
        },
        {
          "output_type": "stream",
          "name": "stdout",
          "text": [
            "                   all         42         87      0.871      0.805      0.826      0.506\n"
          ]
        },
        {
          "output_type": "stream",
          "name": "stderr",
          "text": [
            "\n"
          ]
        },
        {
          "output_type": "stream",
          "name": "stdout",
          "text": [
            "\n",
            "      Epoch    GPU_mem   box_loss   cls_loss   dfl_loss  Instances       Size\n"
          ]
        },
        {
          "output_type": "stream",
          "name": "stderr",
          "text": [
            "     23/100      14.1G      1.627      1.059      1.093         16        640: 100%|██████████| 38/38 [00:11<00:00,  3.21it/s]\n",
            "                 Class     Images  Instances      Box(P          R      mAP50  mAP50-95): 100%|██████████| 2/2 [00:00<00:00,  3.52it/s]\n"
          ]
        },
        {
          "output_type": "stream",
          "name": "stdout",
          "text": [
            "                   all         42         87      0.926      0.721      0.825      0.509\n",
            "\n",
            "      Epoch    GPU_mem   box_loss   cls_loss   dfl_loss  Instances       Size\n"
          ]
        },
        {
          "output_type": "stream",
          "name": "stderr",
          "text": [
            "     24/100      14.2G      1.704      1.114      1.133         15        640: 100%|██████████| 38/38 [00:11<00:00,  3.27it/s]\n",
            "                 Class     Images  Instances      Box(P          R      mAP50  mAP50-95): 100%|██████████| 2/2 [00:00<00:00,  2.57it/s]"
          ]
        },
        {
          "output_type": "stream",
          "name": "stdout",
          "text": [
            "                   all         42         87      0.893      0.805       0.88      0.534\n"
          ]
        },
        {
          "output_type": "stream",
          "name": "stderr",
          "text": [
            "\n"
          ]
        },
        {
          "output_type": "stream",
          "name": "stdout",
          "text": [
            "\n",
            "      Epoch    GPU_mem   box_loss   cls_loss   dfl_loss  Instances       Size\n"
          ]
        },
        {
          "output_type": "stream",
          "name": "stderr",
          "text": [
            "     25/100      13.7G      1.654      1.062      1.104         43        640: 100%|██████████| 38/38 [00:10<00:00,  3.50it/s]\n",
            "                 Class     Images  Instances      Box(P          R      mAP50  mAP50-95): 100%|██████████| 2/2 [00:00<00:00,  2.70it/s]"
          ]
        },
        {
          "output_type": "stream",
          "name": "stdout",
          "text": [
            "                   all         42         87      0.858      0.759      0.848      0.501\n"
          ]
        },
        {
          "output_type": "stream",
          "name": "stderr",
          "text": [
            "\n"
          ]
        },
        {
          "output_type": "stream",
          "name": "stdout",
          "text": [
            "\n",
            "      Epoch    GPU_mem   box_loss   cls_loss   dfl_loss  Instances       Size\n"
          ]
        },
        {
          "output_type": "stream",
          "name": "stderr",
          "text": [
            "     26/100      13.9G      1.627     0.9834      1.095         37        640: 100%|██████████| 38/38 [00:10<00:00,  3.55it/s]\n",
            "                 Class     Images  Instances      Box(P          R      mAP50  mAP50-95): 100%|██████████| 2/2 [00:00<00:00,  2.56it/s]"
          ]
        },
        {
          "output_type": "stream",
          "name": "stdout",
          "text": [
            "                   all         42         87      0.851      0.816       0.83      0.516\n"
          ]
        },
        {
          "output_type": "stream",
          "name": "stderr",
          "text": [
            "\n"
          ]
        },
        {
          "output_type": "stream",
          "name": "stdout",
          "text": [
            "\n",
            "      Epoch    GPU_mem   box_loss   cls_loss   dfl_loss  Instances       Size\n"
          ]
        },
        {
          "output_type": "stream",
          "name": "stderr",
          "text": [
            "     27/100      14.1G      1.575     0.9821      1.086         44        640: 100%|██████████| 38/38 [00:11<00:00,  3.42it/s]\n",
            "                 Class     Images  Instances      Box(P          R      mAP50  mAP50-95): 100%|██████████| 2/2 [00:00<00:00,  3.69it/s]"
          ]
        },
        {
          "output_type": "stream",
          "name": "stdout",
          "text": [
            "                   all         42         87      0.835      0.758      0.814      0.487\n"
          ]
        },
        {
          "output_type": "stream",
          "name": "stderr",
          "text": [
            "\n"
          ]
        },
        {
          "output_type": "stream",
          "name": "stdout",
          "text": [
            "\n",
            "      Epoch    GPU_mem   box_loss   cls_loss   dfl_loss  Instances       Size\n"
          ]
        },
        {
          "output_type": "stream",
          "name": "stderr",
          "text": [
            "     28/100      14.2G      1.618     0.9894      1.084         32        640: 100%|██████████| 38/38 [00:11<00:00,  3.37it/s]\n",
            "                 Class     Images  Instances      Box(P          R      mAP50  mAP50-95): 100%|██████████| 2/2 [00:00<00:00,  3.39it/s]"
          ]
        },
        {
          "output_type": "stream",
          "name": "stdout",
          "text": [
            "                   all         42         87      0.918      0.736      0.818      0.517\n"
          ]
        },
        {
          "output_type": "stream",
          "name": "stderr",
          "text": [
            "\n"
          ]
        },
        {
          "output_type": "stream",
          "name": "stdout",
          "text": [
            "\n",
            "      Epoch    GPU_mem   box_loss   cls_loss   dfl_loss  Instances       Size\n"
          ]
        },
        {
          "output_type": "stream",
          "name": "stderr",
          "text": [
            "     29/100      13.7G      1.542     0.9449       1.09         27        640: 100%|██████████| 38/38 [00:11<00:00,  3.19it/s]\n",
            "                 Class     Images  Instances      Box(P          R      mAP50  mAP50-95): 100%|██████████| 2/2 [00:00<00:00,  3.54it/s]"
          ]
        },
        {
          "output_type": "stream",
          "name": "stdout",
          "text": [
            "                   all         42         87      0.897      0.747      0.813       0.51\n"
          ]
        },
        {
          "output_type": "stream",
          "name": "stderr",
          "text": [
            "\n"
          ]
        },
        {
          "output_type": "stream",
          "name": "stdout",
          "text": [
            "\n",
            "      Epoch    GPU_mem   box_loss   cls_loss   dfl_loss  Instances       Size\n"
          ]
        },
        {
          "output_type": "stream",
          "name": "stderr",
          "text": [
            "     30/100      13.9G      1.579     0.9565      1.076         43        640: 100%|██████████| 38/38 [00:11<00:00,  3.26it/s]\n",
            "                 Class     Images  Instances      Box(P          R      mAP50  mAP50-95): 100%|██████████| 2/2 [00:00<00:00,  4.05it/s]"
          ]
        },
        {
          "output_type": "stream",
          "name": "stdout",
          "text": [
            "                   all         42         87      0.815      0.805      0.793      0.506\n"
          ]
        },
        {
          "output_type": "stream",
          "name": "stderr",
          "text": [
            "\n"
          ]
        },
        {
          "output_type": "stream",
          "name": "stdout",
          "text": [
            "\n",
            "      Epoch    GPU_mem   box_loss   cls_loss   dfl_loss  Instances       Size\n"
          ]
        },
        {
          "output_type": "stream",
          "name": "stderr",
          "text": [
            "     31/100      14.1G       1.56     0.9529      1.082         27        640: 100%|██████████| 38/38 [00:12<00:00,  3.15it/s]\n",
            "                 Class     Images  Instances      Box(P          R      mAP50  mAP50-95): 100%|██████████| 2/2 [00:00<00:00,  4.09it/s]"
          ]
        },
        {
          "output_type": "stream",
          "name": "stdout",
          "text": [
            "                   all         42         87      0.841      0.713      0.809      0.543\n"
          ]
        },
        {
          "output_type": "stream",
          "name": "stderr",
          "text": [
            "\n"
          ]
        },
        {
          "output_type": "stream",
          "name": "stdout",
          "text": [
            "\n",
            "      Epoch    GPU_mem   box_loss   cls_loss   dfl_loss  Instances       Size\n"
          ]
        },
        {
          "output_type": "stream",
          "name": "stderr",
          "text": [
            "     32/100      14.2G      1.562      0.928      1.076         74        640: 100%|██████████| 38/38 [00:13<00:00,  2.83it/s]\n",
            "                 Class     Images  Instances      Box(P          R      mAP50  mAP50-95): 100%|██████████| 2/2 [00:00<00:00,  2.40it/s]"
          ]
        },
        {
          "output_type": "stream",
          "name": "stdout",
          "text": [
            "                   all         42         87       0.92      0.736      0.865      0.531\n"
          ]
        },
        {
          "output_type": "stream",
          "name": "stderr",
          "text": [
            "\n"
          ]
        },
        {
          "output_type": "stream",
          "name": "stdout",
          "text": [
            "\n",
            "      Epoch    GPU_mem   box_loss   cls_loss   dfl_loss  Instances       Size\n"
          ]
        },
        {
          "output_type": "stream",
          "name": "stderr",
          "text": [
            "     33/100      13.7G      1.506     0.9206      1.069         29        640: 100%|██████████| 38/38 [00:12<00:00,  3.12it/s]\n",
            "                 Class     Images  Instances      Box(P          R      mAP50  mAP50-95): 100%|██████████| 2/2 [00:00<00:00,  4.03it/s]"
          ]
        },
        {
          "output_type": "stream",
          "name": "stdout",
          "text": [
            "                   all         42         87      0.832      0.739      0.813      0.483\n"
          ]
        },
        {
          "output_type": "stream",
          "name": "stderr",
          "text": [
            "\n"
          ]
        },
        {
          "output_type": "stream",
          "name": "stdout",
          "text": [
            "\n",
            "      Epoch    GPU_mem   box_loss   cls_loss   dfl_loss  Instances       Size\n"
          ]
        },
        {
          "output_type": "stream",
          "name": "stderr",
          "text": [
            "     34/100      13.9G      1.522     0.9057      1.065         25        640: 100%|██████████| 38/38 [00:12<00:00,  3.13it/s]\n",
            "                 Class     Images  Instances      Box(P          R      mAP50  mAP50-95): 100%|██████████| 2/2 [00:00<00:00,  3.96it/s]"
          ]
        },
        {
          "output_type": "stream",
          "name": "stdout",
          "text": [
            "                   all         42         87       0.88      0.736      0.828      0.499\n"
          ]
        },
        {
          "output_type": "stream",
          "name": "stderr",
          "text": [
            "\n"
          ]
        },
        {
          "output_type": "stream",
          "name": "stdout",
          "text": [
            "\n",
            "      Epoch    GPU_mem   box_loss   cls_loss   dfl_loss  Instances       Size\n"
          ]
        },
        {
          "output_type": "stream",
          "name": "stderr",
          "text": [
            "     35/100      14.1G      1.469      0.903      1.075         21        640: 100%|██████████| 38/38 [00:12<00:00,  3.14it/s]\n",
            "                 Class     Images  Instances      Box(P          R      mAP50  mAP50-95): 100%|██████████| 2/2 [00:00<00:00,  3.30it/s]"
          ]
        },
        {
          "output_type": "stream",
          "name": "stdout",
          "text": [
            "                   all         42         87      0.866      0.736      0.818      0.521\n"
          ]
        },
        {
          "output_type": "stream",
          "name": "stderr",
          "text": [
            "\n"
          ]
        },
        {
          "output_type": "stream",
          "name": "stdout",
          "text": [
            "\n",
            "      Epoch    GPU_mem   box_loss   cls_loss   dfl_loss  Instances       Size\n"
          ]
        },
        {
          "output_type": "stream",
          "name": "stderr",
          "text": [
            "     36/100      14.2G      1.529     0.9104       1.07         18        640: 100%|██████████| 38/38 [00:11<00:00,  3.22it/s]\n",
            "                 Class     Images  Instances      Box(P          R      mAP50  mAP50-95): 100%|██████████| 2/2 [00:00<00:00,  3.40it/s]"
          ]
        },
        {
          "output_type": "stream",
          "name": "stdout",
          "text": [
            "                   all         42         87      0.892      0.665      0.798      0.494\n"
          ]
        },
        {
          "output_type": "stream",
          "name": "stderr",
          "text": [
            "\n"
          ]
        },
        {
          "output_type": "stream",
          "name": "stdout",
          "text": [
            "\n",
            "      Epoch    GPU_mem   box_loss   cls_loss   dfl_loss  Instances       Size\n"
          ]
        },
        {
          "output_type": "stream",
          "name": "stderr",
          "text": [
            "     37/100      13.7G      1.478     0.8705      1.057         22        640: 100%|██████████| 38/38 [00:10<00:00,  3.53it/s]\n",
            "                 Class     Images  Instances      Box(P          R      mAP50  mAP50-95): 100%|██████████| 2/2 [00:00<00:00,  3.25it/s]"
          ]
        },
        {
          "output_type": "stream",
          "name": "stdout",
          "text": [
            "                   all         42         87      0.947      0.713      0.864      0.566\n"
          ]
        },
        {
          "output_type": "stream",
          "name": "stderr",
          "text": [
            "\n"
          ]
        },
        {
          "output_type": "stream",
          "name": "stdout",
          "text": [
            "\n",
            "      Epoch    GPU_mem   box_loss   cls_loss   dfl_loss  Instances       Size\n"
          ]
        },
        {
          "output_type": "stream",
          "name": "stderr",
          "text": [
            "     38/100      13.9G      1.441     0.8526      1.039         52        640: 100%|██████████| 38/38 [00:10<00:00,  3.56it/s]\n",
            "                 Class     Images  Instances      Box(P          R      mAP50  mAP50-95): 100%|██████████| 2/2 [00:00<00:00,  2.48it/s]"
          ]
        },
        {
          "output_type": "stream",
          "name": "stdout",
          "text": [
            "                   all         42         87      0.788      0.782      0.809       0.53\n"
          ]
        },
        {
          "output_type": "stream",
          "name": "stderr",
          "text": [
            "\n"
          ]
        },
        {
          "output_type": "stream",
          "name": "stdout",
          "text": [
            "\n",
            "      Epoch    GPU_mem   box_loss   cls_loss   dfl_loss  Instances       Size\n"
          ]
        },
        {
          "output_type": "stream",
          "name": "stderr",
          "text": [
            "     39/100      14.1G      1.431     0.8669      1.034         38        640: 100%|██████████| 38/38 [00:10<00:00,  3.50it/s]\n",
            "                 Class     Images  Instances      Box(P          R      mAP50  mAP50-95): 100%|██████████| 2/2 [00:00<00:00,  3.89it/s]"
          ]
        },
        {
          "output_type": "stream",
          "name": "stdout",
          "text": [
            "                   all         42         87       0.88      0.762      0.818      0.538\n"
          ]
        },
        {
          "output_type": "stream",
          "name": "stderr",
          "text": [
            "\n"
          ]
        },
        {
          "output_type": "stream",
          "name": "stdout",
          "text": [
            "\n",
            "      Epoch    GPU_mem   box_loss   cls_loss   dfl_loss  Instances       Size\n"
          ]
        },
        {
          "output_type": "stream",
          "name": "stderr",
          "text": [
            "     40/100      14.2G      1.479     0.8756      1.048         17        640: 100%|██████████| 38/38 [00:11<00:00,  3.32it/s]\n",
            "                 Class     Images  Instances      Box(P          R      mAP50  mAP50-95): 100%|██████████| 2/2 [00:00<00:00,  3.41it/s]"
          ]
        },
        {
          "output_type": "stream",
          "name": "stdout",
          "text": [
            "                   all         42         87      0.903      0.724      0.819       0.54\n"
          ]
        },
        {
          "output_type": "stream",
          "name": "stderr",
          "text": [
            "\n"
          ]
        },
        {
          "output_type": "stream",
          "name": "stdout",
          "text": [
            "\n",
            "      Epoch    GPU_mem   box_loss   cls_loss   dfl_loss  Instances       Size\n"
          ]
        },
        {
          "output_type": "stream",
          "name": "stderr",
          "text": [
            "     41/100      13.7G      1.437     0.8817      1.059         16        640: 100%|██████████| 38/38 [00:12<00:00,  3.14it/s]\n",
            "                 Class     Images  Instances      Box(P          R      mAP50  mAP50-95): 100%|██████████| 2/2 [00:00<00:00,  3.61it/s]"
          ]
        },
        {
          "output_type": "stream",
          "name": "stdout",
          "text": [
            "                   all         42         87      0.843      0.747      0.807      0.529\n"
          ]
        },
        {
          "output_type": "stream",
          "name": "stderr",
          "text": [
            "\n"
          ]
        },
        {
          "output_type": "stream",
          "name": "stdout",
          "text": [
            "\n",
            "      Epoch    GPU_mem   box_loss   cls_loss   dfl_loss  Instances       Size\n"
          ]
        },
        {
          "output_type": "stream",
          "name": "stderr",
          "text": [
            "     42/100      13.9G      1.384     0.8258      1.029         57        640: 100%|██████████| 38/38 [00:11<00:00,  3.20it/s]\n",
            "                 Class     Images  Instances      Box(P          R      mAP50  mAP50-95): 100%|██████████| 2/2 [00:00<00:00,  4.03it/s]"
          ]
        },
        {
          "output_type": "stream",
          "name": "stdout",
          "text": [
            "                   all         42         87       0.83      0.701      0.789      0.526\n"
          ]
        },
        {
          "output_type": "stream",
          "name": "stderr",
          "text": [
            "\n"
          ]
        },
        {
          "output_type": "stream",
          "name": "stdout",
          "text": [
            "\n",
            "      Epoch    GPU_mem   box_loss   cls_loss   dfl_loss  Instances       Size\n"
          ]
        },
        {
          "output_type": "stream",
          "name": "stderr",
          "text": [
            "     43/100      14.1G      1.467     0.8575      1.036         38        640: 100%|██████████| 38/38 [00:11<00:00,  3.24it/s]\n",
            "                 Class     Images  Instances      Box(P          R      mAP50  mAP50-95): 100%|██████████| 2/2 [00:00<00:00,  3.41it/s]"
          ]
        },
        {
          "output_type": "stream",
          "name": "stdout",
          "text": [
            "                   all         42         87      0.877       0.77      0.852      0.523\n"
          ]
        },
        {
          "output_type": "stream",
          "name": "stderr",
          "text": [
            "\n"
          ]
        },
        {
          "output_type": "stream",
          "name": "stdout",
          "text": [
            "\n",
            "      Epoch    GPU_mem   box_loss   cls_loss   dfl_loss  Instances       Size\n"
          ]
        },
        {
          "output_type": "stream",
          "name": "stderr",
          "text": [
            "     44/100      14.2G      1.379     0.8398      1.015         29        640: 100%|██████████| 38/38 [00:11<00:00,  3.19it/s]\n",
            "                 Class     Images  Instances      Box(P          R      mAP50  mAP50-95): 100%|██████████| 2/2 [00:00<00:00,  3.38it/s]"
          ]
        },
        {
          "output_type": "stream",
          "name": "stdout",
          "text": [
            "                   all         42         87      0.882      0.805      0.837      0.522\n"
          ]
        },
        {
          "output_type": "stream",
          "name": "stderr",
          "text": [
            "\n"
          ]
        },
        {
          "output_type": "stream",
          "name": "stdout",
          "text": [
            "\n",
            "      Epoch    GPU_mem   box_loss   cls_loss   dfl_loss  Instances       Size\n"
          ]
        },
        {
          "output_type": "stream",
          "name": "stderr",
          "text": [
            "     45/100      13.7G      1.397     0.8488      1.021         25        640: 100%|██████████| 38/38 [00:12<00:00,  3.13it/s]\n",
            "                 Class     Images  Instances      Box(P          R      mAP50  mAP50-95): 100%|██████████| 2/2 [00:00<00:00,  3.70it/s]"
          ]
        },
        {
          "output_type": "stream",
          "name": "stdout",
          "text": [
            "                   all         42         87      0.897       0.77      0.839      0.548\n"
          ]
        },
        {
          "output_type": "stream",
          "name": "stderr",
          "text": [
            "\n"
          ]
        },
        {
          "output_type": "stream",
          "name": "stdout",
          "text": [
            "\n",
            "      Epoch    GPU_mem   box_loss   cls_loss   dfl_loss  Instances       Size\n"
          ]
        },
        {
          "output_type": "stream",
          "name": "stderr",
          "text": [
            "     46/100      13.9G      1.371     0.8222      1.022         34        640: 100%|██████████| 38/38 [00:11<00:00,  3.18it/s]\n",
            "                 Class     Images  Instances      Box(P          R      mAP50  mAP50-95): 100%|██████████| 2/2 [00:00<00:00,  2.27it/s]"
          ]
        },
        {
          "output_type": "stream",
          "name": "stdout",
          "text": [
            "                   all         42         87      0.888      0.724      0.826      0.541\n"
          ]
        },
        {
          "output_type": "stream",
          "name": "stderr",
          "text": [
            "\n"
          ]
        },
        {
          "output_type": "stream",
          "name": "stdout",
          "text": [
            "\n",
            "      Epoch    GPU_mem   box_loss   cls_loss   dfl_loss  Instances       Size\n"
          ]
        },
        {
          "output_type": "stream",
          "name": "stderr",
          "text": [
            "     47/100      14.1G      1.377     0.8218      1.024         25        640: 100%|██████████| 38/38 [00:11<00:00,  3.44it/s]\n",
            "                 Class     Images  Instances      Box(P          R      mAP50  mAP50-95): 100%|██████████| 2/2 [00:00<00:00,  2.54it/s]"
          ]
        },
        {
          "output_type": "stream",
          "name": "stdout",
          "text": [
            "                   all         42         87      0.825      0.811      0.849      0.515\n"
          ]
        },
        {
          "output_type": "stream",
          "name": "stderr",
          "text": [
            "\n"
          ]
        },
        {
          "output_type": "stream",
          "name": "stdout",
          "text": [
            "\n",
            "      Epoch    GPU_mem   box_loss   cls_loss   dfl_loss  Instances       Size\n"
          ]
        },
        {
          "output_type": "stream",
          "name": "stderr",
          "text": [
            "     48/100      14.2G      1.351     0.7938      1.006         51        640: 100%|██████████| 38/38 [00:10<00:00,  3.52it/s]\n",
            "                 Class     Images  Instances      Box(P          R      mAP50  mAP50-95): 100%|██████████| 2/2 [00:00<00:00,  3.69it/s]"
          ]
        },
        {
          "output_type": "stream",
          "name": "stdout",
          "text": [
            "                   all         42         87      0.936      0.667      0.817      0.546\n"
          ]
        },
        {
          "output_type": "stream",
          "name": "stderr",
          "text": [
            "\n"
          ]
        },
        {
          "output_type": "stream",
          "name": "stdout",
          "text": [
            "\n",
            "      Epoch    GPU_mem   box_loss   cls_loss   dfl_loss  Instances       Size\n"
          ]
        },
        {
          "output_type": "stream",
          "name": "stderr",
          "text": [
            "     49/100      13.7G      1.304     0.7588     0.9945         31        640: 100%|██████████| 38/38 [00:11<00:00,  3.22it/s]\n",
            "                 Class     Images  Instances      Box(P          R      mAP50  mAP50-95): 100%|██████████| 2/2 [00:00<00:00,  4.29it/s]"
          ]
        },
        {
          "output_type": "stream",
          "name": "stdout",
          "text": [
            "                   all         42         87      0.807      0.767      0.837      0.528\n"
          ]
        },
        {
          "output_type": "stream",
          "name": "stderr",
          "text": [
            "\n"
          ]
        },
        {
          "output_type": "stream",
          "name": "stdout",
          "text": [
            "\n",
            "      Epoch    GPU_mem   box_loss   cls_loss   dfl_loss  Instances       Size\n"
          ]
        },
        {
          "output_type": "stream",
          "name": "stderr",
          "text": [
            "     50/100      13.9G      1.295     0.7677      1.004         40        640: 100%|██████████| 38/38 [00:11<00:00,  3.20it/s]\n",
            "                 Class     Images  Instances      Box(P          R      mAP50  mAP50-95): 100%|██████████| 2/2 [00:00<00:00,  3.49it/s]"
          ]
        },
        {
          "output_type": "stream",
          "name": "stdout",
          "text": [
            "                   all         42         87      0.851      0.805      0.867       0.55\n"
          ]
        },
        {
          "output_type": "stream",
          "name": "stderr",
          "text": [
            "\n"
          ]
        },
        {
          "output_type": "stream",
          "name": "stdout",
          "text": [
            "\n",
            "      Epoch    GPU_mem   box_loss   cls_loss   dfl_loss  Instances       Size\n"
          ]
        },
        {
          "output_type": "stream",
          "name": "stderr",
          "text": [
            "     51/100      14.1G      1.333      0.789     0.9956         35        640: 100%|██████████| 38/38 [00:11<00:00,  3.18it/s]\n",
            "                 Class     Images  Instances      Box(P          R      mAP50  mAP50-95): 100%|██████████| 2/2 [00:00<00:00,  3.92it/s]"
          ]
        },
        {
          "output_type": "stream",
          "name": "stdout",
          "text": [
            "                   all         42         87        0.9      0.724      0.816      0.525\n"
          ]
        },
        {
          "output_type": "stream",
          "name": "stderr",
          "text": [
            "\n"
          ]
        },
        {
          "output_type": "stream",
          "name": "stdout",
          "text": [
            "\n",
            "      Epoch    GPU_mem   box_loss   cls_loss   dfl_loss  Instances       Size\n"
          ]
        },
        {
          "output_type": "stream",
          "name": "stderr",
          "text": [
            "     52/100      14.2G      1.321     0.7692          1         34        640: 100%|██████████| 38/38 [00:11<00:00,  3.19it/s]\n",
            "                 Class     Images  Instances      Box(P          R      mAP50  mAP50-95): 100%|██████████| 2/2 [00:00<00:00,  3.14it/s]"
          ]
        },
        {
          "output_type": "stream",
          "name": "stdout",
          "text": [
            "                   all         42         87      0.943      0.755       0.84      0.554\n"
          ]
        },
        {
          "output_type": "stream",
          "name": "stderr",
          "text": [
            "\n"
          ]
        },
        {
          "output_type": "stream",
          "name": "stdout",
          "text": [
            "\n",
            "      Epoch    GPU_mem   box_loss   cls_loss   dfl_loss  Instances       Size\n"
          ]
        },
        {
          "output_type": "stream",
          "name": "stderr",
          "text": [
            "     53/100      13.7G      1.275     0.7739     0.9945         34        640: 100%|██████████| 38/38 [00:11<00:00,  3.20it/s]\n",
            "                 Class     Images  Instances      Box(P          R      mAP50  mAP50-95): 100%|██████████| 2/2 [00:00<00:00,  3.95it/s]"
          ]
        },
        {
          "output_type": "stream",
          "name": "stdout",
          "text": [
            "                   all         42         87      0.916      0.759      0.839       0.56\n"
          ]
        },
        {
          "output_type": "stream",
          "name": "stderr",
          "text": [
            "\n"
          ]
        },
        {
          "output_type": "stream",
          "name": "stdout",
          "text": [
            "\n",
            "      Epoch    GPU_mem   box_loss   cls_loss   dfl_loss  Instances       Size\n"
          ]
        },
        {
          "output_type": "stream",
          "name": "stderr",
          "text": [
            "     54/100      13.9G      1.273     0.7492     0.9841         46        640: 100%|██████████| 38/38 [00:11<00:00,  3.23it/s]\n",
            "                 Class     Images  Instances      Box(P          R      mAP50  mAP50-95): 100%|██████████| 2/2 [00:00<00:00,  4.04it/s]"
          ]
        },
        {
          "output_type": "stream",
          "name": "stdout",
          "text": [
            "                   all         42         87      0.941      0.738      0.845      0.548\n"
          ]
        },
        {
          "output_type": "stream",
          "name": "stderr",
          "text": [
            "\n"
          ]
        },
        {
          "output_type": "stream",
          "name": "stdout",
          "text": [
            "\n",
            "      Epoch    GPU_mem   box_loss   cls_loss   dfl_loss  Instances       Size\n"
          ]
        },
        {
          "output_type": "stream",
          "name": "stderr",
          "text": [
            "     55/100      14.1G       1.29     0.7652     0.9908         30        640: 100%|██████████| 38/38 [00:11<00:00,  3.34it/s]\n",
            "                 Class     Images  Instances      Box(P          R      mAP50  mAP50-95): 100%|██████████| 2/2 [00:00<00:00,  2.39it/s]"
          ]
        },
        {
          "output_type": "stream",
          "name": "stdout",
          "text": [
            "                   all         42         87       0.88      0.761      0.826      0.543\n"
          ]
        },
        {
          "output_type": "stream",
          "name": "stderr",
          "text": [
            "\n"
          ]
        },
        {
          "output_type": "stream",
          "name": "stdout",
          "text": [
            "\n",
            "      Epoch    GPU_mem   box_loss   cls_loss   dfl_loss  Instances       Size\n"
          ]
        },
        {
          "output_type": "stream",
          "name": "stderr",
          "text": [
            "     56/100      14.2G      1.265     0.7615      1.004         23        640: 100%|██████████| 38/38 [00:10<00:00,  3.56it/s]\n",
            "                 Class     Images  Instances      Box(P          R      mAP50  mAP50-95): 100%|██████████| 2/2 [00:00<00:00,  2.70it/s]"
          ]
        },
        {
          "output_type": "stream",
          "name": "stdout",
          "text": [
            "                   all         42         87      0.939       0.77      0.835      0.541\n"
          ]
        },
        {
          "output_type": "stream",
          "name": "stderr",
          "text": [
            "\n"
          ]
        },
        {
          "output_type": "stream",
          "name": "stdout",
          "text": [
            "\n",
            "      Epoch    GPU_mem   box_loss   cls_loss   dfl_loss  Instances       Size\n"
          ]
        },
        {
          "output_type": "stream",
          "name": "stderr",
          "text": [
            "     57/100      13.7G      1.215     0.7214     0.9852         28        640: 100%|██████████| 38/38 [00:10<00:00,  3.61it/s]\n",
            "                 Class     Images  Instances      Box(P          R      mAP50  mAP50-95): 100%|██████████| 2/2 [00:00<00:00,  3.69it/s]"
          ]
        },
        {
          "output_type": "stream",
          "name": "stdout",
          "text": [
            "                   all         42         87      0.912      0.759      0.835      0.555\n",
            "\u001b[34m\u001b[1mEarlyStopping: \u001b[0mTraining stopped early as no improvement observed in last 20 epochs. Best results observed at epoch 37, best model saved as best.pt.\n",
            "To update EarlyStopping(patience=20) pass a new patience value, i.e. `patience=300` or use `patience=0` to disable EarlyStopping.\n"
          ]
        },
        {
          "output_type": "stream",
          "name": "stderr",
          "text": [
            "\n"
          ]
        },
        {
          "output_type": "stream",
          "name": "stdout",
          "text": [
            "\n",
            "57 epochs completed in 0.216 hours.\n",
            "Optimizer stripped from /content/drive/MyDrive/yolov3tiny_training/yolov3tiny_custom/weights/last.pt, 24.4MB\n",
            "Optimizer stripped from /content/drive/MyDrive/yolov3tiny_training/yolov3tiny_custom/weights/best.pt, 24.4MB\n",
            "\n",
            "Validating /content/drive/MyDrive/yolov3tiny_training/yolov3tiny_custom/weights/best.pt...\n",
            "Ultralytics 8.3.101 🚀 Python-3.11.11 torch-2.6.0+cu124 CUDA:0 (Tesla T4, 15095MiB)\n",
            "YOLOv3-tiny summary (fused): 34 layers, 12,128,178 parameters, 0 gradients, 18.9 GFLOPs\n"
          ]
        },
        {
          "output_type": "stream",
          "name": "stderr",
          "text": [
            "                 Class     Images  Instances      Box(P          R      mAP50  mAP50-95): 100%|██████████| 2/2 [00:00<00:00,  3.59it/s]\n"
          ]
        },
        {
          "output_type": "stream",
          "name": "stdout",
          "text": [
            "                   all         42         87      0.954      0.719      0.865      0.571\n",
            "Speed: 0.3ms preprocess, 3.8ms inference, 0.0ms loss, 2.1ms postprocess per image\n",
            "Results saved to \u001b[1m/content/drive/MyDrive/yolov3tiny_training/yolov3tiny_custom\u001b[0m\n"
          ]
        }
      ]
    },
    {
      "cell_type": "code",
      "source": [
        "# VALIDATE THE TRAINED MODEL\n",
        "metrics = model.val(data=f\"{dataset.location}/data.yaml\")\n",
        "print(f\"Validation metrics: {metrics}\")"
      ],
      "metadata": {
        "colab": {
          "base_uri": "https://localhost:8080/"
        },
        "id": "9jy6Q9dPgi0F",
        "outputId": "7bc4cd84-d011-4711-f0e3-781d385d2afc"
      },
      "execution_count": null,
      "outputs": [
        {
          "output_type": "stream",
          "name": "stdout",
          "text": [
            "Ultralytics 8.3.101 🚀 Python-3.11.11 torch-2.6.0+cu124 CUDA:0 (Tesla T4, 15095MiB)\n",
            "YOLOv3-tiny summary (fused): 34 layers, 12,128,178 parameters, 0 gradients, 18.9 GFLOPs\n"
          ]
        },
        {
          "output_type": "stream",
          "name": "stderr",
          "text": [
            "\u001b[34m\u001b[1mval: \u001b[0mScanning /content/My-First-Project-2/valid/labels.cache... 42 images, 24 backgrounds, 0 corrupt: 100%|██████████| 42/42 [00:00<?, ?it/s]\n",
            "                 Class     Images  Instances      Box(P          R      mAP50  mAP50-95): 100%|██████████| 3/3 [00:01<00:00,  1.68it/s]\n"
          ]
        },
        {
          "output_type": "stream",
          "name": "stdout",
          "text": [
            "                   all         42         87      0.947      0.713      0.859      0.568\n",
            "Speed: 9.7ms preprocess, 10.3ms inference, 0.0ms loss, 2.0ms postprocess per image\n",
            "Results saved to \u001b[1m/content/drive/MyDrive/yolov3tiny_training/yolov3tiny_custom\u001b[0m\n",
            "Validation metrics: ultralytics.utils.metrics.DetMetrics object with attributes:\n",
            "\n",
            "ap_class_index: array([0])\n",
            "box: ultralytics.utils.metrics.Metric object\n",
            "confusion_matrix: <ultralytics.utils.metrics.ConfusionMatrix object at 0x7ba6db0e7910>\n",
            "curves: ['Precision-Recall(B)', 'F1-Confidence(B)', 'Precision-Confidence(B)', 'Recall-Confidence(B)']\n",
            "curves_results: [[array([          0,    0.001001,    0.002002,    0.003003,    0.004004,    0.005005,    0.006006,    0.007007,    0.008008,    0.009009,     0.01001,    0.011011,    0.012012,    0.013013,    0.014014,    0.015015,    0.016016,    0.017017,    0.018018,    0.019019,     0.02002,    0.021021,    0.022022,    0.023023,\n",
            "          0.024024,    0.025025,    0.026026,    0.027027,    0.028028,    0.029029,     0.03003,    0.031031,    0.032032,    0.033033,    0.034034,    0.035035,    0.036036,    0.037037,    0.038038,    0.039039,     0.04004,    0.041041,    0.042042,    0.043043,    0.044044,    0.045045,    0.046046,    0.047047,\n",
            "          0.048048,    0.049049,     0.05005,    0.051051,    0.052052,    0.053053,    0.054054,    0.055055,    0.056056,    0.057057,    0.058058,    0.059059,     0.06006,    0.061061,    0.062062,    0.063063,    0.064064,    0.065065,    0.066066,    0.067067,    0.068068,    0.069069,     0.07007,    0.071071,\n",
            "          0.072072,    0.073073,    0.074074,    0.075075,    0.076076,    0.077077,    0.078078,    0.079079,     0.08008,    0.081081,    0.082082,    0.083083,    0.084084,    0.085085,    0.086086,    0.087087,    0.088088,    0.089089,     0.09009,    0.091091,    0.092092,    0.093093,    0.094094,    0.095095,\n",
            "          0.096096,    0.097097,    0.098098,    0.099099,      0.1001,      0.1011,      0.1021,      0.1031,      0.1041,     0.10511,     0.10611,     0.10711,     0.10811,     0.10911,     0.11011,     0.11111,     0.11211,     0.11311,     0.11411,     0.11512,     0.11612,     0.11712,     0.11812,     0.11912,\n",
            "           0.12012,     0.12112,     0.12212,     0.12312,     0.12412,     0.12513,     0.12613,     0.12713,     0.12813,     0.12913,     0.13013,     0.13113,     0.13213,     0.13313,     0.13413,     0.13514,     0.13614,     0.13714,     0.13814,     0.13914,     0.14014,     0.14114,     0.14214,     0.14314,\n",
            "           0.14414,     0.14515,     0.14615,     0.14715,     0.14815,     0.14915,     0.15015,     0.15115,     0.15215,     0.15315,     0.15415,     0.15516,     0.15616,     0.15716,     0.15816,     0.15916,     0.16016,     0.16116,     0.16216,     0.16316,     0.16416,     0.16517,     0.16617,     0.16717,\n",
            "           0.16817,     0.16917,     0.17017,     0.17117,     0.17217,     0.17317,     0.17417,     0.17518,     0.17618,     0.17718,     0.17818,     0.17918,     0.18018,     0.18118,     0.18218,     0.18318,     0.18418,     0.18519,     0.18619,     0.18719,     0.18819,     0.18919,     0.19019,     0.19119,\n",
            "           0.19219,     0.19319,     0.19419,      0.1952,      0.1962,      0.1972,      0.1982,      0.1992,      0.2002,      0.2012,      0.2022,      0.2032,      0.2042,     0.20521,     0.20621,     0.20721,     0.20821,     0.20921,     0.21021,     0.21121,     0.21221,     0.21321,     0.21421,     0.21522,\n",
            "           0.21622,     0.21722,     0.21822,     0.21922,     0.22022,     0.22122,     0.22222,     0.22322,     0.22422,     0.22523,     0.22623,     0.22723,     0.22823,     0.22923,     0.23023,     0.23123,     0.23223,     0.23323,     0.23423,     0.23524,     0.23624,     0.23724,     0.23824,     0.23924,\n",
            "           0.24024,     0.24124,     0.24224,     0.24324,     0.24424,     0.24525,     0.24625,     0.24725,     0.24825,     0.24925,     0.25025,     0.25125,     0.25225,     0.25325,     0.25425,     0.25526,     0.25626,     0.25726,     0.25826,     0.25926,     0.26026,     0.26126,     0.26226,     0.26326,\n",
            "           0.26426,     0.26527,     0.26627,     0.26727,     0.26827,     0.26927,     0.27027,     0.27127,     0.27227,     0.27327,     0.27427,     0.27528,     0.27628,     0.27728,     0.27828,     0.27928,     0.28028,     0.28128,     0.28228,     0.28328,     0.28428,     0.28529,     0.28629,     0.28729,\n",
            "           0.28829,     0.28929,     0.29029,     0.29129,     0.29229,     0.29329,     0.29429,      0.2953,      0.2963,      0.2973,      0.2983,      0.2993,      0.3003,      0.3013,      0.3023,      0.3033,      0.3043,     0.30531,     0.30631,     0.30731,     0.30831,     0.30931,     0.31031,     0.31131,\n",
            "           0.31231,     0.31331,     0.31431,     0.31532,     0.31632,     0.31732,     0.31832,     0.31932,     0.32032,     0.32132,     0.32232,     0.32332,     0.32432,     0.32533,     0.32633,     0.32733,     0.32833,     0.32933,     0.33033,     0.33133,     0.33233,     0.33333,     0.33433,     0.33534,\n",
            "           0.33634,     0.33734,     0.33834,     0.33934,     0.34034,     0.34134,     0.34234,     0.34334,     0.34434,     0.34535,     0.34635,     0.34735,     0.34835,     0.34935,     0.35035,     0.35135,     0.35235,     0.35335,     0.35435,     0.35536,     0.35636,     0.35736,     0.35836,     0.35936,\n",
            "           0.36036,     0.36136,     0.36236,     0.36336,     0.36436,     0.36537,     0.36637,     0.36737,     0.36837,     0.36937,     0.37037,     0.37137,     0.37237,     0.37337,     0.37437,     0.37538,     0.37638,     0.37738,     0.37838,     0.37938,     0.38038,     0.38138,     0.38238,     0.38338,\n",
            "           0.38438,     0.38539,     0.38639,     0.38739,     0.38839,     0.38939,     0.39039,     0.39139,     0.39239,     0.39339,     0.39439,      0.3954,      0.3964,      0.3974,      0.3984,      0.3994,      0.4004,      0.4014,      0.4024,      0.4034,      0.4044,     0.40541,     0.40641,     0.40741,\n",
            "           0.40841,     0.40941,     0.41041,     0.41141,     0.41241,     0.41341,     0.41441,     0.41542,     0.41642,     0.41742,     0.41842,     0.41942,     0.42042,     0.42142,     0.42242,     0.42342,     0.42442,     0.42543,     0.42643,     0.42743,     0.42843,     0.42943,     0.43043,     0.43143,\n",
            "           0.43243,     0.43343,     0.43443,     0.43544,     0.43644,     0.43744,     0.43844,     0.43944,     0.44044,     0.44144,     0.44244,     0.44344,     0.44444,     0.44545,     0.44645,     0.44745,     0.44845,     0.44945,     0.45045,     0.45145,     0.45245,     0.45345,     0.45445,     0.45546,\n",
            "           0.45646,     0.45746,     0.45846,     0.45946,     0.46046,     0.46146,     0.46246,     0.46346,     0.46446,     0.46547,     0.46647,     0.46747,     0.46847,     0.46947,     0.47047,     0.47147,     0.47247,     0.47347,     0.47447,     0.47548,     0.47648,     0.47748,     0.47848,     0.47948,\n",
            "           0.48048,     0.48148,     0.48248,     0.48348,     0.48448,     0.48549,     0.48649,     0.48749,     0.48849,     0.48949,     0.49049,     0.49149,     0.49249,     0.49349,     0.49449,      0.4955,      0.4965,      0.4975,      0.4985,      0.4995,      0.5005,      0.5015,      0.5025,      0.5035,\n",
            "            0.5045,     0.50551,     0.50651,     0.50751,     0.50851,     0.50951,     0.51051,     0.51151,     0.51251,     0.51351,     0.51451,     0.51552,     0.51652,     0.51752,     0.51852,     0.51952,     0.52052,     0.52152,     0.52252,     0.52352,     0.52452,     0.52553,     0.52653,     0.52753,\n",
            "           0.52853,     0.52953,     0.53053,     0.53153,     0.53253,     0.53353,     0.53453,     0.53554,     0.53654,     0.53754,     0.53854,     0.53954,     0.54054,     0.54154,     0.54254,     0.54354,     0.54454,     0.54555,     0.54655,     0.54755,     0.54855,     0.54955,     0.55055,     0.55155,\n",
            "           0.55255,     0.55355,     0.55455,     0.55556,     0.55656,     0.55756,     0.55856,     0.55956,     0.56056,     0.56156,     0.56256,     0.56356,     0.56456,     0.56557,     0.56657,     0.56757,     0.56857,     0.56957,     0.57057,     0.57157,     0.57257,     0.57357,     0.57457,     0.57558,\n",
            "           0.57658,     0.57758,     0.57858,     0.57958,     0.58058,     0.58158,     0.58258,     0.58358,     0.58458,     0.58559,     0.58659,     0.58759,     0.58859,     0.58959,     0.59059,     0.59159,     0.59259,     0.59359,     0.59459,      0.5956,      0.5966,      0.5976,      0.5986,      0.5996,\n",
            "            0.6006,      0.6016,      0.6026,      0.6036,      0.6046,     0.60561,     0.60661,     0.60761,     0.60861,     0.60961,     0.61061,     0.61161,     0.61261,     0.61361,     0.61461,     0.61562,     0.61662,     0.61762,     0.61862,     0.61962,     0.62062,     0.62162,     0.62262,     0.62362,\n",
            "           0.62462,     0.62563,     0.62663,     0.62763,     0.62863,     0.62963,     0.63063,     0.63163,     0.63263,     0.63363,     0.63463,     0.63564,     0.63664,     0.63764,     0.63864,     0.63964,     0.64064,     0.64164,     0.64264,     0.64364,     0.64464,     0.64565,     0.64665,     0.64765,\n",
            "           0.64865,     0.64965,     0.65065,     0.65165,     0.65265,     0.65365,     0.65465,     0.65566,     0.65666,     0.65766,     0.65866,     0.65966,     0.66066,     0.66166,     0.66266,     0.66366,     0.66466,     0.66567,     0.66667,     0.66767,     0.66867,     0.66967,     0.67067,     0.67167,\n",
            "           0.67267,     0.67367,     0.67467,     0.67568,     0.67668,     0.67768,     0.67868,     0.67968,     0.68068,     0.68168,     0.68268,     0.68368,     0.68468,     0.68569,     0.68669,     0.68769,     0.68869,     0.68969,     0.69069,     0.69169,     0.69269,     0.69369,     0.69469,      0.6957,\n",
            "            0.6967,      0.6977,      0.6987,      0.6997,      0.7007,      0.7017,      0.7027,      0.7037,      0.7047,     0.70571,     0.70671,     0.70771,     0.70871,     0.70971,     0.71071,     0.71171,     0.71271,     0.71371,     0.71471,     0.71572,     0.71672,     0.71772,     0.71872,     0.71972,\n",
            "           0.72072,     0.72172,     0.72272,     0.72372,     0.72472,     0.72573,     0.72673,     0.72773,     0.72873,     0.72973,     0.73073,     0.73173,     0.73273,     0.73373,     0.73473,     0.73574,     0.73674,     0.73774,     0.73874,     0.73974,     0.74074,     0.74174,     0.74274,     0.74374,\n",
            "           0.74474,     0.74575,     0.74675,     0.74775,     0.74875,     0.74975,     0.75075,     0.75175,     0.75275,     0.75375,     0.75475,     0.75576,     0.75676,     0.75776,     0.75876,     0.75976,     0.76076,     0.76176,     0.76276,     0.76376,     0.76476,     0.76577,     0.76677,     0.76777,\n",
            "           0.76877,     0.76977,     0.77077,     0.77177,     0.77277,     0.77377,     0.77477,     0.77578,     0.77678,     0.77778,     0.77878,     0.77978,     0.78078,     0.78178,     0.78278,     0.78378,     0.78478,     0.78579,     0.78679,     0.78779,     0.78879,     0.78979,     0.79079,     0.79179,\n",
            "           0.79279,     0.79379,     0.79479,      0.7958,      0.7968,      0.7978,      0.7988,      0.7998,      0.8008,      0.8018,      0.8028,      0.8038,      0.8048,     0.80581,     0.80681,     0.80781,     0.80881,     0.80981,     0.81081,     0.81181,     0.81281,     0.81381,     0.81481,     0.81582,\n",
            "           0.81682,     0.81782,     0.81882,     0.81982,     0.82082,     0.82182,     0.82282,     0.82382,     0.82482,     0.82583,     0.82683,     0.82783,     0.82883,     0.82983,     0.83083,     0.83183,     0.83283,     0.83383,     0.83483,     0.83584,     0.83684,     0.83784,     0.83884,     0.83984,\n",
            "           0.84084,     0.84184,     0.84284,     0.84384,     0.84484,     0.84585,     0.84685,     0.84785,     0.84885,     0.84985,     0.85085,     0.85185,     0.85285,     0.85385,     0.85485,     0.85586,     0.85686,     0.85786,     0.85886,     0.85986,     0.86086,     0.86186,     0.86286,     0.86386,\n",
            "           0.86486,     0.86587,     0.86687,     0.86787,     0.86887,     0.86987,     0.87087,     0.87187,     0.87287,     0.87387,     0.87487,     0.87588,     0.87688,     0.87788,     0.87888,     0.87988,     0.88088,     0.88188,     0.88288,     0.88388,     0.88488,     0.88589,     0.88689,     0.88789,\n",
            "           0.88889,     0.88989,     0.89089,     0.89189,     0.89289,     0.89389,     0.89489,      0.8959,      0.8969,      0.8979,      0.8989,      0.8999,      0.9009,      0.9019,      0.9029,      0.9039,      0.9049,     0.90591,     0.90691,     0.90791,     0.90891,     0.90991,     0.91091,     0.91191,\n",
            "           0.91291,     0.91391,     0.91491,     0.91592,     0.91692,     0.91792,     0.91892,     0.91992,     0.92092,     0.92192,     0.92292,     0.92392,     0.92492,     0.92593,     0.92693,     0.92793,     0.92893,     0.92993,     0.93093,     0.93193,     0.93293,     0.93393,     0.93493,     0.93594,\n",
            "           0.93694,     0.93794,     0.93894,     0.93994,     0.94094,     0.94194,     0.94294,     0.94394,     0.94494,     0.94595,     0.94695,     0.94795,     0.94895,     0.94995,     0.95095,     0.95195,     0.95295,     0.95395,     0.95495,     0.95596,     0.95696,     0.95796,     0.95896,     0.95996,\n",
            "           0.96096,     0.96196,     0.96296,     0.96396,     0.96496,     0.96597,     0.96697,     0.96797,     0.96897,     0.96997,     0.97097,     0.97197,     0.97297,     0.97397,     0.97497,     0.97598,     0.97698,     0.97798,     0.97898,     0.97998,     0.98098,     0.98198,     0.98298,     0.98398,\n",
            "           0.98498,     0.98599,     0.98699,     0.98799,     0.98899,     0.98999,     0.99099,     0.99199,     0.99299,     0.99399,     0.99499,       0.996,       0.997,       0.998,       0.999,           1]), array([[          1,           1,           1,           1,           1,           1,           1,           1,           1,           1,           1,           1,           1,           1,           1,           1,           1,           1,           1,           1,           1,           1,           1,\n",
            "                  1,           1,           1,           1,           1,           1,           1,           1,           1,           1,           1,           1,           1,           1,           1,           1,           1,           1,           1,           1,           1,           1,           1,\n",
            "                  1,           1,           1,           1,           1,           1,           1,           1,           1,           1,           1,           1,           1,           1,           1,           1,           1,           1,           1,           1,           1,           1,           1,\n",
            "                  1,           1,           1,           1,           1,           1,           1,           1,           1,           1,           1,           1,           1,           1,           1,           1,           1,           1,           1,           1,           1,           1,           1,\n",
            "                  1,           1,           1,           1,           1,           1,           1,           1,           1,           1,           1,           1,           1,           1,           1,           1,           1,           1,           1,           1,           1,           1,           1,\n",
            "                  1,           1,           1,           1,           1,           1,           1,           1,           1,           1,           1,           1,           1,           1,           1,           1,           1,           1,           1,           1,           1,           1,           1,\n",
            "                  1,           1,           1,           1,           1,           1,           1,           1,           1,           1,           1,           1,           1,           1,           1,           1,           1,           1,           1,           1,           1,           1,           1,\n",
            "                  1,           1,           1,           1,           1,           1,           1,           1,           1,           1,           1,           1,           1,           1,           1,           1,           1,           1,           1,           1,           1,           1,           1,\n",
            "                  1,           1,           1,           1,           1,           1,           1,           1,           1,           1,           1,           1,           1,           1,           1,           1,           1,           1,           1,           1,           1,           1,           1,\n",
            "                  1,           1,           1,           1,           1,           1,           1,           1,           1,           1,           1,           1,           1,           1,           1,           1,           1,           1,           1,           1,           1,           1,           1,\n",
            "                  1,           1,           1,           1,           1,           1,           1,           1,           1,           1,           1,           1,           1,           1,           1,           1,           1,           1,           1,           1,           1,           1,           1,\n",
            "                  1,           1,           1,           1,           1,           1,           1,           1,           1,           1,           1,           1,           1,           1,           1,           1,           1,           1,           1,           1,           1,           1,           1,\n",
            "                  1,           1,           1,           1,           1,           1,           1,           1,           1,           1,           1,           1,           1,           1,           1,           1,           1,           1,           1,           1,           1,           1,           1,\n",
            "                  1,           1,           1,           1,           1,           1,           1,           1,           1,           1,           1,           1,           1,           1,           1,           1,           1,           1,           1,           1,           1,           1,           1,\n",
            "                  1,           1,           1,           1,           1,           1,           1,           1,           1,           1,           1,           1,           1,           1,           1,           1,           1,           1,           1,           1,           1,           1,           1,\n",
            "            0.98113,     0.98113,     0.98113,     0.98113,     0.98113,     0.98113,     0.98113,     0.98113,     0.98113,     0.98113,     0.98113,     0.98113,     0.98113,     0.98113,     0.98113,     0.98113,     0.98113,     0.98113,     0.98113,     0.98113,     0.98113,     0.98113,     0.98113,\n",
            "            0.98113,     0.98113,     0.98113,     0.98113,     0.98113,     0.98113,     0.98113,     0.98113,     0.98113,     0.98113,     0.98113,     0.98113,     0.98113,     0.98113,     0.98113,     0.98113,     0.98113,     0.98113,     0.98113,     0.98113,     0.98113,     0.98113,     0.98113,\n",
            "            0.98113,     0.98113,     0.98113,     0.98113,     0.98113,     0.98113,     0.98113,     0.98113,     0.98113,     0.98113,     0.98113,     0.98113,     0.98113,     0.98113,     0.98113,     0.98113,     0.98113,     0.98113,     0.98113,     0.98113,     0.98113,     0.98113,     0.98113,\n",
            "            0.98113,     0.98113,     0.98113,     0.98113,     0.98113,     0.98113,     0.98113,     0.98113,     0.98113,     0.98113,     0.98113,     0.98113,     0.98113,     0.98113,     0.98113,     0.98113,     0.98113,     0.98113,     0.98113,     0.98113,     0.98113,     0.98113,     0.98113,\n",
            "            0.98113,     0.98113,     0.98113,     0.98113,     0.98113,     0.98113,     0.98113,     0.98113,     0.98113,     0.98113,     0.98113,     0.98113,     0.98113,     0.98113,     0.98113,     0.98113,     0.98113,     0.98113,     0.98113,     0.98113,     0.98113,     0.98113,     0.98113,\n",
            "            0.98113,     0.98113,     0.98113,     0.98113,     0.98113,     0.98113,     0.98113,     0.98113,     0.98113,     0.98113,     0.98113,     0.98113,     0.98113,     0.98113,     0.98113,     0.98113,     0.98113,     0.98113,     0.98113,     0.98113,     0.98113,     0.98113,     0.98113,\n",
            "            0.98113,     0.98113,     0.98113,     0.98113,     0.98113,     0.98113,     0.98113,     0.98113,     0.98113,     0.98113,     0.98113,     0.98113,     0.98113,     0.98113,     0.98113,     0.98113,     0.98113,     0.98113,     0.98113,     0.98113,     0.98113,     0.98113,     0.98113,\n",
            "            0.98113,     0.98113,     0.98113,     0.98113,     0.98113,     0.98113,     0.98113,     0.98113,     0.98113,     0.98113,     0.98113,     0.98113,     0.98113,     0.98113,     0.98113,     0.98113,     0.98113,     0.98113,     0.98113,     0.98113,     0.98113,     0.98113,     0.98113,\n",
            "            0.98113,     0.98113,     0.98113,     0.98113,     0.98113,     0.98113,     0.98113,     0.98113,     0.98113,     0.98113,     0.98113,     0.98113,     0.98113,     0.98113,     0.98113,     0.98113,     0.98113,     0.98113,     0.98113,     0.98113,     0.98113,     0.98113,     0.98113,\n",
            "            0.98113,     0.98113,     0.98113,     0.98113,     0.98113,     0.98113,     0.98113,     0.98113,     0.98113,     0.98113,     0.98113,     0.98113,     0.98113,     0.98113,     0.98113,     0.98113,     0.98113,     0.98113,     0.98113,     0.98113,     0.98113,     0.98113,     0.98113,\n",
            "            0.98113,     0.98113,     0.98113,     0.98113,     0.98113,     0.98113,     0.98113,     0.98113,     0.98113,     0.98113,     0.98113,     0.98113,     0.98113,     0.98113,     0.98113,     0.98113,     0.98113,     0.98113,     0.98113,     0.98113,     0.98113,     0.98113,     0.98113,\n",
            "            0.96721,     0.96721,     0.96721,     0.96721,     0.96721,     0.96721,     0.96721,     0.96721,     0.96721,     0.96721,     0.96721,     0.96721,     0.96721,     0.96721,     0.96721,     0.96721,     0.96721,     0.96721,     0.96721,     0.96721,     0.96721,     0.96721,     0.96721,\n",
            "            0.96721,     0.96721,     0.96721,     0.96721,     0.96721,     0.96721,     0.96721,     0.96721,     0.96721,     0.96721,     0.96721,     0.96721,     0.96721,     0.96721,     0.96721,     0.96721,     0.96721,     0.96721,     0.96721,     0.96721,     0.96721,     0.96721,     0.96721,\n",
            "            0.96721,     0.96721,     0.96721,     0.96721,     0.96721,     0.96721,     0.96721,     0.96721,     0.96721,     0.96721,     0.96721,     0.96721,     0.96721,     0.96721,     0.96721,     0.96721,     0.96721,     0.96721,     0.96721,     0.96721,     0.96721,     0.96721,     0.96721,\n",
            "            0.96721,     0.96721,     0.96721,     0.96721,     0.96721,     0.96721,     0.96721,     0.96721,     0.96721,     0.96721,     0.96721,     0.95385,     0.95385,     0.95385,     0.95385,     0.95385,     0.95385,     0.95385,     0.95385,     0.95385,     0.95385,     0.95385,     0.95385,\n",
            "            0.95385,     0.95385,     0.95385,     0.95385,     0.95385,     0.95385,     0.95385,     0.95385,     0.95385,     0.95385,     0.95385,     0.95385,     0.95385,     0.95385,     0.95385,     0.95385,     0.95385,     0.95385,     0.95385,     0.95385,     0.95385,     0.95385,     0.92754,\n",
            "            0.92754,     0.92754,     0.92754,     0.92754,     0.92754,     0.92754,     0.92754,     0.92754,     0.92754,     0.92754,     0.92754,     0.92754,     0.92754,     0.92754,     0.92754,     0.92754,     0.92754,     0.92754,     0.92754,     0.92754,     0.92754,     0.92754,        0.88,\n",
            "               0.88,        0.88,        0.88,        0.88,        0.88,        0.88,        0.88,        0.88,        0.88,        0.88,        0.88,        0.88,        0.88,        0.88,        0.88,        0.88,        0.88,        0.88,        0.88,        0.88,        0.88,        0.88,     0.87013,\n",
            "            0.87013,     0.87013,     0.87013,     0.87013,     0.87013,     0.87013,     0.87013,     0.87013,     0.87013,     0.87013,     0.87013,     0.80952,     0.80952,     0.80952,     0.80952,     0.80952,     0.80952,     0.80952,     0.80952,     0.80952,     0.80952,     0.80952,     0.70707,\n",
            "            0.70707,     0.70707,     0.70707,     0.70707,     0.70707,     0.70707,     0.70707,     0.70707,     0.70707,     0.70707,     0.70707,     0.70707,     0.70707,     0.70707,     0.70707,     0.70707,     0.70707,     0.70707,     0.70707,     0.70707,     0.70707,     0.70707,     0.69231,\n",
            "            0.69231,     0.69231,     0.69231,     0.69231,     0.69231,     0.69231,     0.69231,     0.69231,     0.69231,     0.69231,     0.69231,     0.69231,     0.69231,     0.69231,     0.69231,     0.69231,     0.69231,     0.69231,     0.69231,     0.69231,     0.69231,     0.69231,     0.68224,\n",
            "            0.68224,     0.68224,     0.68224,     0.68224,     0.68224,     0.68224,     0.68224,     0.68224,     0.68224,     0.68224,     0.68224,     0.66071,     0.66071,     0.66071,     0.66071,     0.66071,     0.66071,     0.66071,     0.66071,     0.66071,     0.66071,     0.66071,     0.64655,\n",
            "            0.64655,     0.64655,     0.64655,     0.64655,     0.64655,     0.64655,     0.64655,     0.64655,     0.64655,     0.64655,     0.64655,     0.64407,     0.64407,     0.64407,     0.64407,     0.64407,     0.64407,     0.64407,     0.64407,     0.64407,     0.64407,     0.64407,     0.55797,\n",
            "            0.55797,     0.55797,     0.55797,     0.55797,     0.55797,     0.55797,     0.55797,     0.55797,     0.55797,     0.55797,     0.55797,     0.51974,     0.51974,     0.51974,     0.51974,     0.51974,     0.51974,     0.51974,     0.51974,     0.51974,     0.51974,     0.51974,     0.51974,\n",
            "            0.51974,     0.51974,     0.51974,     0.51974,     0.51974,     0.51974,     0.51974,     0.51974,     0.51974,     0.51974,     0.51974,         0.4,         0.4,         0.4,         0.4,         0.4,         0.4,         0.4,         0.4,         0.4,         0.4,         0.4,     0.29455,\n",
            "            0.29455,     0.29455,     0.29455,     0.29455,     0.29455,     0.29455,     0.29455,     0.29455,     0.29455,     0.29455,     0.29455,     0.15129,     0.15129,     0.15129,     0.15129,     0.15129,     0.15129,     0.15129,     0.15129,     0.15129,     0.15129,     0.15129,     0.11275,\n",
            "            0.11078,      0.1088,     0.10682,     0.10484,     0.10286,     0.10089,    0.098908,     0.09693,    0.094951,    0.092973,    0.090995,    0.089017,    0.087039,    0.085061,    0.083083,    0.081104,    0.079126,    0.077148,     0.07517,    0.073192,    0.071214,    0.069235,    0.067257,\n",
            "           0.065279,    0.063301,    0.061323,    0.059345,    0.057367,    0.055388,     0.05341,    0.051432,    0.049454,    0.047476,    0.045498,    0.043519,    0.041541,    0.039563,    0.037585,    0.035607,    0.033629,     0.03165,    0.029672,    0.027694,    0.025716,    0.023738,     0.02176,\n",
            "           0.019782,    0.017803,    0.015825,    0.013847,    0.011869,   0.0098908,   0.0079126,   0.0059345,   0.0039563,   0.0019782,           0]]), 'Recall', 'Precision'], [array([          0,    0.001001,    0.002002,    0.003003,    0.004004,    0.005005,    0.006006,    0.007007,    0.008008,    0.009009,     0.01001,    0.011011,    0.012012,    0.013013,    0.014014,    0.015015,    0.016016,    0.017017,    0.018018,    0.019019,     0.02002,    0.021021,    0.022022,    0.023023,\n",
            "          0.024024,    0.025025,    0.026026,    0.027027,    0.028028,    0.029029,     0.03003,    0.031031,    0.032032,    0.033033,    0.034034,    0.035035,    0.036036,    0.037037,    0.038038,    0.039039,     0.04004,    0.041041,    0.042042,    0.043043,    0.044044,    0.045045,    0.046046,    0.047047,\n",
            "          0.048048,    0.049049,     0.05005,    0.051051,    0.052052,    0.053053,    0.054054,    0.055055,    0.056056,    0.057057,    0.058058,    0.059059,     0.06006,    0.061061,    0.062062,    0.063063,    0.064064,    0.065065,    0.066066,    0.067067,    0.068068,    0.069069,     0.07007,    0.071071,\n",
            "          0.072072,    0.073073,    0.074074,    0.075075,    0.076076,    0.077077,    0.078078,    0.079079,     0.08008,    0.081081,    0.082082,    0.083083,    0.084084,    0.085085,    0.086086,    0.087087,    0.088088,    0.089089,     0.09009,    0.091091,    0.092092,    0.093093,    0.094094,    0.095095,\n",
            "          0.096096,    0.097097,    0.098098,    0.099099,      0.1001,      0.1011,      0.1021,      0.1031,      0.1041,     0.10511,     0.10611,     0.10711,     0.10811,     0.10911,     0.11011,     0.11111,     0.11211,     0.11311,     0.11411,     0.11512,     0.11612,     0.11712,     0.11812,     0.11912,\n",
            "           0.12012,     0.12112,     0.12212,     0.12312,     0.12412,     0.12513,     0.12613,     0.12713,     0.12813,     0.12913,     0.13013,     0.13113,     0.13213,     0.13313,     0.13413,     0.13514,     0.13614,     0.13714,     0.13814,     0.13914,     0.14014,     0.14114,     0.14214,     0.14314,\n",
            "           0.14414,     0.14515,     0.14615,     0.14715,     0.14815,     0.14915,     0.15015,     0.15115,     0.15215,     0.15315,     0.15415,     0.15516,     0.15616,     0.15716,     0.15816,     0.15916,     0.16016,     0.16116,     0.16216,     0.16316,     0.16416,     0.16517,     0.16617,     0.16717,\n",
            "           0.16817,     0.16917,     0.17017,     0.17117,     0.17217,     0.17317,     0.17417,     0.17518,     0.17618,     0.17718,     0.17818,     0.17918,     0.18018,     0.18118,     0.18218,     0.18318,     0.18418,     0.18519,     0.18619,     0.18719,     0.18819,     0.18919,     0.19019,     0.19119,\n",
            "           0.19219,     0.19319,     0.19419,      0.1952,      0.1962,      0.1972,      0.1982,      0.1992,      0.2002,      0.2012,      0.2022,      0.2032,      0.2042,     0.20521,     0.20621,     0.20721,     0.20821,     0.20921,     0.21021,     0.21121,     0.21221,     0.21321,     0.21421,     0.21522,\n",
            "           0.21622,     0.21722,     0.21822,     0.21922,     0.22022,     0.22122,     0.22222,     0.22322,     0.22422,     0.22523,     0.22623,     0.22723,     0.22823,     0.22923,     0.23023,     0.23123,     0.23223,     0.23323,     0.23423,     0.23524,     0.23624,     0.23724,     0.23824,     0.23924,\n",
            "           0.24024,     0.24124,     0.24224,     0.24324,     0.24424,     0.24525,     0.24625,     0.24725,     0.24825,     0.24925,     0.25025,     0.25125,     0.25225,     0.25325,     0.25425,     0.25526,     0.25626,     0.25726,     0.25826,     0.25926,     0.26026,     0.26126,     0.26226,     0.26326,\n",
            "           0.26426,     0.26527,     0.26627,     0.26727,     0.26827,     0.26927,     0.27027,     0.27127,     0.27227,     0.27327,     0.27427,     0.27528,     0.27628,     0.27728,     0.27828,     0.27928,     0.28028,     0.28128,     0.28228,     0.28328,     0.28428,     0.28529,     0.28629,     0.28729,\n",
            "           0.28829,     0.28929,     0.29029,     0.29129,     0.29229,     0.29329,     0.29429,      0.2953,      0.2963,      0.2973,      0.2983,      0.2993,      0.3003,      0.3013,      0.3023,      0.3033,      0.3043,     0.30531,     0.30631,     0.30731,     0.30831,     0.30931,     0.31031,     0.31131,\n",
            "           0.31231,     0.31331,     0.31431,     0.31532,     0.31632,     0.31732,     0.31832,     0.31932,     0.32032,     0.32132,     0.32232,     0.32332,     0.32432,     0.32533,     0.32633,     0.32733,     0.32833,     0.32933,     0.33033,     0.33133,     0.33233,     0.33333,     0.33433,     0.33534,\n",
            "           0.33634,     0.33734,     0.33834,     0.33934,     0.34034,     0.34134,     0.34234,     0.34334,     0.34434,     0.34535,     0.34635,     0.34735,     0.34835,     0.34935,     0.35035,     0.35135,     0.35235,     0.35335,     0.35435,     0.35536,     0.35636,     0.35736,     0.35836,     0.35936,\n",
            "           0.36036,     0.36136,     0.36236,     0.36336,     0.36436,     0.36537,     0.36637,     0.36737,     0.36837,     0.36937,     0.37037,     0.37137,     0.37237,     0.37337,     0.37437,     0.37538,     0.37638,     0.37738,     0.37838,     0.37938,     0.38038,     0.38138,     0.38238,     0.38338,\n",
            "           0.38438,     0.38539,     0.38639,     0.38739,     0.38839,     0.38939,     0.39039,     0.39139,     0.39239,     0.39339,     0.39439,      0.3954,      0.3964,      0.3974,      0.3984,      0.3994,      0.4004,      0.4014,      0.4024,      0.4034,      0.4044,     0.40541,     0.40641,     0.40741,\n",
            "           0.40841,     0.40941,     0.41041,     0.41141,     0.41241,     0.41341,     0.41441,     0.41542,     0.41642,     0.41742,     0.41842,     0.41942,     0.42042,     0.42142,     0.42242,     0.42342,     0.42442,     0.42543,     0.42643,     0.42743,     0.42843,     0.42943,     0.43043,     0.43143,\n",
            "           0.43243,     0.43343,     0.43443,     0.43544,     0.43644,     0.43744,     0.43844,     0.43944,     0.44044,     0.44144,     0.44244,     0.44344,     0.44444,     0.44545,     0.44645,     0.44745,     0.44845,     0.44945,     0.45045,     0.45145,     0.45245,     0.45345,     0.45445,     0.45546,\n",
            "           0.45646,     0.45746,     0.45846,     0.45946,     0.46046,     0.46146,     0.46246,     0.46346,     0.46446,     0.46547,     0.46647,     0.46747,     0.46847,     0.46947,     0.47047,     0.47147,     0.47247,     0.47347,     0.47447,     0.47548,     0.47648,     0.47748,     0.47848,     0.47948,\n",
            "           0.48048,     0.48148,     0.48248,     0.48348,     0.48448,     0.48549,     0.48649,     0.48749,     0.48849,     0.48949,     0.49049,     0.49149,     0.49249,     0.49349,     0.49449,      0.4955,      0.4965,      0.4975,      0.4985,      0.4995,      0.5005,      0.5015,      0.5025,      0.5035,\n",
            "            0.5045,     0.50551,     0.50651,     0.50751,     0.50851,     0.50951,     0.51051,     0.51151,     0.51251,     0.51351,     0.51451,     0.51552,     0.51652,     0.51752,     0.51852,     0.51952,     0.52052,     0.52152,     0.52252,     0.52352,     0.52452,     0.52553,     0.52653,     0.52753,\n",
            "           0.52853,     0.52953,     0.53053,     0.53153,     0.53253,     0.53353,     0.53453,     0.53554,     0.53654,     0.53754,     0.53854,     0.53954,     0.54054,     0.54154,     0.54254,     0.54354,     0.54454,     0.54555,     0.54655,     0.54755,     0.54855,     0.54955,     0.55055,     0.55155,\n",
            "           0.55255,     0.55355,     0.55455,     0.55556,     0.55656,     0.55756,     0.55856,     0.55956,     0.56056,     0.56156,     0.56256,     0.56356,     0.56456,     0.56557,     0.56657,     0.56757,     0.56857,     0.56957,     0.57057,     0.57157,     0.57257,     0.57357,     0.57457,     0.57558,\n",
            "           0.57658,     0.57758,     0.57858,     0.57958,     0.58058,     0.58158,     0.58258,     0.58358,     0.58458,     0.58559,     0.58659,     0.58759,     0.58859,     0.58959,     0.59059,     0.59159,     0.59259,     0.59359,     0.59459,      0.5956,      0.5966,      0.5976,      0.5986,      0.5996,\n",
            "            0.6006,      0.6016,      0.6026,      0.6036,      0.6046,     0.60561,     0.60661,     0.60761,     0.60861,     0.60961,     0.61061,     0.61161,     0.61261,     0.61361,     0.61461,     0.61562,     0.61662,     0.61762,     0.61862,     0.61962,     0.62062,     0.62162,     0.62262,     0.62362,\n",
            "           0.62462,     0.62563,     0.62663,     0.62763,     0.62863,     0.62963,     0.63063,     0.63163,     0.63263,     0.63363,     0.63463,     0.63564,     0.63664,     0.63764,     0.63864,     0.63964,     0.64064,     0.64164,     0.64264,     0.64364,     0.64464,     0.64565,     0.64665,     0.64765,\n",
            "           0.64865,     0.64965,     0.65065,     0.65165,     0.65265,     0.65365,     0.65465,     0.65566,     0.65666,     0.65766,     0.65866,     0.65966,     0.66066,     0.66166,     0.66266,     0.66366,     0.66466,     0.66567,     0.66667,     0.66767,     0.66867,     0.66967,     0.67067,     0.67167,\n",
            "           0.67267,     0.67367,     0.67467,     0.67568,     0.67668,     0.67768,     0.67868,     0.67968,     0.68068,     0.68168,     0.68268,     0.68368,     0.68468,     0.68569,     0.68669,     0.68769,     0.68869,     0.68969,     0.69069,     0.69169,     0.69269,     0.69369,     0.69469,      0.6957,\n",
            "            0.6967,      0.6977,      0.6987,      0.6997,      0.7007,      0.7017,      0.7027,      0.7037,      0.7047,     0.70571,     0.70671,     0.70771,     0.70871,     0.70971,     0.71071,     0.71171,     0.71271,     0.71371,     0.71471,     0.71572,     0.71672,     0.71772,     0.71872,     0.71972,\n",
            "           0.72072,     0.72172,     0.72272,     0.72372,     0.72472,     0.72573,     0.72673,     0.72773,     0.72873,     0.72973,     0.73073,     0.73173,     0.73273,     0.73373,     0.73473,     0.73574,     0.73674,     0.73774,     0.73874,     0.73974,     0.74074,     0.74174,     0.74274,     0.74374,\n",
            "           0.74474,     0.74575,     0.74675,     0.74775,     0.74875,     0.74975,     0.75075,     0.75175,     0.75275,     0.75375,     0.75475,     0.75576,     0.75676,     0.75776,     0.75876,     0.75976,     0.76076,     0.76176,     0.76276,     0.76376,     0.76476,     0.76577,     0.76677,     0.76777,\n",
            "           0.76877,     0.76977,     0.77077,     0.77177,     0.77277,     0.77377,     0.77477,     0.77578,     0.77678,     0.77778,     0.77878,     0.77978,     0.78078,     0.78178,     0.78278,     0.78378,     0.78478,     0.78579,     0.78679,     0.78779,     0.78879,     0.78979,     0.79079,     0.79179,\n",
            "           0.79279,     0.79379,     0.79479,      0.7958,      0.7968,      0.7978,      0.7988,      0.7998,      0.8008,      0.8018,      0.8028,      0.8038,      0.8048,     0.80581,     0.80681,     0.80781,     0.80881,     0.80981,     0.81081,     0.81181,     0.81281,     0.81381,     0.81481,     0.81582,\n",
            "           0.81682,     0.81782,     0.81882,     0.81982,     0.82082,     0.82182,     0.82282,     0.82382,     0.82482,     0.82583,     0.82683,     0.82783,     0.82883,     0.82983,     0.83083,     0.83183,     0.83283,     0.83383,     0.83483,     0.83584,     0.83684,     0.83784,     0.83884,     0.83984,\n",
            "           0.84084,     0.84184,     0.84284,     0.84384,     0.84484,     0.84585,     0.84685,     0.84785,     0.84885,     0.84985,     0.85085,     0.85185,     0.85285,     0.85385,     0.85485,     0.85586,     0.85686,     0.85786,     0.85886,     0.85986,     0.86086,     0.86186,     0.86286,     0.86386,\n",
            "           0.86486,     0.86587,     0.86687,     0.86787,     0.86887,     0.86987,     0.87087,     0.87187,     0.87287,     0.87387,     0.87487,     0.87588,     0.87688,     0.87788,     0.87888,     0.87988,     0.88088,     0.88188,     0.88288,     0.88388,     0.88488,     0.88589,     0.88689,     0.88789,\n",
            "           0.88889,     0.88989,     0.89089,     0.89189,     0.89289,     0.89389,     0.89489,      0.8959,      0.8969,      0.8979,      0.8989,      0.8999,      0.9009,      0.9019,      0.9029,      0.9039,      0.9049,     0.90591,     0.90691,     0.90791,     0.90891,     0.90991,     0.91091,     0.91191,\n",
            "           0.91291,     0.91391,     0.91491,     0.91592,     0.91692,     0.91792,     0.91892,     0.91992,     0.92092,     0.92192,     0.92292,     0.92392,     0.92492,     0.92593,     0.92693,     0.92793,     0.92893,     0.92993,     0.93093,     0.93193,     0.93293,     0.93393,     0.93493,     0.93594,\n",
            "           0.93694,     0.93794,     0.93894,     0.93994,     0.94094,     0.94194,     0.94294,     0.94394,     0.94494,     0.94595,     0.94695,     0.94795,     0.94895,     0.94995,     0.95095,     0.95195,     0.95295,     0.95395,     0.95495,     0.95596,     0.95696,     0.95796,     0.95896,     0.95996,\n",
            "           0.96096,     0.96196,     0.96296,     0.96396,     0.96496,     0.96597,     0.96697,     0.96797,     0.96897,     0.96997,     0.97097,     0.97197,     0.97297,     0.97397,     0.97497,     0.97598,     0.97698,     0.97798,     0.97898,     0.97998,     0.98098,     0.98198,     0.98298,     0.98398,\n",
            "           0.98498,     0.98599,     0.98699,     0.98799,     0.98899,     0.98999,     0.99099,     0.99199,     0.99299,     0.99399,     0.99499,       0.996,       0.997,       0.998,       0.999,           1]), array([[    0.20272,     0.20273,     0.26802,     0.30478,     0.33591,     0.35703,     0.38188,     0.39717,     0.42354,     0.44212,     0.45502,     0.46492,     0.48315,     0.49928,     0.50487,     0.51358,      0.5227,     0.52953,     0.53985,     0.55097,     0.55718,     0.55288,     0.55381,\n",
            "            0.55533,     0.56339,     0.57271,     0.57697,      0.5836,     0.58577,     0.59016,     0.59576,     0.60175,     0.60469,     0.60864,     0.61342,     0.61651,     0.61928,     0.62751,     0.62962,     0.63327,     0.63463,     0.63536,     0.63609,     0.63682,     0.64147,      0.6443,\n",
            "            0.64743,     0.65115,     0.65302,      0.6568,     0.65864,     0.66012,     0.65995,     0.65665,     0.65299,     0.65455,     0.65673,     0.65967,     0.66151,     0.66247,     0.66343,      0.6654,     0.66822,     0.66989,     0.67048,     0.67107,     0.67165,     0.67224,     0.67401,\n",
            "            0.67998,     0.68326,     0.67891,     0.68027,     0.68162,     0.68553,     0.68785,     0.68887,     0.68988,      0.6909,     0.69213,     0.69337,     0.70051,     0.70153,     0.70255,     0.70357,     0.70452,     0.70545,     0.70638,     0.70969,     0.71092,     0.71161,     0.71231,\n",
            "              0.713,     0.71493,     0.71741,     0.71793,     0.71845,     0.71896,     0.71948,        0.72,     0.72443,      0.7269,     0.72804,     0.72895,     0.72985,     0.73075,     0.73305,     0.73447,     0.73483,     0.73519,     0.73554,      0.7359,     0.73626,     0.73662,     0.73698,\n",
            "            0.73733,     0.73769,     0.73819,     0.73882,     0.73945,     0.74008,      0.7407,     0.74133,     0.73734,     0.73844,     0.73748,     0.73651,     0.73555,     0.73458,     0.73361,     0.73269,     0.73335,       0.734,     0.73465,     0.73531,     0.73596,      0.7364,     0.73659,\n",
            "            0.73677,     0.73695,     0.73714,     0.73732,     0.73751,     0.73769,     0.73788,     0.73806,     0.73824,     0.73843,     0.73861,      0.7388,     0.73898,     0.73916,     0.73935,     0.73953,     0.73971,      0.7399,     0.74139,     0.74366,     0.74343,      0.7432,     0.74297,\n",
            "            0.74274,     0.74252,     0.74229,     0.74206,     0.74183,      0.7416,     0.74138,     0.74115,     0.74092,     0.74069,     0.74046,     0.74023,        0.74,     0.73978,     0.73955,     0.73932,     0.73909,     0.73886,     0.73863,      0.7384,     0.73818,     0.73795,     0.73772,\n",
            "            0.73749,     0.73778,      0.7386,     0.73942,     0.74023,     0.74105,     0.74148,     0.74188,     0.74228,     0.74268,     0.74308,     0.74348,     0.74388,     0.74428,     0.74468,     0.74561,     0.74721,     0.74879,     0.75015,      0.7515,     0.75171,     0.74752,     0.74634,\n",
            "            0.74667,     0.74701,     0.74734,     0.74767,     0.74801,     0.74834,     0.74867,     0.74901,     0.74934,     0.74967,        0.75,      0.7505,     0.75099,     0.75148,     0.75197,     0.75246,     0.75295,     0.75344,     0.75393,     0.74933,     0.74355,     0.74147,     0.74272,\n",
            "            0.74397,     0.74521,     0.74643,     0.74765,     0.74923,     0.75267,     0.75172,     0.75077,     0.74982,     0.74887,     0.74791,     0.74696,     0.74601,     0.74438,     0.74271,     0.74103,     0.73935,     0.74015,     0.74132,     0.74248,     0.74347,      0.7442,     0.74493,\n",
            "            0.74567,      0.7464,     0.74712,     0.74968,     0.75154,     0.75193,     0.75232,     0.75271,      0.7531,     0.75349,     0.75388,     0.75427,     0.75466,     0.75504,     0.75543,     0.75586,      0.7563,     0.75674,     0.75719,     0.75763,     0.75807,     0.75851,     0.75895,\n",
            "            0.75939,     0.75982,     0.76013,     0.76045,     0.76077,     0.76108,      0.7614,     0.76172,     0.76203,     0.76235,     0.76266,     0.76298,     0.76329,      0.7636,     0.76392,     0.76437,     0.76491,     0.76546,       0.766,     0.76654,     0.76708,     0.76762,     0.76816,\n",
            "             0.7686,     0.76899,     0.76938,     0.76977,     0.77015,     0.77054,     0.77093,     0.77131,      0.7717,     0.77208,     0.77247,      0.7732,     0.77463,     0.77606,     0.77785,     0.78073,     0.78653,     0.78717,     0.78781,     0.78845,     0.78909,     0.78972,     0.79036,\n",
            "            0.79086,     0.79121,     0.79156,     0.79191,     0.79226,     0.79261,     0.79296,     0.79331,     0.79366,     0.79401,     0.79436,     0.79471,     0.79506,     0.79521,     0.79475,     0.79428,     0.79382,     0.79336,     0.79289,     0.79242,     0.79196,     0.79149,     0.79103,\n",
            "            0.79056,      0.7901,     0.78963,     0.78916,     0.78869,     0.78824,     0.78852,      0.7888,     0.78908,     0.78936,     0.78964,     0.78992,      0.7902,     0.79048,     0.79075,     0.79103,     0.79131,     0.79159,     0.79187,     0.79214,     0.79242,      0.7927,     0.79293,\n",
            "            0.79304,     0.79314,     0.79325,     0.79336,     0.79347,     0.79357,     0.79368,     0.79379,      0.7939,       0.794,     0.79411,     0.79422,     0.79432,     0.79443,     0.79454,     0.79465,     0.79475,     0.79486,     0.79497,     0.79507,     0.79518,     0.79529,     0.79539,\n",
            "             0.7955,     0.79561,     0.79571,     0.79582,     0.79593,     0.79603,     0.79614,     0.79625,     0.79635,     0.79646,     0.79657,     0.79667,     0.79678,     0.79689,     0.79699,      0.7971,     0.79721,     0.79731,     0.79742,     0.79752,     0.79763,     0.79774,     0.79785,\n",
            "            0.79796,     0.79806,     0.79817,     0.79828,     0.79839,      0.7985,      0.7986,     0.79871,     0.79882,     0.79893,     0.79903,     0.79914,     0.79925,     0.79936,     0.79947,     0.79957,     0.79968,     0.79979,      0.7999,         0.8,     0.80011,     0.80022,     0.80033,\n",
            "            0.80043,     0.80054,     0.80065,     0.80075,     0.80086,     0.80097,     0.80108,     0.80118,     0.80129,      0.8014,      0.8015,     0.80161,     0.80172,     0.80183,     0.80193,     0.80204,     0.80215,     0.80225,     0.80236,     0.80286,     0.80354,     0.80423,     0.80491,\n",
            "             0.8056,     0.80628,     0.80696,     0.80754,     0.80806,     0.80858,     0.80909,     0.80961,     0.81012,     0.81064,     0.81115,     0.81166,     0.81219,      0.8128,     0.81341,     0.81402,     0.81462,     0.81523,     0.81583,     0.81644,     0.81704,     0.81537,     0.81357,\n",
            "            0.81177,     0.80996,     0.81162,     0.81356,     0.81438,     0.81312,     0.81187,     0.81062,     0.80936,      0.8081,     0.80656,     0.80471,     0.80286,     0.80101,     0.80079,     0.80251,     0.80423,     0.81053,     0.81134,     0.81216,     0.81297,     0.81378,     0.81459,\n",
            "            0.81983,     0.80548,     0.80938,     0.81065,     0.81091,     0.81118,     0.81144,      0.8117,     0.81197,     0.81223,     0.81249,     0.81275,     0.81302,     0.81328,     0.81354,      0.8138,     0.81406,     0.81432,     0.81458,     0.81485,     0.81511,     0.81537,     0.81563,\n",
            "            0.81574,      0.8156,     0.81546,     0.81532,     0.81518,     0.81504,      0.8149,     0.81476,     0.81462,     0.81448,     0.81434,      0.8142,     0.81406,     0.81392,     0.81378,     0.81364,      0.8135,     0.81336,     0.81322,     0.81308,     0.81294,      0.8128,     0.81266,\n",
            "            0.81252,     0.81238,     0.81224,      0.8121,     0.81196,     0.81182,     0.81168,     0.81154,      0.8114,     0.81126,     0.81112,     0.81098,     0.81084,      0.8107,     0.81056,     0.81042,     0.81028,     0.81014,        0.81,     0.80986,     0.80972,     0.80957,     0.80943,\n",
            "            0.80929,     0.80915,     0.80901,     0.80887,     0.80873,     0.80859,     0.80845,     0.80831,     0.80817,     0.80802,     0.80759,     0.80681,     0.80602,     0.80523,     0.80445,     0.80366,     0.80287,     0.80208,     0.80129,     0.80049,     0.79892,     0.79605,     0.79317,\n",
            "             0.7921,     0.79237,     0.79263,      0.7929,     0.79317,     0.79344,      0.7937,     0.79397,     0.79423,      0.7945,     0.79476,     0.79503,     0.79529,     0.79556,     0.79582,     0.79609,     0.79635,     0.79661,     0.79688,     0.79714,     0.79562,     0.79138,     0.78292,\n",
            "            0.78072,     0.78061,     0.78049,     0.78037,     0.78025,     0.78014,     0.78002,      0.7799,     0.77978,     0.77967,     0.77955,     0.77943,     0.77931,      0.7792,     0.77908,     0.77896,     0.77884,     0.77873,     0.77861,     0.77849,     0.77837,     0.77826,     0.77814,\n",
            "            0.77802,      0.7779,     0.77778,     0.77767,     0.77755,     0.77743,     0.77731,      0.7772,     0.77708,     0.77696,     0.77684,     0.77672,     0.77661,     0.77649,     0.77637,     0.77625,     0.77613,     0.77602,      0.7759,     0.77578,     0.77566,     0.77554,     0.77542,\n",
            "            0.77531,     0.77519,     0.77507,     0.77495,     0.77483,     0.77471,      0.7746,     0.77448,     0.77436,     0.77424,     0.77412,       0.774,     0.77389,     0.77377,     0.77365,     0.77353,     0.77341,     0.77329,     0.77317,     0.77306,     0.77294,     0.77282,      0.7727,\n",
            "            0.77258,     0.77246,     0.77168,     0.77043,     0.76919,     0.76794,     0.76669,     0.76544,     0.76419,     0.76243,      0.7605,     0.75858,     0.75664,     0.75478,     0.75314,     0.75149,     0.74983,     0.74817,     0.74651,     0.74562,     0.74474,     0.74386,     0.74298,\n",
            "             0.7421,     0.74122,     0.74033,     0.73945,     0.73856,     0.73767,     0.73812,      0.7387,     0.73928,     0.73986,     0.74044,     0.74102,      0.7416,     0.74217,     0.74274,     0.73802,      0.7311,     0.72437,     0.72337,     0.72238,     0.72138,     0.72038,     0.71938,\n",
            "            0.71838,     0.71737,     0.71637,     0.71536,     0.70315,      0.6958,     0.69318,     0.69055,     0.68791,     0.68413,     0.67918,     0.67563,      0.6735,     0.67137,     0.66923,     0.66709,     0.66491,     0.66271,     0.66051,     0.65831,     0.65542,     0.64937,      0.6443,\n",
            "            0.64034,     0.63635,       0.626,     0.62056,     0.61567,     0.60829,     0.60232,     0.60019,     0.59805,      0.5959,     0.59375,      0.5908,     0.58444,     0.57829,     0.57248,     0.56514,     0.55668,     0.55279,     0.54887,     0.54529,     0.54402,     0.54276,     0.54149,\n",
            "            0.54021,     0.53894,     0.53766,     0.53639,      0.5351,     0.53382,      0.5198,     0.51738,     0.51494,      0.5125,     0.51005,     0.50881,     0.50974,     0.51066,     0.51157,     0.51247,     0.49888,     0.49271,     0.48676,       0.484,     0.48123,     0.47845,     0.47566,\n",
            "            0.45937,      0.4559,     0.45242,     0.44892,     0.44462,     0.43837,     0.43185,     0.42195,     0.41608,     0.41268,     0.40927,     0.40585,      0.4025,     0.39929,     0.39607,     0.39283,     0.38958,     0.36023,     0.34756,     0.33884,     0.33226,     0.32513,     0.31581,\n",
            "            0.30824,     0.30285,     0.29741,      0.2918,     0.28593,     0.28002,     0.25601,     0.24146,     0.23705,     0.23263,     0.22819,     0.22339,     0.21701,     0.21058,     0.18811,     0.18328,       0.179,     0.17469,     0.17037,     0.14565,     0.13937,     0.13303,     0.12722,\n",
            "            0.12232,     0.11739,     0.11244,     0.10827,     0.10655,     0.10482,      0.1031,     0.10136,     0.09963,    0.097893,    0.096152,    0.094408,    0.092661,    0.090911,    0.089158,    0.086152,    0.080069,    0.073948,    0.067788,    0.064546,    0.061949,    0.059345,    0.056734,\n",
            "           0.054115,     0.05149,    0.048858,    0.046219,    0.043428,    0.040493,    0.037551,    0.034599,    0.031638,    0.028669,     0.02569,           0,           0,           0,           0,           0,           0,           0,           0,           0,           0,           0,           0,\n",
            "                  0,           0,           0,           0,           0,           0,           0,           0,           0,           0,           0,           0,           0,           0,           0,           0,           0,           0,           0,           0,           0,           0,           0,\n",
            "                  0,           0,           0,           0,           0,           0,           0,           0,           0,           0,           0,           0,           0,           0,           0,           0,           0,           0,           0,           0,           0,           0,           0,\n",
            "                  0,           0,           0,           0,           0,           0,           0,           0,           0,           0,           0,           0,           0,           0,           0,           0,           0,           0,           0,           0,           0,           0,           0,\n",
            "                  0,           0,           0,           0,           0,           0,           0,           0,           0,           0,           0,           0,           0,           0,           0,           0,           0,           0,           0,           0,           0,           0,           0,\n",
            "                  0,           0,           0,           0,           0,           0,           0,           0,           0,           0,           0]]), 'Confidence', 'F1'], [array([          0,    0.001001,    0.002002,    0.003003,    0.004004,    0.005005,    0.006006,    0.007007,    0.008008,    0.009009,     0.01001,    0.011011,    0.012012,    0.013013,    0.014014,    0.015015,    0.016016,    0.017017,    0.018018,    0.019019,     0.02002,    0.021021,    0.022022,    0.023023,\n",
            "          0.024024,    0.025025,    0.026026,    0.027027,    0.028028,    0.029029,     0.03003,    0.031031,    0.032032,    0.033033,    0.034034,    0.035035,    0.036036,    0.037037,    0.038038,    0.039039,     0.04004,    0.041041,    0.042042,    0.043043,    0.044044,    0.045045,    0.046046,    0.047047,\n",
            "          0.048048,    0.049049,     0.05005,    0.051051,    0.052052,    0.053053,    0.054054,    0.055055,    0.056056,    0.057057,    0.058058,    0.059059,     0.06006,    0.061061,    0.062062,    0.063063,    0.064064,    0.065065,    0.066066,    0.067067,    0.068068,    0.069069,     0.07007,    0.071071,\n",
            "          0.072072,    0.073073,    0.074074,    0.075075,    0.076076,    0.077077,    0.078078,    0.079079,     0.08008,    0.081081,    0.082082,    0.083083,    0.084084,    0.085085,    0.086086,    0.087087,    0.088088,    0.089089,     0.09009,    0.091091,    0.092092,    0.093093,    0.094094,    0.095095,\n",
            "          0.096096,    0.097097,    0.098098,    0.099099,      0.1001,      0.1011,      0.1021,      0.1031,      0.1041,     0.10511,     0.10611,     0.10711,     0.10811,     0.10911,     0.11011,     0.11111,     0.11211,     0.11311,     0.11411,     0.11512,     0.11612,     0.11712,     0.11812,     0.11912,\n",
            "           0.12012,     0.12112,     0.12212,     0.12312,     0.12412,     0.12513,     0.12613,     0.12713,     0.12813,     0.12913,     0.13013,     0.13113,     0.13213,     0.13313,     0.13413,     0.13514,     0.13614,     0.13714,     0.13814,     0.13914,     0.14014,     0.14114,     0.14214,     0.14314,\n",
            "           0.14414,     0.14515,     0.14615,     0.14715,     0.14815,     0.14915,     0.15015,     0.15115,     0.15215,     0.15315,     0.15415,     0.15516,     0.15616,     0.15716,     0.15816,     0.15916,     0.16016,     0.16116,     0.16216,     0.16316,     0.16416,     0.16517,     0.16617,     0.16717,\n",
            "           0.16817,     0.16917,     0.17017,     0.17117,     0.17217,     0.17317,     0.17417,     0.17518,     0.17618,     0.17718,     0.17818,     0.17918,     0.18018,     0.18118,     0.18218,     0.18318,     0.18418,     0.18519,     0.18619,     0.18719,     0.18819,     0.18919,     0.19019,     0.19119,\n",
            "           0.19219,     0.19319,     0.19419,      0.1952,      0.1962,      0.1972,      0.1982,      0.1992,      0.2002,      0.2012,      0.2022,      0.2032,      0.2042,     0.20521,     0.20621,     0.20721,     0.20821,     0.20921,     0.21021,     0.21121,     0.21221,     0.21321,     0.21421,     0.21522,\n",
            "           0.21622,     0.21722,     0.21822,     0.21922,     0.22022,     0.22122,     0.22222,     0.22322,     0.22422,     0.22523,     0.22623,     0.22723,     0.22823,     0.22923,     0.23023,     0.23123,     0.23223,     0.23323,     0.23423,     0.23524,     0.23624,     0.23724,     0.23824,     0.23924,\n",
            "           0.24024,     0.24124,     0.24224,     0.24324,     0.24424,     0.24525,     0.24625,     0.24725,     0.24825,     0.24925,     0.25025,     0.25125,     0.25225,     0.25325,     0.25425,     0.25526,     0.25626,     0.25726,     0.25826,     0.25926,     0.26026,     0.26126,     0.26226,     0.26326,\n",
            "           0.26426,     0.26527,     0.26627,     0.26727,     0.26827,     0.26927,     0.27027,     0.27127,     0.27227,     0.27327,     0.27427,     0.27528,     0.27628,     0.27728,     0.27828,     0.27928,     0.28028,     0.28128,     0.28228,     0.28328,     0.28428,     0.28529,     0.28629,     0.28729,\n",
            "           0.28829,     0.28929,     0.29029,     0.29129,     0.29229,     0.29329,     0.29429,      0.2953,      0.2963,      0.2973,      0.2983,      0.2993,      0.3003,      0.3013,      0.3023,      0.3033,      0.3043,     0.30531,     0.30631,     0.30731,     0.30831,     0.30931,     0.31031,     0.31131,\n",
            "           0.31231,     0.31331,     0.31431,     0.31532,     0.31632,     0.31732,     0.31832,     0.31932,     0.32032,     0.32132,     0.32232,     0.32332,     0.32432,     0.32533,     0.32633,     0.32733,     0.32833,     0.32933,     0.33033,     0.33133,     0.33233,     0.33333,     0.33433,     0.33534,\n",
            "           0.33634,     0.33734,     0.33834,     0.33934,     0.34034,     0.34134,     0.34234,     0.34334,     0.34434,     0.34535,     0.34635,     0.34735,     0.34835,     0.34935,     0.35035,     0.35135,     0.35235,     0.35335,     0.35435,     0.35536,     0.35636,     0.35736,     0.35836,     0.35936,\n",
            "           0.36036,     0.36136,     0.36236,     0.36336,     0.36436,     0.36537,     0.36637,     0.36737,     0.36837,     0.36937,     0.37037,     0.37137,     0.37237,     0.37337,     0.37437,     0.37538,     0.37638,     0.37738,     0.37838,     0.37938,     0.38038,     0.38138,     0.38238,     0.38338,\n",
            "           0.38438,     0.38539,     0.38639,     0.38739,     0.38839,     0.38939,     0.39039,     0.39139,     0.39239,     0.39339,     0.39439,      0.3954,      0.3964,      0.3974,      0.3984,      0.3994,      0.4004,      0.4014,      0.4024,      0.4034,      0.4044,     0.40541,     0.40641,     0.40741,\n",
            "           0.40841,     0.40941,     0.41041,     0.41141,     0.41241,     0.41341,     0.41441,     0.41542,     0.41642,     0.41742,     0.41842,     0.41942,     0.42042,     0.42142,     0.42242,     0.42342,     0.42442,     0.42543,     0.42643,     0.42743,     0.42843,     0.42943,     0.43043,     0.43143,\n",
            "           0.43243,     0.43343,     0.43443,     0.43544,     0.43644,     0.43744,     0.43844,     0.43944,     0.44044,     0.44144,     0.44244,     0.44344,     0.44444,     0.44545,     0.44645,     0.44745,     0.44845,     0.44945,     0.45045,     0.45145,     0.45245,     0.45345,     0.45445,     0.45546,\n",
            "           0.45646,     0.45746,     0.45846,     0.45946,     0.46046,     0.46146,     0.46246,     0.46346,     0.46446,     0.46547,     0.46647,     0.46747,     0.46847,     0.46947,     0.47047,     0.47147,     0.47247,     0.47347,     0.47447,     0.47548,     0.47648,     0.47748,     0.47848,     0.47948,\n",
            "           0.48048,     0.48148,     0.48248,     0.48348,     0.48448,     0.48549,     0.48649,     0.48749,     0.48849,     0.48949,     0.49049,     0.49149,     0.49249,     0.49349,     0.49449,      0.4955,      0.4965,      0.4975,      0.4985,      0.4995,      0.5005,      0.5015,      0.5025,      0.5035,\n",
            "            0.5045,     0.50551,     0.50651,     0.50751,     0.50851,     0.50951,     0.51051,     0.51151,     0.51251,     0.51351,     0.51451,     0.51552,     0.51652,     0.51752,     0.51852,     0.51952,     0.52052,     0.52152,     0.52252,     0.52352,     0.52452,     0.52553,     0.52653,     0.52753,\n",
            "           0.52853,     0.52953,     0.53053,     0.53153,     0.53253,     0.53353,     0.53453,     0.53554,     0.53654,     0.53754,     0.53854,     0.53954,     0.54054,     0.54154,     0.54254,     0.54354,     0.54454,     0.54555,     0.54655,     0.54755,     0.54855,     0.54955,     0.55055,     0.55155,\n",
            "           0.55255,     0.55355,     0.55455,     0.55556,     0.55656,     0.55756,     0.55856,     0.55956,     0.56056,     0.56156,     0.56256,     0.56356,     0.56456,     0.56557,     0.56657,     0.56757,     0.56857,     0.56957,     0.57057,     0.57157,     0.57257,     0.57357,     0.57457,     0.57558,\n",
            "           0.57658,     0.57758,     0.57858,     0.57958,     0.58058,     0.58158,     0.58258,     0.58358,     0.58458,     0.58559,     0.58659,     0.58759,     0.58859,     0.58959,     0.59059,     0.59159,     0.59259,     0.59359,     0.59459,      0.5956,      0.5966,      0.5976,      0.5986,      0.5996,\n",
            "            0.6006,      0.6016,      0.6026,      0.6036,      0.6046,     0.60561,     0.60661,     0.60761,     0.60861,     0.60961,     0.61061,     0.61161,     0.61261,     0.61361,     0.61461,     0.61562,     0.61662,     0.61762,     0.61862,     0.61962,     0.62062,     0.62162,     0.62262,     0.62362,\n",
            "           0.62462,     0.62563,     0.62663,     0.62763,     0.62863,     0.62963,     0.63063,     0.63163,     0.63263,     0.63363,     0.63463,     0.63564,     0.63664,     0.63764,     0.63864,     0.63964,     0.64064,     0.64164,     0.64264,     0.64364,     0.64464,     0.64565,     0.64665,     0.64765,\n",
            "           0.64865,     0.64965,     0.65065,     0.65165,     0.65265,     0.65365,     0.65465,     0.65566,     0.65666,     0.65766,     0.65866,     0.65966,     0.66066,     0.66166,     0.66266,     0.66366,     0.66466,     0.66567,     0.66667,     0.66767,     0.66867,     0.66967,     0.67067,     0.67167,\n",
            "           0.67267,     0.67367,     0.67467,     0.67568,     0.67668,     0.67768,     0.67868,     0.67968,     0.68068,     0.68168,     0.68268,     0.68368,     0.68468,     0.68569,     0.68669,     0.68769,     0.68869,     0.68969,     0.69069,     0.69169,     0.69269,     0.69369,     0.69469,      0.6957,\n",
            "            0.6967,      0.6977,      0.6987,      0.6997,      0.7007,      0.7017,      0.7027,      0.7037,      0.7047,     0.70571,     0.70671,     0.70771,     0.70871,     0.70971,     0.71071,     0.71171,     0.71271,     0.71371,     0.71471,     0.71572,     0.71672,     0.71772,     0.71872,     0.71972,\n",
            "           0.72072,     0.72172,     0.72272,     0.72372,     0.72472,     0.72573,     0.72673,     0.72773,     0.72873,     0.72973,     0.73073,     0.73173,     0.73273,     0.73373,     0.73473,     0.73574,     0.73674,     0.73774,     0.73874,     0.73974,     0.74074,     0.74174,     0.74274,     0.74374,\n",
            "           0.74474,     0.74575,     0.74675,     0.74775,     0.74875,     0.74975,     0.75075,     0.75175,     0.75275,     0.75375,     0.75475,     0.75576,     0.75676,     0.75776,     0.75876,     0.75976,     0.76076,     0.76176,     0.76276,     0.76376,     0.76476,     0.76577,     0.76677,     0.76777,\n",
            "           0.76877,     0.76977,     0.77077,     0.77177,     0.77277,     0.77377,     0.77477,     0.77578,     0.77678,     0.77778,     0.77878,     0.77978,     0.78078,     0.78178,     0.78278,     0.78378,     0.78478,     0.78579,     0.78679,     0.78779,     0.78879,     0.78979,     0.79079,     0.79179,\n",
            "           0.79279,     0.79379,     0.79479,      0.7958,      0.7968,      0.7978,      0.7988,      0.7998,      0.8008,      0.8018,      0.8028,      0.8038,      0.8048,     0.80581,     0.80681,     0.80781,     0.80881,     0.80981,     0.81081,     0.81181,     0.81281,     0.81381,     0.81481,     0.81582,\n",
            "           0.81682,     0.81782,     0.81882,     0.81982,     0.82082,     0.82182,     0.82282,     0.82382,     0.82482,     0.82583,     0.82683,     0.82783,     0.82883,     0.82983,     0.83083,     0.83183,     0.83283,     0.83383,     0.83483,     0.83584,     0.83684,     0.83784,     0.83884,     0.83984,\n",
            "           0.84084,     0.84184,     0.84284,     0.84384,     0.84484,     0.84585,     0.84685,     0.84785,     0.84885,     0.84985,     0.85085,     0.85185,     0.85285,     0.85385,     0.85485,     0.85586,     0.85686,     0.85786,     0.85886,     0.85986,     0.86086,     0.86186,     0.86286,     0.86386,\n",
            "           0.86486,     0.86587,     0.86687,     0.86787,     0.86887,     0.86987,     0.87087,     0.87187,     0.87287,     0.87387,     0.87487,     0.87588,     0.87688,     0.87788,     0.87888,     0.87988,     0.88088,     0.88188,     0.88288,     0.88388,     0.88488,     0.88589,     0.88689,     0.88789,\n",
            "           0.88889,     0.88989,     0.89089,     0.89189,     0.89289,     0.89389,     0.89489,      0.8959,      0.8969,      0.8979,      0.8989,      0.8999,      0.9009,      0.9019,      0.9029,      0.9039,      0.9049,     0.90591,     0.90691,     0.90791,     0.90891,     0.90991,     0.91091,     0.91191,\n",
            "           0.91291,     0.91391,     0.91491,     0.91592,     0.91692,     0.91792,     0.91892,     0.91992,     0.92092,     0.92192,     0.92292,     0.92392,     0.92492,     0.92593,     0.92693,     0.92793,     0.92893,     0.92993,     0.93093,     0.93193,     0.93293,     0.93393,     0.93493,     0.93594,\n",
            "           0.93694,     0.93794,     0.93894,     0.93994,     0.94094,     0.94194,     0.94294,     0.94394,     0.94494,     0.94595,     0.94695,     0.94795,     0.94895,     0.94995,     0.95095,     0.95195,     0.95295,     0.95395,     0.95495,     0.95596,     0.95696,     0.95796,     0.95896,     0.95996,\n",
            "           0.96096,     0.96196,     0.96296,     0.96396,     0.96496,     0.96597,     0.96697,     0.96797,     0.96897,     0.96997,     0.97097,     0.97197,     0.97297,     0.97397,     0.97497,     0.97598,     0.97698,     0.97798,     0.97898,     0.97998,     0.98098,     0.98198,     0.98298,     0.98398,\n",
            "           0.98498,     0.98599,     0.98699,     0.98799,     0.98899,     0.98999,     0.99099,     0.99199,     0.99299,     0.99399,     0.99499,       0.996,       0.997,       0.998,       0.999,           1]), array([[    0.11357,     0.11358,     0.15654,     0.18221,     0.20492,     0.22086,      0.2402,     0.25242,     0.27412,     0.28989,     0.30231,     0.31111,     0.32766,     0.34267,     0.34796,     0.35629,     0.36513,     0.37182,     0.38208,     0.39332,     0.39968,     0.39743,     0.39839,\n",
            "            0.39996,     0.40839,     0.41825,     0.42282,     0.42997,     0.43234,     0.43713,      0.4433,     0.44997,     0.45327,     0.45771,     0.46314,     0.46668,     0.46986,     0.47941,     0.48186,     0.48615,     0.48776,     0.48862,     0.48949,     0.49036,     0.49589,     0.49928,\n",
            "            0.50305,     0.50756,     0.50983,     0.51445,     0.51672,     0.51854,     0.51909,     0.51722,     0.51735,     0.51931,     0.52205,     0.52577,     0.52812,     0.52934,     0.53057,     0.53309,     0.53672,     0.53889,     0.53965,     0.54041,     0.54116,     0.54192,     0.54423,\n",
            "            0.55206,     0.55732,      0.5552,     0.55701,     0.55883,     0.56411,     0.56726,     0.56864,     0.57002,     0.57141,      0.5731,      0.5748,     0.58468,     0.58611,     0.58754,     0.58897,     0.59029,      0.5916,     0.59291,     0.59758,     0.59933,     0.60032,     0.60131,\n",
            "            0.60229,     0.60505,     0.60862,     0.60937,     0.61011,     0.61086,      0.6116,     0.61235,     0.61879,      0.6224,     0.62408,     0.62541,     0.62674,     0.62807,     0.63148,     0.63358,     0.63412,     0.63465,     0.63519,     0.63572,     0.63626,     0.63679,     0.63733,\n",
            "            0.63786,      0.6384,     0.63914,     0.64009,     0.64103,     0.64198,     0.64292,     0.64387,     0.64414,     0.64632,     0.64584,     0.64537,     0.64489,     0.64442,     0.64394,     0.64351,     0.64452,     0.64553,     0.64654,     0.64755,     0.64856,     0.64925,     0.64954,\n",
            "            0.64983,     0.65011,      0.6504,     0.65069,     0.65097,     0.65126,     0.65155,     0.65183,     0.65212,     0.65241,      0.6527,     0.65298,     0.65327,     0.65356,     0.65384,     0.65413,     0.65442,      0.6547,     0.65705,     0.66068,     0.66057,     0.66046,     0.66035,\n",
            "            0.66024,     0.66013,     0.66002,     0.65991,      0.6598,     0.65969,     0.65958,     0.65947,     0.65936,     0.65925,     0.65914,     0.65903,     0.65892,     0.65881,      0.6587,     0.65859,     0.65848,     0.65837,     0.65826,     0.65815,     0.65804,     0.65793,     0.65782,\n",
            "            0.65771,     0.65831,     0.65961,     0.66092,     0.66222,     0.66352,     0.66422,     0.66487,     0.66551,     0.66615,      0.6668,     0.66744,     0.66808,     0.66873,     0.66937,     0.67088,     0.67347,     0.67604,     0.67826,     0.68048,     0.68184,      0.6799,     0.67961,\n",
            "            0.68017,     0.68072,     0.68128,     0.68183,     0.68239,     0.68294,      0.6835,     0.68405,     0.68461,     0.68516,     0.68572,     0.68654,     0.68737,     0.68819,     0.68901,     0.68984,     0.69066,     0.69148,     0.69231,     0.69021,     0.68756,     0.68753,     0.68969,\n",
            "            0.69185,     0.69399,     0.69611,     0.69822,       0.701,     0.70706,     0.70664,     0.70622,      0.7058,     0.70537,     0.70495,     0.70453,     0.70411,     0.70338,     0.70263,     0.70188,     0.70113,     0.70286,     0.70497,     0.70708,     0.70888,     0.71021,     0.71155,\n",
            "            0.71288,     0.71422,     0.71555,     0.72025,     0.72371,     0.72443,     0.72516,     0.72588,      0.7266,     0.72733,     0.72805,     0.72878,      0.7295,     0.73022,     0.73095,     0.73175,     0.73258,     0.73341,     0.73424,     0.73508,     0.73591,     0.73674,     0.73757,\n",
            "             0.7384,     0.73921,     0.73981,     0.74041,     0.74101,     0.74161,     0.74221,     0.74281,     0.74341,     0.74401,     0.74461,     0.74521,     0.74581,     0.74641,     0.74701,     0.74788,     0.74892,     0.74996,       0.751,     0.75204,     0.75308,     0.75412,     0.75517,\n",
            "            0.75603,     0.75678,     0.75753,     0.75828,     0.75903,     0.75978,     0.76053,     0.76128,     0.76204,     0.76279,     0.76354,     0.76496,     0.76778,      0.7706,     0.77412,     0.77985,     0.79152,     0.79281,     0.79411,     0.79541,     0.79671,       0.798,      0.7993,\n",
            "            0.80033,     0.80105,     0.80177,     0.80249,     0.80321,     0.80393,     0.80465,     0.80537,     0.80609,     0.80681,     0.80753,     0.80825,     0.80897,     0.80949,     0.80934,     0.80919,     0.80904,     0.80889,     0.80873,     0.80858,     0.80843,     0.80828,     0.80813,\n",
            "            0.80798,     0.80783,     0.80768,     0.80753,     0.80738,     0.80724,     0.80783,     0.80842,       0.809,     0.80959,     0.81018,     0.81077,     0.81135,     0.81194,     0.81253,     0.81312,     0.81371,     0.81429,     0.81488,     0.81547,     0.81606,     0.81665,     0.81714,\n",
            "            0.81736,     0.81759,     0.81782,     0.81805,     0.81828,     0.81851,     0.81873,     0.81896,     0.81919,     0.81942,     0.81965,     0.81988,      0.8201,     0.82033,     0.82056,     0.82079,     0.82102,     0.82125,     0.82148,      0.8217,     0.82193,     0.82216,     0.82239,\n",
            "            0.82262,     0.82285,     0.82307,      0.8233,     0.82353,     0.82376,     0.82399,     0.82422,     0.82444,     0.82467,      0.8249,     0.82513,     0.82536,     0.82559,     0.82581,     0.82604,     0.82627,      0.8265,     0.82673,     0.82696,     0.82719,     0.82742,     0.82765,\n",
            "            0.82788,     0.82812,     0.82835,     0.82858,     0.82881,     0.82905,     0.82928,     0.82951,     0.82975,     0.82998,     0.83021,     0.83044,     0.83068,     0.83091,     0.83114,     0.83137,     0.83161,     0.83184,     0.83207,      0.8323,     0.83254,     0.83277,       0.833,\n",
            "            0.83324,     0.83347,      0.8337,     0.83393,     0.83417,      0.8344,     0.83463,     0.83486,      0.8351,     0.83533,     0.83556,     0.83579,     0.83603,     0.83626,     0.83649,     0.83673,     0.83696,     0.83719,     0.83742,     0.83851,     0.84001,     0.84151,     0.84301,\n",
            "            0.84451,     0.84601,     0.84751,     0.84879,     0.84994,     0.85108,     0.85223,     0.85337,     0.85452,     0.85566,     0.85681,     0.85795,     0.85912,     0.86049,     0.86186,     0.86322,     0.86459,     0.86596,     0.86732,     0.86869,     0.87006,     0.86973,      0.8693,\n",
            "            0.86888,     0.86845,     0.87258,     0.87708,      0.8799,     0.87963,     0.87935,     0.87907,      0.8788,     0.87852,     0.87818,     0.87776,     0.87735,     0.87694,     0.87862,     0.88277,     0.88693,      0.9024,     0.90442,     0.90645,     0.90848,     0.91051,     0.91254,\n",
            "            0.92578,     0.92612,     0.93649,     0.93991,     0.94062,     0.94133,     0.94204,     0.94275,     0.94346,     0.94417,     0.94488,     0.94559,      0.9463,     0.94701,     0.94772,     0.94843,     0.94914,     0.94985,     0.95056,     0.95127,     0.95198,     0.95269,      0.9534,\n",
            "            0.95384,     0.95383,     0.95382,      0.9538,     0.95379,     0.95378,     0.95376,     0.95375,     0.95374,     0.95373,     0.95371,      0.9537,     0.95369,     0.95367,     0.95366,     0.95365,     0.95364,     0.95362,     0.95361,      0.9536,     0.95358,     0.95357,     0.95356,\n",
            "            0.95354,     0.95353,     0.95352,     0.95351,     0.95349,     0.95348,     0.95347,     0.95345,     0.95344,     0.95343,     0.95342,      0.9534,     0.95339,     0.95338,     0.95336,     0.95335,     0.95334,     0.95333,     0.95331,      0.9533,     0.95329,     0.95327,     0.95326,\n",
            "            0.95325,     0.95324,     0.95322,     0.95321,      0.9532,     0.95318,     0.95317,     0.95316,     0.95314,     0.95313,     0.95309,     0.95302,     0.95294,     0.95287,      0.9528,     0.95272,     0.95265,     0.95257,      0.9525,     0.95243,     0.95228,       0.952,     0.95173,\n",
            "            0.95206,     0.95283,      0.9536,     0.95438,     0.95515,     0.95592,      0.9567,     0.95747,     0.95824,     0.95902,     0.95979,     0.96056,     0.96134,     0.96211,     0.96288,     0.96366,     0.96443,      0.9652,     0.96598,     0.96675,      0.9671,     0.96682,     0.96624,\n",
            "            0.96609,     0.96609,     0.96608,     0.96607,     0.96606,     0.96605,     0.96605,     0.96604,     0.96603,     0.96602,     0.96601,       0.966,       0.966,     0.96599,     0.96598,     0.96597,     0.96596,     0.96596,     0.96595,     0.96594,     0.96593,     0.96592,     0.96591,\n",
            "            0.96591,      0.9659,     0.96589,     0.96588,     0.96587,     0.96587,     0.96586,     0.96585,     0.96584,     0.96583,     0.96582,     0.96582,     0.96581,      0.9658,     0.96579,     0.96578,     0.96577,     0.96577,     0.96576,     0.96575,     0.96574,     0.96573,     0.96573,\n",
            "            0.96572,     0.96571,      0.9657,     0.96569,     0.96568,     0.96568,     0.96567,     0.96566,     0.96565,     0.96564,     0.96564,     0.96563,     0.96562,     0.96561,      0.9656,     0.96559,     0.96559,     0.96558,     0.96557,     0.96556,     0.96555,     0.96555,     0.96554,\n",
            "            0.96553,     0.96552,     0.96546,     0.96538,     0.96529,      0.9652,     0.96511,     0.96502,     0.96493,     0.96481,     0.96467,     0.96453,     0.96439,     0.96425,     0.96413,     0.96401,     0.96388,     0.96376,     0.96364,     0.96357,      0.9635,     0.96344,     0.96337,\n",
            "             0.9633,     0.96324,     0.96317,      0.9631,     0.96304,     0.96297,     0.96477,     0.96676,     0.96876,     0.97076,     0.97275,     0.97475,     0.97675,     0.97874,     0.98074,     0.98094,     0.98066,     0.98038,     0.98034,      0.9803,     0.98025,     0.98021,     0.98017,\n",
            "            0.98013,     0.98009,     0.98004,        0.98,     0.97947,     0.97914,     0.97902,      0.9789,     0.97878,     0.97861,     0.97838,     0.97821,     0.97811,       0.978,      0.9779,      0.9778,     0.97769,     0.97758,     0.97747,     0.97736,     0.97722,     0.97691,     0.97665,\n",
            "            0.97644,     0.97623,     0.97566,     0.97536,     0.97508,     0.97466,     0.97431,     0.97418,     0.97405,     0.97392,     0.97379,     0.97361,     0.97321,     0.97282,     0.97244,     0.97195,     0.97138,      0.9711,     0.97083,     0.97058,     0.97048,     0.97039,     0.97029,\n",
            "             0.9702,     0.97011,     0.97001,     0.96992,     0.96983,     0.96973,     0.96865,     0.96846,     0.96826,     0.96806,     0.96787,     0.97016,     0.97696,     0.98376,     0.99055,     0.99735,           1,           1,           1,           1,           1,           1,           1,\n",
            "                  1,           1,           1,           1,           1,           1,           1,           1,           1,           1,           1,           1,           1,           1,           1,           1,           1,           1,           1,           1,           1,           1,           1,\n",
            "                  1,           1,           1,           1,           1,           1,           1,           1,           1,           1,           1,           1,           1,           1,           1,           1,           1,           1,           1,           1,           1,           1,           1,\n",
            "                  1,           1,           1,           1,           1,           1,           1,           1,           1,           1,           1,           1,           1,           1,           1,           1,           1,           1,           1,           1,           1,           1,           1,\n",
            "                  1,           1,           1,           1,           1,           1,           1,           1,           1,           1,           1,           1,           1,           1,           1,           1,           1,           1,           1,           1,           1,           1,           1,\n",
            "                  1,           1,           1,           1,           1,           1,           1,           1,           1,           1,           1,           1,           1,           1,           1,           1,           1,           1,           1,           1,           1,           1,           1,\n",
            "                  1,           1,           1,           1,           1,           1,           1,           1,           1,           1,           1,           1,           1,           1,           1,           1,           1,           1,           1,           1,           1,           1,           1,\n",
            "                  1,           1,           1,           1,           1,           1,           1,           1,           1,           1,           1,           1,           1,           1,           1,           1,           1,           1,           1,           1,           1,           1,           1,\n",
            "                  1,           1,           1,           1,           1,           1,           1,           1,           1,           1,           1,           1,           1,           1,           1,           1,           1,           1,           1,           1,           1,           1,           1,\n",
            "                  1,           1,           1,           1,           1,           1,           1,           1,           1,           1,           1]]), 'Confidence', 'Precision'], [array([          0,    0.001001,    0.002002,    0.003003,    0.004004,    0.005005,    0.006006,    0.007007,    0.008008,    0.009009,     0.01001,    0.011011,    0.012012,    0.013013,    0.014014,    0.015015,    0.016016,    0.017017,    0.018018,    0.019019,     0.02002,    0.021021,    0.022022,    0.023023,\n",
            "          0.024024,    0.025025,    0.026026,    0.027027,    0.028028,    0.029029,     0.03003,    0.031031,    0.032032,    0.033033,    0.034034,    0.035035,    0.036036,    0.037037,    0.038038,    0.039039,     0.04004,    0.041041,    0.042042,    0.043043,    0.044044,    0.045045,    0.046046,    0.047047,\n",
            "          0.048048,    0.049049,     0.05005,    0.051051,    0.052052,    0.053053,    0.054054,    0.055055,    0.056056,    0.057057,    0.058058,    0.059059,     0.06006,    0.061061,    0.062062,    0.063063,    0.064064,    0.065065,    0.066066,    0.067067,    0.068068,    0.069069,     0.07007,    0.071071,\n",
            "          0.072072,    0.073073,    0.074074,    0.075075,    0.076076,    0.077077,    0.078078,    0.079079,     0.08008,    0.081081,    0.082082,    0.083083,    0.084084,    0.085085,    0.086086,    0.087087,    0.088088,    0.089089,     0.09009,    0.091091,    0.092092,    0.093093,    0.094094,    0.095095,\n",
            "          0.096096,    0.097097,    0.098098,    0.099099,      0.1001,      0.1011,      0.1021,      0.1031,      0.1041,     0.10511,     0.10611,     0.10711,     0.10811,     0.10911,     0.11011,     0.11111,     0.11211,     0.11311,     0.11411,     0.11512,     0.11612,     0.11712,     0.11812,     0.11912,\n",
            "           0.12012,     0.12112,     0.12212,     0.12312,     0.12412,     0.12513,     0.12613,     0.12713,     0.12813,     0.12913,     0.13013,     0.13113,     0.13213,     0.13313,     0.13413,     0.13514,     0.13614,     0.13714,     0.13814,     0.13914,     0.14014,     0.14114,     0.14214,     0.14314,\n",
            "           0.14414,     0.14515,     0.14615,     0.14715,     0.14815,     0.14915,     0.15015,     0.15115,     0.15215,     0.15315,     0.15415,     0.15516,     0.15616,     0.15716,     0.15816,     0.15916,     0.16016,     0.16116,     0.16216,     0.16316,     0.16416,     0.16517,     0.16617,     0.16717,\n",
            "           0.16817,     0.16917,     0.17017,     0.17117,     0.17217,     0.17317,     0.17417,     0.17518,     0.17618,     0.17718,     0.17818,     0.17918,     0.18018,     0.18118,     0.18218,     0.18318,     0.18418,     0.18519,     0.18619,     0.18719,     0.18819,     0.18919,     0.19019,     0.19119,\n",
            "           0.19219,     0.19319,     0.19419,      0.1952,      0.1962,      0.1972,      0.1982,      0.1992,      0.2002,      0.2012,      0.2022,      0.2032,      0.2042,     0.20521,     0.20621,     0.20721,     0.20821,     0.20921,     0.21021,     0.21121,     0.21221,     0.21321,     0.21421,     0.21522,\n",
            "           0.21622,     0.21722,     0.21822,     0.21922,     0.22022,     0.22122,     0.22222,     0.22322,     0.22422,     0.22523,     0.22623,     0.22723,     0.22823,     0.22923,     0.23023,     0.23123,     0.23223,     0.23323,     0.23423,     0.23524,     0.23624,     0.23724,     0.23824,     0.23924,\n",
            "           0.24024,     0.24124,     0.24224,     0.24324,     0.24424,     0.24525,     0.24625,     0.24725,     0.24825,     0.24925,     0.25025,     0.25125,     0.25225,     0.25325,     0.25425,     0.25526,     0.25626,     0.25726,     0.25826,     0.25926,     0.26026,     0.26126,     0.26226,     0.26326,\n",
            "           0.26426,     0.26527,     0.26627,     0.26727,     0.26827,     0.26927,     0.27027,     0.27127,     0.27227,     0.27327,     0.27427,     0.27528,     0.27628,     0.27728,     0.27828,     0.27928,     0.28028,     0.28128,     0.28228,     0.28328,     0.28428,     0.28529,     0.28629,     0.28729,\n",
            "           0.28829,     0.28929,     0.29029,     0.29129,     0.29229,     0.29329,     0.29429,      0.2953,      0.2963,      0.2973,      0.2983,      0.2993,      0.3003,      0.3013,      0.3023,      0.3033,      0.3043,     0.30531,     0.30631,     0.30731,     0.30831,     0.30931,     0.31031,     0.31131,\n",
            "           0.31231,     0.31331,     0.31431,     0.31532,     0.31632,     0.31732,     0.31832,     0.31932,     0.32032,     0.32132,     0.32232,     0.32332,     0.32432,     0.32533,     0.32633,     0.32733,     0.32833,     0.32933,     0.33033,     0.33133,     0.33233,     0.33333,     0.33433,     0.33534,\n",
            "           0.33634,     0.33734,     0.33834,     0.33934,     0.34034,     0.34134,     0.34234,     0.34334,     0.34434,     0.34535,     0.34635,     0.34735,     0.34835,     0.34935,     0.35035,     0.35135,     0.35235,     0.35335,     0.35435,     0.35536,     0.35636,     0.35736,     0.35836,     0.35936,\n",
            "           0.36036,     0.36136,     0.36236,     0.36336,     0.36436,     0.36537,     0.36637,     0.36737,     0.36837,     0.36937,     0.37037,     0.37137,     0.37237,     0.37337,     0.37437,     0.37538,     0.37638,     0.37738,     0.37838,     0.37938,     0.38038,     0.38138,     0.38238,     0.38338,\n",
            "           0.38438,     0.38539,     0.38639,     0.38739,     0.38839,     0.38939,     0.39039,     0.39139,     0.39239,     0.39339,     0.39439,      0.3954,      0.3964,      0.3974,      0.3984,      0.3994,      0.4004,      0.4014,      0.4024,      0.4034,      0.4044,     0.40541,     0.40641,     0.40741,\n",
            "           0.40841,     0.40941,     0.41041,     0.41141,     0.41241,     0.41341,     0.41441,     0.41542,     0.41642,     0.41742,     0.41842,     0.41942,     0.42042,     0.42142,     0.42242,     0.42342,     0.42442,     0.42543,     0.42643,     0.42743,     0.42843,     0.42943,     0.43043,     0.43143,\n",
            "           0.43243,     0.43343,     0.43443,     0.43544,     0.43644,     0.43744,     0.43844,     0.43944,     0.44044,     0.44144,     0.44244,     0.44344,     0.44444,     0.44545,     0.44645,     0.44745,     0.44845,     0.44945,     0.45045,     0.45145,     0.45245,     0.45345,     0.45445,     0.45546,\n",
            "           0.45646,     0.45746,     0.45846,     0.45946,     0.46046,     0.46146,     0.46246,     0.46346,     0.46446,     0.46547,     0.46647,     0.46747,     0.46847,     0.46947,     0.47047,     0.47147,     0.47247,     0.47347,     0.47447,     0.47548,     0.47648,     0.47748,     0.47848,     0.47948,\n",
            "           0.48048,     0.48148,     0.48248,     0.48348,     0.48448,     0.48549,     0.48649,     0.48749,     0.48849,     0.48949,     0.49049,     0.49149,     0.49249,     0.49349,     0.49449,      0.4955,      0.4965,      0.4975,      0.4985,      0.4995,      0.5005,      0.5015,      0.5025,      0.5035,\n",
            "            0.5045,     0.50551,     0.50651,     0.50751,     0.50851,     0.50951,     0.51051,     0.51151,     0.51251,     0.51351,     0.51451,     0.51552,     0.51652,     0.51752,     0.51852,     0.51952,     0.52052,     0.52152,     0.52252,     0.52352,     0.52452,     0.52553,     0.52653,     0.52753,\n",
            "           0.52853,     0.52953,     0.53053,     0.53153,     0.53253,     0.53353,     0.53453,     0.53554,     0.53654,     0.53754,     0.53854,     0.53954,     0.54054,     0.54154,     0.54254,     0.54354,     0.54454,     0.54555,     0.54655,     0.54755,     0.54855,     0.54955,     0.55055,     0.55155,\n",
            "           0.55255,     0.55355,     0.55455,     0.55556,     0.55656,     0.55756,     0.55856,     0.55956,     0.56056,     0.56156,     0.56256,     0.56356,     0.56456,     0.56557,     0.56657,     0.56757,     0.56857,     0.56957,     0.57057,     0.57157,     0.57257,     0.57357,     0.57457,     0.57558,\n",
            "           0.57658,     0.57758,     0.57858,     0.57958,     0.58058,     0.58158,     0.58258,     0.58358,     0.58458,     0.58559,     0.58659,     0.58759,     0.58859,     0.58959,     0.59059,     0.59159,     0.59259,     0.59359,     0.59459,      0.5956,      0.5966,      0.5976,      0.5986,      0.5996,\n",
            "            0.6006,      0.6016,      0.6026,      0.6036,      0.6046,     0.60561,     0.60661,     0.60761,     0.60861,     0.60961,     0.61061,     0.61161,     0.61261,     0.61361,     0.61461,     0.61562,     0.61662,     0.61762,     0.61862,     0.61962,     0.62062,     0.62162,     0.62262,     0.62362,\n",
            "           0.62462,     0.62563,     0.62663,     0.62763,     0.62863,     0.62963,     0.63063,     0.63163,     0.63263,     0.63363,     0.63463,     0.63564,     0.63664,     0.63764,     0.63864,     0.63964,     0.64064,     0.64164,     0.64264,     0.64364,     0.64464,     0.64565,     0.64665,     0.64765,\n",
            "           0.64865,     0.64965,     0.65065,     0.65165,     0.65265,     0.65365,     0.65465,     0.65566,     0.65666,     0.65766,     0.65866,     0.65966,     0.66066,     0.66166,     0.66266,     0.66366,     0.66466,     0.66567,     0.66667,     0.66767,     0.66867,     0.66967,     0.67067,     0.67167,\n",
            "           0.67267,     0.67367,     0.67467,     0.67568,     0.67668,     0.67768,     0.67868,     0.67968,     0.68068,     0.68168,     0.68268,     0.68368,     0.68468,     0.68569,     0.68669,     0.68769,     0.68869,     0.68969,     0.69069,     0.69169,     0.69269,     0.69369,     0.69469,      0.6957,\n",
            "            0.6967,      0.6977,      0.6987,      0.6997,      0.7007,      0.7017,      0.7027,      0.7037,      0.7047,     0.70571,     0.70671,     0.70771,     0.70871,     0.70971,     0.71071,     0.71171,     0.71271,     0.71371,     0.71471,     0.71572,     0.71672,     0.71772,     0.71872,     0.71972,\n",
            "           0.72072,     0.72172,     0.72272,     0.72372,     0.72472,     0.72573,     0.72673,     0.72773,     0.72873,     0.72973,     0.73073,     0.73173,     0.73273,     0.73373,     0.73473,     0.73574,     0.73674,     0.73774,     0.73874,     0.73974,     0.74074,     0.74174,     0.74274,     0.74374,\n",
            "           0.74474,     0.74575,     0.74675,     0.74775,     0.74875,     0.74975,     0.75075,     0.75175,     0.75275,     0.75375,     0.75475,     0.75576,     0.75676,     0.75776,     0.75876,     0.75976,     0.76076,     0.76176,     0.76276,     0.76376,     0.76476,     0.76577,     0.76677,     0.76777,\n",
            "           0.76877,     0.76977,     0.77077,     0.77177,     0.77277,     0.77377,     0.77477,     0.77578,     0.77678,     0.77778,     0.77878,     0.77978,     0.78078,     0.78178,     0.78278,     0.78378,     0.78478,     0.78579,     0.78679,     0.78779,     0.78879,     0.78979,     0.79079,     0.79179,\n",
            "           0.79279,     0.79379,     0.79479,      0.7958,      0.7968,      0.7978,      0.7988,      0.7998,      0.8008,      0.8018,      0.8028,      0.8038,      0.8048,     0.80581,     0.80681,     0.80781,     0.80881,     0.80981,     0.81081,     0.81181,     0.81281,     0.81381,     0.81481,     0.81582,\n",
            "           0.81682,     0.81782,     0.81882,     0.81982,     0.82082,     0.82182,     0.82282,     0.82382,     0.82482,     0.82583,     0.82683,     0.82783,     0.82883,     0.82983,     0.83083,     0.83183,     0.83283,     0.83383,     0.83483,     0.83584,     0.83684,     0.83784,     0.83884,     0.83984,\n",
            "           0.84084,     0.84184,     0.84284,     0.84384,     0.84484,     0.84585,     0.84685,     0.84785,     0.84885,     0.84985,     0.85085,     0.85185,     0.85285,     0.85385,     0.85485,     0.85586,     0.85686,     0.85786,     0.85886,     0.85986,     0.86086,     0.86186,     0.86286,     0.86386,\n",
            "           0.86486,     0.86587,     0.86687,     0.86787,     0.86887,     0.86987,     0.87087,     0.87187,     0.87287,     0.87387,     0.87487,     0.87588,     0.87688,     0.87788,     0.87888,     0.87988,     0.88088,     0.88188,     0.88288,     0.88388,     0.88488,     0.88589,     0.88689,     0.88789,\n",
            "           0.88889,     0.88989,     0.89089,     0.89189,     0.89289,     0.89389,     0.89489,      0.8959,      0.8969,      0.8979,      0.8989,      0.8999,      0.9009,      0.9019,      0.9029,      0.9039,      0.9049,     0.90591,     0.90691,     0.90791,     0.90891,     0.90991,     0.91091,     0.91191,\n",
            "           0.91291,     0.91391,     0.91491,     0.91592,     0.91692,     0.91792,     0.91892,     0.91992,     0.92092,     0.92192,     0.92292,     0.92392,     0.92492,     0.92593,     0.92693,     0.92793,     0.92893,     0.92993,     0.93093,     0.93193,     0.93293,     0.93393,     0.93493,     0.93594,\n",
            "           0.93694,     0.93794,     0.93894,     0.93994,     0.94094,     0.94194,     0.94294,     0.94394,     0.94494,     0.94595,     0.94695,     0.94795,     0.94895,     0.94995,     0.95095,     0.95195,     0.95295,     0.95395,     0.95495,     0.95596,     0.95696,     0.95796,     0.95896,     0.95996,\n",
            "           0.96096,     0.96196,     0.96296,     0.96396,     0.96496,     0.96597,     0.96697,     0.96797,     0.96897,     0.96997,     0.97097,     0.97197,     0.97297,     0.97397,     0.97497,     0.97598,     0.97698,     0.97798,     0.97898,     0.97998,     0.98098,     0.98198,     0.98298,     0.98398,\n",
            "           0.98498,     0.98599,     0.98699,     0.98799,     0.98899,     0.98999,     0.99099,     0.99199,     0.99299,     0.99399,     0.99499,       0.996,       0.997,       0.998,       0.999,           1]), array([[    0.94253,     0.94253,     0.93103,     0.93103,     0.93103,     0.93103,     0.93103,     0.93103,     0.93103,     0.93103,     0.91954,     0.91954,     0.91954,     0.91954,     0.91954,     0.91954,     0.91954,     0.91954,     0.91954,     0.91954,     0.91954,     0.90805,     0.90805,\n",
            "            0.90805,     0.90805,     0.90805,     0.90805,     0.90805,     0.90805,     0.90805,     0.90805,     0.90805,     0.90805,     0.90805,     0.90805,     0.90805,     0.90805,     0.90805,     0.90805,     0.90805,     0.90805,     0.90805,     0.90805,     0.90805,     0.90805,     0.90805,\n",
            "            0.90805,     0.90805,     0.90805,     0.90805,     0.90805,     0.90805,     0.90572,     0.89897,     0.88506,     0.88506,     0.88506,     0.88506,     0.88506,     0.88506,     0.88506,     0.88506,     0.88506,     0.88506,     0.88506,     0.88506,     0.88506,     0.88506,     0.88506,\n",
            "            0.88506,     0.88273,     0.87356,     0.87356,     0.87356,     0.87356,     0.87356,     0.87356,     0.87356,     0.87356,     0.87356,     0.87356,     0.87356,     0.87356,     0.87356,     0.87356,     0.87356,     0.87356,     0.87356,     0.87356,     0.87356,     0.87356,     0.87356,\n",
            "            0.87356,     0.87356,     0.87356,     0.87356,     0.87356,     0.87356,     0.87356,     0.87356,     0.87356,     0.87356,     0.87356,     0.87356,     0.87356,     0.87356,     0.87356,     0.87356,     0.87356,     0.87356,     0.87356,     0.87356,     0.87356,     0.87356,     0.87356,\n",
            "            0.87356,     0.87356,     0.87356,     0.87356,     0.87356,     0.87356,     0.87356,     0.87356,     0.86207,      0.8612,     0.85942,     0.85764,     0.85586,     0.85408,      0.8523,     0.85057,     0.85057,     0.85057,     0.85057,     0.85057,     0.85057,     0.85057,     0.85057,\n",
            "            0.85057,     0.85057,     0.85057,     0.85057,     0.85057,     0.85057,     0.85057,     0.85057,     0.85057,     0.85057,     0.85057,     0.85057,     0.85057,     0.85057,     0.85057,     0.85057,     0.85057,     0.85057,     0.85057,     0.85046,     0.85005,     0.84963,     0.84922,\n",
            "            0.84881,     0.84839,     0.84798,     0.84756,     0.84715,     0.84674,     0.84632,     0.84591,      0.8455,     0.84508,     0.84467,     0.84425,     0.84384,     0.84343,     0.84301,      0.8426,     0.84218,     0.84177,     0.84136,     0.84094,     0.84053,     0.84012,      0.8397,\n",
            "            0.83929,     0.83908,     0.83908,     0.83908,     0.83908,     0.83908,     0.83908,     0.83908,     0.83908,     0.83908,     0.83908,     0.83908,     0.83908,     0.83908,     0.83908,     0.83908,     0.83908,     0.83908,     0.83908,     0.83908,     0.83754,     0.83008,     0.82759,\n",
            "            0.82759,     0.82759,     0.82759,     0.82759,     0.82759,     0.82759,     0.82759,     0.82759,     0.82759,     0.82759,     0.82759,     0.82759,     0.82759,     0.82759,     0.82759,     0.82759,     0.82759,     0.82759,     0.82759,     0.81952,     0.80945,      0.8046,      0.8046,\n",
            "             0.8046,      0.8046,      0.8046,      0.8046,      0.8046,     0.80457,     0.80294,     0.80132,      0.7997,     0.79808,     0.79645,     0.79483,     0.79321,     0.79046,     0.78763,     0.78481,     0.78198,     0.78161,     0.78161,     0.78161,     0.78161,     0.78161,     0.78161,\n",
            "            0.78161,     0.78161,     0.78161,     0.78161,     0.78161,     0.78161,     0.78161,     0.78161,     0.78161,     0.78161,     0.78161,     0.78161,     0.78161,     0.78161,     0.78161,     0.78161,     0.78161,     0.78161,     0.78161,     0.78161,     0.78161,     0.78161,     0.78161,\n",
            "            0.78161,     0.78161,     0.78161,     0.78161,     0.78161,     0.78161,     0.78161,     0.78161,     0.78161,     0.78161,     0.78161,     0.78161,     0.78161,     0.78161,     0.78161,     0.78161,     0.78161,     0.78161,     0.78161,     0.78161,     0.78161,     0.78161,     0.78161,\n",
            "            0.78161,     0.78161,     0.78161,     0.78161,     0.78161,     0.78161,     0.78161,     0.78161,     0.78161,     0.78161,     0.78161,     0.78161,     0.78161,     0.78161,     0.78161,     0.78161,     0.78161,     0.78161,     0.78161,     0.78161,     0.78161,     0.78161,     0.78161,\n",
            "            0.78161,     0.78161,     0.78161,     0.78161,     0.78161,     0.78161,     0.78161,     0.78161,     0.78161,     0.78161,     0.78161,     0.78161,     0.78161,     0.78143,     0.78068,     0.77992,     0.77917,     0.77841,     0.77765,      0.7769,     0.77614,     0.77539,     0.77463,\n",
            "            0.77388,     0.77312,     0.77237,     0.77161,     0.77086,     0.77011,     0.77011,     0.77011,     0.77011,     0.77011,     0.77011,     0.77011,     0.77011,     0.77011,     0.77011,     0.77011,     0.77011,     0.77011,     0.77011,     0.77011,     0.77011,     0.77011,     0.77011,\n",
            "            0.77011,     0.77011,     0.77011,     0.77011,     0.77011,     0.77011,     0.77011,     0.77011,     0.77011,     0.77011,     0.77011,     0.77011,     0.77011,     0.77011,     0.77011,     0.77011,     0.77011,     0.77011,     0.77011,     0.77011,     0.77011,     0.77011,     0.77011,\n",
            "            0.77011,     0.77011,     0.77011,     0.77011,     0.77011,     0.77011,     0.77011,     0.77011,     0.77011,     0.77011,     0.77011,     0.77011,     0.77011,     0.77011,     0.77011,     0.77011,     0.77011,     0.77011,     0.77011,     0.77011,     0.77011,     0.77011,     0.77011,\n",
            "            0.77011,     0.77011,     0.77011,     0.77011,     0.77011,     0.77011,     0.77011,     0.77011,     0.77011,     0.77011,     0.77011,     0.77011,     0.77011,     0.77011,     0.77011,     0.77011,     0.77011,     0.77011,     0.77011,     0.77011,     0.77011,     0.77011,     0.77011,\n",
            "            0.77011,     0.77011,     0.77011,     0.77011,     0.77011,     0.77011,     0.77011,     0.77011,     0.77011,     0.77011,     0.77011,     0.77011,     0.77011,     0.77011,     0.77011,     0.77011,     0.77011,     0.77011,     0.77011,     0.77011,     0.77011,     0.77011,     0.77011,\n",
            "            0.77011,     0.77011,     0.77011,     0.77011,     0.77011,     0.77011,     0.77011,     0.77011,     0.77011,     0.77011,     0.77011,     0.77011,     0.77011,     0.77011,     0.77011,     0.77011,     0.77011,     0.77011,     0.77011,     0.77011,     0.77011,     0.76741,     0.76455,\n",
            "             0.7617,     0.75884,     0.75862,     0.75862,     0.75793,     0.75597,     0.75401,     0.75205,     0.75009,     0.74814,     0.74574,     0.74289,     0.74003,     0.73718,     0.73563,     0.73563,     0.73563,     0.73563,     0.73563,     0.73563,     0.73563,     0.73563,     0.73563,\n",
            "            0.73563,     0.71264,     0.71264,     0.71264,     0.71264,     0.71264,     0.71264,     0.71264,     0.71264,     0.71264,     0.71264,     0.71264,     0.71264,     0.71264,     0.71264,     0.71264,     0.71264,     0.71264,     0.71264,     0.71264,     0.71264,     0.71264,     0.71264,\n",
            "            0.71257,     0.71236,     0.71216,     0.71195,     0.71175,     0.71154,     0.71133,     0.71113,     0.71092,     0.71072,     0.71051,     0.71031,      0.7101,      0.7099,     0.70969,     0.70948,     0.70928,     0.70907,     0.70887,     0.70866,     0.70846,     0.70825,     0.70805,\n",
            "            0.70784,     0.70763,     0.70743,     0.70722,     0.70702,     0.70681,     0.70661,      0.7064,      0.7062,     0.70599,     0.70578,     0.70558,     0.70537,     0.70517,     0.70496,     0.70476,     0.70455,     0.70435,     0.70414,     0.70393,     0.70373,     0.70352,     0.70332,\n",
            "            0.70311,     0.70291,      0.7027,      0.7025,     0.70229,     0.70208,     0.70188,     0.70167,     0.70147,     0.70126,     0.70063,     0.69949,     0.69835,     0.69721,     0.69607,     0.69493,     0.69379,     0.69265,     0.69151,     0.69036,      0.6881,       0.684,      0.6799,\n",
            "            0.67816,     0.67816,     0.67816,     0.67816,     0.67816,     0.67816,     0.67816,     0.67816,     0.67816,     0.67816,     0.67816,     0.67816,     0.67816,     0.67816,     0.67816,     0.67816,     0.67816,     0.67816,     0.67816,     0.67816,     0.67579,     0.66983,     0.65807,\n",
            "            0.65504,     0.65488,     0.65471,     0.65455,     0.65439,     0.65423,     0.65407,     0.65391,     0.65375,     0.65358,     0.65342,     0.65326,      0.6531,     0.65294,     0.65278,     0.65262,     0.65246,     0.65229,     0.65213,     0.65197,     0.65181,     0.65165,     0.65149,\n",
            "            0.65133,     0.65116,       0.651,     0.65084,     0.65068,     0.65052,     0.65036,      0.6502,     0.65004,     0.64987,     0.64971,     0.64955,     0.64939,     0.64923,     0.64907,     0.64891,     0.64874,     0.64858,     0.64842,     0.64826,      0.6481,     0.64794,     0.64778,\n",
            "            0.64762,     0.64745,     0.64729,     0.64713,     0.64697,     0.64681,     0.64665,     0.64649,     0.64632,     0.64616,       0.646,     0.64584,     0.64568,     0.64552,     0.64536,      0.6452,     0.64503,     0.64487,     0.64471,     0.64455,     0.64439,     0.64423,     0.64407,\n",
            "             0.6439,     0.64374,     0.64268,     0.64099,     0.63931,     0.63763,     0.63595,     0.63427,     0.63258,     0.63023,     0.62767,      0.6251,     0.62254,     0.62008,     0.61791,     0.61574,     0.61358,     0.61141,     0.60924,     0.60808,     0.60694,      0.6058,     0.60465,\n",
            "            0.60351,     0.60237,     0.60123,     0.60009,     0.59895,     0.59781,      0.5977,      0.5977,      0.5977,      0.5977,      0.5977,      0.5977,      0.5977,      0.5977,      0.5977,     0.59153,     0.58279,     0.57437,     0.57314,      0.5719,     0.57067,     0.56943,      0.5682,\n",
            "            0.56696,     0.56573,     0.56449,     0.56326,     0.54844,     0.53964,     0.53653,     0.53342,     0.53031,     0.52589,     0.52012,     0.51601,     0.51357,     0.51112,     0.50867,     0.50623,     0.50375,     0.50126,     0.49878,     0.49629,     0.49305,     0.48632,     0.48071,\n",
            "            0.47637,     0.47202,     0.46084,     0.45503,     0.44985,     0.44211,      0.4359,     0.43369,     0.43149,     0.42928,     0.42707,     0.42406,     0.41761,     0.41143,     0.40565,     0.39839,     0.39012,     0.38636,     0.38259,     0.37915,     0.37794,     0.37674,     0.37553,\n",
            "            0.37432,     0.37311,      0.3719,     0.37069,     0.36948,     0.36828,     0.35521,     0.35297,     0.35074,      0.3485,     0.34627,     0.34483,     0.34483,     0.34483,     0.34483,     0.34483,     0.33234,     0.32689,     0.32166,     0.31926,     0.31685,     0.31445,     0.31204,\n",
            "            0.29817,     0.29525,     0.29234,     0.28943,     0.28586,     0.28071,     0.27539,     0.26739,     0.26269,     0.25999,     0.25729,     0.25459,     0.25196,     0.24945,     0.24693,     0.24442,     0.24191,     0.21968,     0.21033,     0.20398,     0.19923,     0.19412,     0.18752,\n",
            "             0.1822,     0.17844,     0.17468,     0.17083,     0.16681,      0.1628,     0.14679,      0.1373,     0.13447,     0.13163,     0.12879,     0.12574,     0.12171,     0.11768,     0.10382,     0.10089,    0.098296,    0.095706,    0.093116,    0.078548,    0.074902,    0.071257,     0.06793,\n",
            "           0.065143,    0.062356,    0.059569,    0.057233,    0.056272,    0.055311,    0.054349,    0.053388,    0.052427,    0.051465,    0.050504,    0.049543,    0.048582,     0.04762,    0.046659,    0.045015,    0.041704,    0.038394,    0.035083,    0.033349,    0.031964,     0.03058,    0.029195,\n",
            "            0.02781,    0.026425,    0.025041,    0.023656,    0.022196,    0.020665,    0.019135,    0.017604,    0.016073,    0.014543,    0.013012,           0,           0,           0,           0,           0,           0,           0,           0,           0,           0,           0,           0,\n",
            "                  0,           0,           0,           0,           0,           0,           0,           0,           0,           0,           0,           0,           0,           0,           0,           0,           0,           0,           0,           0,           0,           0,           0,\n",
            "                  0,           0,           0,           0,           0,           0,           0,           0,           0,           0,           0,           0,           0,           0,           0,           0,           0,           0,           0,           0,           0,           0,           0,\n",
            "                  0,           0,           0,           0,           0,           0,           0,           0,           0,           0,           0,           0,           0,           0,           0,           0,           0,           0,           0,           0,           0,           0,           0,\n",
            "                  0,           0,           0,           0,           0,           0,           0,           0,           0,           0,           0,           0,           0,           0,           0,           0,           0,           0,           0,           0,           0,           0,           0,\n",
            "                  0,           0,           0,           0,           0,           0,           0,           0,           0,           0,           0]]), 'Confidence', 'Recall']]\n",
            "fitness: np.float64(0.5967787465454308)\n",
            "keys: ['metrics/precision(B)', 'metrics/recall(B)', 'metrics/mAP50(B)', 'metrics/mAP50-95(B)']\n",
            "maps: array([    0.56767])\n",
            "names: {0: 'vehicle'}\n",
            "plot: True\n",
            "results_dict: {'metrics/precision(B)': np.float64(0.9470069906895304), 'metrics/recall(B)': np.float64(0.7126436781609196), 'metrics/mAP50(B)': np.float64(0.8587354902885631), 'metrics/mAP50-95(B)': np.float64(0.5676724416850828), 'fitness': np.float64(0.5967787465454308)}\n",
            "save_dir: PosixPath('/content/drive/MyDrive/yolov3tiny_training/yolov3tiny_custom')\n",
            "speed: {'preprocess': 9.715163166663928, 'inference': 10.334755690478016, 'loss': 0.0009443333348307144, 'postprocess': 1.9790735238010322}\n",
            "task: 'detect'\n"
          ]
        }
      ]
    },
    {
      "cell_type": "code",
      "source": [
        "# EXPORT THE MODEL\n",
        "# Get the path of the best weights\n",
        "weights_dir = os.path.join(save_dir, 'yolov3_custom', 'weights')\n",
        "best_pt = os.path.join(weights_dir, 'best.pt')\n",
        "\n",
        "# Export to ONNX format\n",
        "model.export(format=\"onnx\", imgsz=image_size)  # Creates best.onnx in the same folder\n",
        "\n",
        "# Print actual paths for both PT and ONNX models\n",
        "print(f\"PyTorch model saved at: {best_pt}\")\n",
        "print(f\"ONNX model exported to: {os.path.join(weights_dir, 'best.onnx')}\")"
      ],
      "metadata": {
        "colab": {
          "base_uri": "https://localhost:8080/"
        },
        "id": "1PZNlNcrgot2",
        "outputId": "9adfc790-1c83-4555-88e9-f20468e5db16"
      },
      "execution_count": null,
      "outputs": [
        {
          "output_type": "stream",
          "name": "stdout",
          "text": [
            "Ultralytics 8.3.101 🚀 Python-3.11.11 torch-2.6.0+cu124 CPU (Intel Xeon 2.00GHz)\n",
            "\n",
            "\u001b[34m\u001b[1mPyTorch:\u001b[0m starting from '/content/drive/MyDrive/yolov3tiny_training/yolov3tiny_custom/weights/best.pt' with input shape (1, 3, 640, 640) BCHW and output shape(s) (1, 5, 2000) (23.2 MB)\n",
            "\u001b[31m\u001b[1mrequirements:\u001b[0m Ultralytics requirements ['onnx>=1.12.0', 'onnxslim', 'onnxruntime-gpu'] not found, attempting AutoUpdate...\n",
            "Collecting onnx>=1.12.0\n",
            "  Downloading onnx-1.17.0-cp311-cp311-manylinux_2_17_x86_64.manylinux2014_x86_64.whl.metadata (16 kB)\n",
            "Collecting onnxslim\n",
            "  Downloading onnxslim-0.1.49-py3-none-any.whl.metadata (4.8 kB)\n",
            "Collecting onnxruntime-gpu\n",
            "  Downloading onnxruntime_gpu-1.21.0-cp311-cp311-manylinux_2_27_x86_64.manylinux_2_28_x86_64.whl.metadata (4.8 kB)\n",
            "Requirement already satisfied: numpy>=1.20 in /usr/local/lib/python3.11/dist-packages (from onnx>=1.12.0) (2.0.2)\n",
            "Requirement already satisfied: protobuf>=3.20.2 in /usr/local/lib/python3.11/dist-packages (from onnx>=1.12.0) (5.29.4)\n",
            "Requirement already satisfied: sympy in /usr/local/lib/python3.11/dist-packages (from onnxslim) (1.13.1)\n",
            "Requirement already satisfied: packaging in /usr/local/lib/python3.11/dist-packages (from onnxslim) (24.2)\n",
            "Collecting coloredlogs (from onnxruntime-gpu)\n",
            "  Downloading coloredlogs-15.0.1-py2.py3-none-any.whl.metadata (12 kB)\n",
            "Requirement already satisfied: flatbuffers in /usr/local/lib/python3.11/dist-packages (from onnxruntime-gpu) (25.2.10)\n",
            "Collecting humanfriendly>=9.1 (from coloredlogs->onnxruntime-gpu)\n",
            "  Downloading humanfriendly-10.0-py2.py3-none-any.whl.metadata (9.2 kB)\n",
            "Requirement already satisfied: mpmath<1.4,>=1.1.0 in /usr/local/lib/python3.11/dist-packages (from sympy->onnxslim) (1.3.0)\n",
            "Downloading onnx-1.17.0-cp311-cp311-manylinux_2_17_x86_64.manylinux2014_x86_64.whl (16.0 MB)\n",
            "   ━━━━━━━━━━━━━━━━━━━━━━━━━━━━━━━━━━━━━━━━ 16.0/16.0 MB 299.9 MB/s eta 0:00:00\n",
            "Downloading onnxslim-0.1.49-py3-none-any.whl (144 kB)\n",
            "   ━━━━━━━━━━━━━━━━━━━━━━━━━━━━━━━━━━━━━━━━ 144.1/144.1 kB 322.9 MB/s eta 0:00:00\n",
            "Downloading onnxruntime_gpu-1.21.0-cp311-cp311-manylinux_2_27_x86_64.manylinux_2_28_x86_64.whl (280.8 MB)\n",
            "   ━━━━━━━━━━━━━━━━━━━━━━━━━━━━━━━━━━━━━━━━ 280.8/280.8 MB 140.9 MB/s eta 0:00:00\n",
            "Downloading coloredlogs-15.0.1-py2.py3-none-any.whl (46 kB)\n",
            "   ━━━━━━━━━━━━━━━━━━━━━━━━━━━━━━━━━━━━━━━━ 46.0/46.0 kB 235.2 MB/s eta 0:00:00\n",
            "Downloading humanfriendly-10.0-py2.py3-none-any.whl (86 kB)\n",
            "   ━━━━━━━━━━━━━━━━━━━━━━━━━━━━━━━━━━━━━━━━ 86.8/86.8 kB 188.7 MB/s eta 0:00:00\n",
            "Installing collected packages: onnx, humanfriendly, onnxslim, coloredlogs, onnxruntime-gpu\n",
            "Successfully installed coloredlogs-15.0.1 humanfriendly-10.0 onnx-1.17.0 onnxruntime-gpu-1.21.0 onnxslim-0.1.49\n",
            "\n",
            "\u001b[31m\u001b[1mrequirements:\u001b[0m AutoUpdate success ✅ 14.9s, installed 3 packages: ['onnx>=1.12.0', 'onnxslim', 'onnxruntime-gpu']\n",
            "\u001b[31m\u001b[1mrequirements:\u001b[0m ⚠️ \u001b[1mRestart runtime or rerun command for updates to take effect\u001b[0m\n",
            "\n",
            "\n",
            "\u001b[34m\u001b[1mONNX:\u001b[0m starting export with onnx 1.17.0 opset 19...\n",
            "\u001b[34m\u001b[1mONNX:\u001b[0m slimming with onnxslim 0.1.49...\n",
            "\u001b[34m\u001b[1mONNX:\u001b[0m export success ✅ 16.7s, saved as '/content/drive/MyDrive/yolov3tiny_training/yolov3tiny_custom/weights/best.onnx' (46.3 MB)\n",
            "\n",
            "Export complete (19.0s)\n",
            "Results saved to \u001b[1m/content/drive/MyDrive/yolov3tiny_training/yolov3tiny_custom/weights\u001b[0m\n",
            "Predict:         yolo predict task=detect model=/content/drive/MyDrive/yolov3tiny_training/yolov3tiny_custom/weights/best.onnx imgsz=640  \n",
            "Validate:        yolo val task=detect model=/content/drive/MyDrive/yolov3tiny_training/yolov3tiny_custom/weights/best.onnx imgsz=640 data=/content/My-First-Project-2/data.yaml  \n",
            "Visualize:       https://netron.app\n",
            "PyTorch model saved at: /content/drive/MyDrive/yolov3tiny_training/yolov3_custom/weights/best.pt\n",
            "ONNX model exported to: /content/drive/MyDrive/yolov3tiny_training/yolov3_custom/weights/best.onnx\n"
          ]
        }
      ]
    },
    {
      "cell_type": "code",
      "source": [
        "# RUN INFERENCE ON A TEST IMAGE\n",
        "# Find all test images in the directory\n",
        "import glob\n",
        "\n",
        "# Get a list of all test images\n",
        "test_image_dir = f\"{dataset.location}/test/images\"\n",
        "test_images = glob.glob(f\"{test_image_dir}/*.jpg\") + glob.glob(f\"{test_image_dir}/*.jpeg\") + glob.glob(f\"{test_image_dir}/*.png\")\n",
        "\n",
        "if test_images:\n",
        "    # Use the first test image found\n",
        "    test_image_path = test_images[9]\n",
        "    print(f\"Running inference on: {test_image_path}\")\n",
        "    # Perform inference\n",
        "    results = model.predict(test_image_path, save=True, conf=0.25)\n",
        "    print(f\"Inference results saved to: {results[0].save_dir}\")\n",
        "\n",
        "    # If you want to display the results directly in Colab\n",
        "    from IPython.display import Image, display\n",
        "    display(Image(os.path.join(results[0].save_dir, os.path.basename(test_image_path))))\n",
        "else:\n",
        "    print(f\"No test images found in {test_image_dir}\")\n",
        "    print(\"Try running inference on a specific image with:\")\n",
        "    print(\"model.predict('/path/to/your/image.jpg', save=True, conf=0.25)\")"
      ],
      "metadata": {
        "colab": {
          "base_uri": "https://localhost:8080/",
          "height": 761
        },
        "id": "xYQ4brQsgtr5",
        "outputId": "573327a4-f1dc-45ae-d96e-fd402673be74"
      },
      "execution_count": null,
      "outputs": [
        {
          "output_type": "stream",
          "name": "stdout",
          "text": [
            "Running inference on: /content/My-First-Project-2/test/images/opera_OrKzjF6kU5_crop_1_1_jpg.rf.e1e1e16945f55c83c4727815317b34e6.jpg\n",
            "\n",
            "image 1/1 /content/My-First-Project-2/test/images/opera_OrKzjF6kU5_crop_1_1_jpg.rf.e1e1e16945f55c83c4727815317b34e6.jpg: 640x640 9 vehicles, 10.6ms\n",
            "Speed: 2.0ms preprocess, 10.6ms inference, 1.9ms postprocess per image at shape (1, 3, 640, 640)\n",
            "Results saved to \u001b[1m/content/drive/MyDrive/yolov3tiny_training/yolov3tiny_custom\u001b[0m\n",
            "Inference results saved to: /content/drive/MyDrive/yolov3tiny_training/yolov3tiny_custom\n"
          ]
        },
        {
          "output_type": "display_data",
          "data": {
            "image/jpeg": "[encoded data removed]",
            "text/plain": [
              "<IPython.core.display.Image object>"
            ]
          },
          "metadata": {}
        }
      ]
    },
    {
      "cell_type": "code",
      "source": [
        "# If you want to display the results directly in Colab\n",
        "from IPython.display import Image, display\n",
        "display(Image(os.path.join(results[0].save_dir, os.path.basename(test_image_path))))\n",
        "\n",
        "print(\"Training, validation, and export complete!\")"
      ],
      "metadata": {
        "colab": {
          "base_uri": "https://localhost:8080/",
          "height": 674
        },
        "id": "SIOukb6NgvPG",
        "outputId": "1cf77f13-1860-4f0a-dfb6-fb9494dbe297"
      },
      "execution_count": null,
      "outputs": [
        {
          "output_type": "display_data",
          "data": {
            "image/jpeg": "[encoded data removed]",
            "text/plain": [
              "<IPython.core.display.Image object>"
            ]
          },
          "metadata": {}
        },
        {
          "output_type": "stream",
          "name": "stdout",
          "text": [
            "Training, validation, and export complete!\n"
          ]
        }
      ]
    }
  ]
}