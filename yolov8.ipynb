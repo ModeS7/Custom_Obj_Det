{
 "nbformat": 4,
 "nbformat_minor": 0,
 "metadata": {
  "colab": {
   "provenance": []
  },
  "kernelspec": {
   "name": "python3",
   "display_name": "Python 3"
  },
  "language_info": {
   "name": "python"
  }
 },
 "cells": [
  {
   "cell_type": "code",
   "metadata": {
    "colab": {
     "base_uri": "https://localhost:8080/"
    },
    "id": "RZ55lip9RVaw",
    "outputId": "d3722f09-a164-4005-a364-b958ae16ae93"
   },
   "source": [
    "\"\"\"\n",
    "YOLOv8 Training Script for Google Colab\n",
    "This script sets up the environment, downloads your Roboflow dataset, and trains a YOLOv8 model.\n",
    "\"\"\"\n",
    "\n",
    "# INITIAL SETUP\n",
    "!pip install ultralytics roboflow\n"
   ],
   "outputs": [],
   "execution_count": null
  },
  {
   "cell_type": "code",
   "source": [
    "from ultralytics import YOLO\n",
    "import os\n",
    "from google.colab import drive\n",
    "from roboflow import Roboflow"
   ],
   "metadata": {
    "colab": {
     "base_uri": "https://localhost:8080/"
    },
    "id": "9MNvx8ydRkIr",
    "outputId": "d4fc8bbd-c288-4ac2-c928-bbcc39d8cd9c"
   },
   "outputs": [],
   "execution_count": null
  },
  {
   "cell_type": "code",
   "source": [
    "# Mount Google Drive to save models\n",
    "drive.mount('/content/drive')\n",
    "save_dir = '/content/drive/MyDrive/yolov8_training'\n",
    "os.makedirs(save_dir, exist_ok=True)"
   ],
   "metadata": {
    "colab": {
     "base_uri": "https://localhost:8080/"
    },
    "id": "logyoQaRRqfq",
    "outputId": "1365f434-2d2c-4880-e03a-4f9c9499c360"
   },
   "outputs": [],
   "execution_count": null
  },
  {
   "cell_type": "code",
   "source": [
    "# DOWNLOAD DATASET FROM ROBOFLOW\n",
    "from API import *\n",
    "rf = Roboflow(api_key=api_key)\n",
    "project = rf.workspace(workspace_id).project(original_project_id)\n",
    "version = project.version(2)\n",
    "dataset = version.download(\"yolov8\")"
   ],
   "metadata": {
    "colab": {
     "base_uri": "https://localhost:8080/"
    },
    "id": "8GzULsejRr02",
    "outputId": "35b42a70-cb23-4f71-c3bc-15cadaedcb56"
   },
   "outputs": [],
   "execution_count": null
  },
  {
   "cell_type": "code",
   "source": [
    "# Print dataset information\n",
    "print(f\"Dataset downloaded to: {dataset.location}\")\n",
    "print(f\"Data configuration file: {dataset.location}/data.yaml\")"
   ],
   "metadata": {
    "colab": {
     "base_uri": "https://localhost:8080/"
    },
    "id": "agqEAXoXRtjV",
    "outputId": "46191920-b5dc-4f25-c22b-543a1d6f6392"
   },
   "outputs": [],
   "execution_count": null
  },
  {
   "cell_type": "code",
   "source": [
    "# Download pre-trained weights (not needed as they're automatically downloaded)\n",
    "model = YOLO('yolov8n.pt')  # Use nano model for small dataset"
   ],
   "metadata": {
    "colab": {
     "base_uri": "https://localhost:8080/"
    },
    "id": "aKTCbfP0Ry0W",
    "outputId": "f1c67818-628a-4669-fe4f-bc564644567e"
   },
   "outputs": [],
   "execution_count": null
  },
  {
   "cell_type": "code",
   "source": [
    "# Similar parameters to your YOLOv12 script\n",
    "epochs = 100             # For small dataset, 100-150 epochs is often sufficient\n",
    "batch_size = 16          # Smaller batch size for limited VRAM\n",
    "image_size = 640         # Standard YOLOv8 input size\n",
    "patience = 20            # Early stopping patience\n",
    "\n",
    "# Start training\n",
    "results = model.train(\n",
    "    data=f\"{dataset.location}/data.yaml\",\n",
    "    epochs=epochs,\n",
    "    batch=batch_size,\n",
    "    imgsz=image_size,\n",
    "    patience=patience,\n",
    "    scale=0.5,           # Scaling augmentation\n",
    "    mosaic=1.0,          # Mosaic augmentation\n",
    "    mixup=0.0,           # Mixup augmentation (disabled)\n",
    "    copy_paste=0.1,      # Copy-paste augmentation\n",
    "    project=save_dir,\n",
    "    name='yolov8n_custom',\n",
    "    exist_ok=True,\n",
    "    pretrained=True,\n",
    "    optimizer=\"AdamW\",   # Advanced optimizer\n",
    "    cos_lr=True,         # Cosine learning rate schedule\n",
    "    lr0=0.001,           # Initial learning rate\n",
    "    lrf=0.01,            # Final learning rate ratio\n",
    "    weight_decay=0.0001, # Weight decay\n",
    "    warmup_epochs=3,     # Warmup epochs\n",
    "    close_mosaic=10,     # Disable mosaic augmentation in final epochs\n",
    "    seed=0,              # For reproducibility\n",
    "    device=0,            # Use GPU 0\n",
    ")"
   ],
   "metadata": {
    "colab": {
     "base_uri": "https://localhost:8080/"
    },
    "id": "ymmUc7D2R3TI",
    "outputId": "884a7423-da71-40ca-daa5-452dab1ab4c1"
   },
   "outputs": [],
   "execution_count": null
  },
  {
   "cell_type": "code",
   "source": [
    "# VALIDATE THE TRAINED MODEL\n",
    "metrics = model.val(data=f\"{dataset.location}/data.yaml\")\n",
    "print(f\"Validation metrics: {metrics}\")\n"
   ],
   "metadata": {
    "colab": {
     "base_uri": "https://localhost:8080/"
    },
    "id": "_BCatdEGR-Es",
    "outputId": "28f8a983-4efb-4be5-dcb6-925d07847983"
   },
   "outputs": [],
   "execution_count": null
  },
  {
   "cell_type": "code",
   "source": [
    "# EXPORT THE MODEL\n",
    "# Get the path of the best weights\n",
    "weights_dir = os.path.join(save_dir, 'yolov8n_custom', 'weights')\n",
    "best_pt = os.path.join(weights_dir, 'best.pt')\n",
    "\n",
    "# Export to ONNX format\n",
    "model.export(format=\"onnx\", imgsz=image_size)  # Creates best.onnx in the same folder\n",
    "\n",
    "# Print actual paths for both PT and ONNX models\n",
    "print(f\"PyTorch model saved at: {best_pt}\")\n",
    "print(f\"ONNX model exported to: {os.path.join(weights_dir, 'best.onnx')}\")"
   ],
   "metadata": {
    "colab": {
     "base_uri": "https://localhost:8080/"
    },
    "id": "O-8aLkhBSD0p",
    "outputId": "f46449db-a2f2-4234-c624-cd170872cff7"
   },
   "outputs": [],
   "execution_count": null
  },
  {
   "cell_type": "code",
   "source": [
    "# RUN INFERENCE ON A TEST IMAGE\n",
    "# Find all test images in the directory\n",
    "import glob\n",
    "\n",
    "# Get a list of all test images\n",
    "test_image_dir = f\"{dataset.location}/test/images\"\n",
    "test_images = glob.glob(f\"{test_image_dir}/*.jpg\") + glob.glob(f\"{test_image_dir}/*.jpeg\") + glob.glob(f\"{test_image_dir}/*.png\")\n",
    "\n",
    "if test_images:\n",
    "    # Use the first test image found\n",
    "    test_image_path = test_images[9]\n",
    "    print(f\"Running inference on: {test_image_path}\")\n",
    "    # Perform inference\n",
    "    results = model.predict(test_image_path, save=True, conf=0.25)\n",
    "    print(f\"Inference results saved to: {results[0].save_dir}\")\n",
    "\n",
    "    # If you want to display the results directly in Colab\n",
    "    from IPython.display import Image, display\n",
    "    display(Image(os.path.join(results[0].save_dir, os.path.basename(test_image_path))))\n",
    "else:\n",
    "    print(f\"No test images found in {test_image_dir}\")\n",
    "    print(\"Try running inference on a specific image with:\")\n",
    "    print(\"model.predict('/path/to/your/image.jpg', save=True, conf=0.25)\")"
   ],
   "metadata": {
    "colab": {
     "base_uri": "https://localhost:8080/",
     "height": 781
    },
    "id": "lBgXCuEOSWV3",
    "outputId": "b2ecdb23-08de-4e9f-9de8-bf491aab255c"
   },
   "outputs": [],
   "execution_count": null
  },
  {
   "cell_type": "code",
   "source": [
    "# If you want to display the results directly in Colab\n",
    "from IPython.display import Image, display\n",
    "display(Image(os.path.join(results[0].save_dir, os.path.basename(test_image_path))))\n",
    "\n",
    "print(\"Training, validation, and export complete!\")"
   ],
   "metadata": {
    "colab": {
     "base_uri": "https://localhost:8080/",
     "height": 674
    },
    "id": "I-dd3GZVSZP6",
    "outputId": "0596cb21-4310-4065-9a5c-d926adbe32db"
   },
   "outputs": [],
   "execution_count": null
  }
 ]
}
