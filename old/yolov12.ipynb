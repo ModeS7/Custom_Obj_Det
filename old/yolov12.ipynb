{
 "nbformat": 4,
 "nbformat_minor": 0,
 "metadata": {
  "colab": {
   "provenance": [],
   "gpuType": "T4"
  },
  "kernelspec": {
   "name": "python3",
   "display_name": "Python 3"
  },
  "language_info": {
   "name": "python"
  }
 },
 "cells": [
  {
   "cell_type": "code",
   "source": [
    "\"\"\"\n",
    "YOLOv12 Training Script for Custom Vehicle Dataset\n",
    "This script sets up the environment and trains a YOLOv12 model on your locally prepared dataset.\n",
    "\"\"\"\n",
    "\n",
    "# INITIAL SETUP\n",
    "!pip install ultralytics PyYAML\n",
    "\n",
    "# Install Flash Attention for YOLOv12\n",
    "!wget https://github.com/Dao-AILab/flash-attention/releases/download/v2.7.3/flash_attn-2.7.3+cu11torch2.2cxx11abiFALSE-cp310-cp310-linux_x86_64.whl\n",
    "!pip install flash_attn-2.7.3+cu11torch2.2cxx11abiFALSE-cp310-cp310-linux_x86_64.whl\n",
    "\n",
    "# Clone YOLOv12 repository\n",
    "!git clone https://github.com/sunsmarterjie/yolov12.git\n",
    "%cd yolov12\n",
    "!pip install -e ."
   ],
   "metadata": {
    "colab": {
     "base_uri": "https://localhost:8080/"
    },
    "id": "pXQv6j4UYbyr",
    "outputId": "2baa4731-5ad1-4c69-e4d8-17ce59980700"
   },
   "outputs": [],
   "execution_count": null
  },
  {
   "cell_type": "code",
   "source": [
    "from ultralytics import YOLO\n",
    "import os\n",
    "import yaml\n",
    "from google.colab import drive\n",
    "import glob\n",
    "from IPython.display import Image, display"
   ],
   "metadata": {
    "colab": {
     "base_uri": "https://localhost:8080/"
    },
    "id": "-8GlHctJcqUT",
    "outputId": "07e6e1bb-6112-4447-f7ff-1f8eadd905bb"
   },
   "outputs": [],
   "execution_count": null
  },
  {
   "cell_type": "code",
   "source": [
    "# Mount Google Drive to save models and access dataset\n",
    "drive.mount('/content/drive')\n",
    "save_dir = '/content/drive/MyDrive/yolov12_training'\n",
    "os.makedirs(save_dir, exist_ok=True)"
   ],
   "metadata": {
    "id": "tFJ74mbzbUzi",
    "colab": {
     "base_uri": "https://localhost:8080/"
    },
    "outputId": "1d5928a9-a686-4289-f7ce-b9ecf6d274a4"
   },
   "outputs": [],
   "execution_count": null
  },
  {
   "cell_type": "code",
   "source": [
    "# DATASET SETUP\n",
    "# Create a local dataset directory\n",
    "LOCAL_DATASET_PATH = '/content/vehicle_dataset'\n",
    "os.makedirs(LOCAL_DATASET_PATH, exist_ok=True)\n",
    "\n",
    "# Path to your vehicle dataset in Google Drive\n",
    "DRIVE_DATASET_PATH = '/content/drive/MyDrive/vehicle_dataset_split'\n",
    "\n",
    "# Copy the dataset from Drive to local Colab storage for better performance\n",
    "print(\"Copying dataset from Google Drive to local storage...\")\n",
    "!cp -r {DRIVE_DATASET_PATH}/* {LOCAL_DATASET_PATH}/ 2>/dev/null || echo \"Using direct dataset path\"\n",
    "\n",
    "# Check if dataset exists, if not prompt for upload\n",
    "if not os.path.exists(LOCAL_DATASET_PATH + '/dataset.yaml'):\n",
    "    if os.path.exists(DRIVE_DATASET_PATH + '/dataset.yaml'):\n",
    "        LOCAL_DATASET_PATH = DRIVE_DATASET_PATH\n",
    "        print(f\"Using dataset directly from Google Drive: {LOCAL_DATASET_PATH}\")\n",
    "    else:\n",
    "        print(\"Dataset not found in Google Drive. Please upload your dataset.\")\n",
    "        print(\"1. Upload dataset.yaml\")\n",
    "        print(\"2. Upload train, val, test folders with images and labels\")\n",
    "        from google.colab import files\n",
    "\n",
    "        # Create directory structure\n",
    "        for split in [\"train\", \"val\", \"test\"]:\n",
    "            os.makedirs(os.path.join(LOCAL_DATASET_PATH, split, \"images\"), exist_ok=True)\n",
    "            os.makedirs(os.path.join(LOCAL_DATASET_PATH, split, \"labels\"), exist_ok=True)\n",
    "\n",
    "        print(\"Please upload dataset.yaml file:\")\n",
    "        uploaded = files.upload()\n",
    "\n",
    "        for filename in uploaded.keys():\n",
    "            os.rename(filename, os.path.join(LOCAL_DATASET_PATH, 'dataset.yaml'))\n"
   ],
   "metadata": {
    "id": "VPlCIVGcbY73",
    "colab": {
     "base_uri": "https://localhost:8080/"
    },
    "outputId": "1a15f49d-744f-4177-8356-a8bec7f9372d"
   },
   "outputs": [],
   "execution_count": null
  },
  {
   "cell_type": "code",
   "source": [
    "# Fix the dataset.yaml file - replace Windows paths with Colab paths\n",
    "data_yaml_path = os.path.join(LOCAL_DATASET_PATH, 'dataset.yaml')\n",
    "print(f\"Fixing dataset.yaml at {data_yaml_path}\")\n",
    "\n",
    "# Read the dataset.yaml\n",
    "with open(data_yaml_path, 'r') as f:\n",
    "    yaml_data = yaml.safe_load(f)\n",
    "\n",
    "# Fix the paths\n",
    "yaml_data['path'] = LOCAL_DATASET_PATH  # Set the absolute path to the local dataset\n",
    "yaml_data['train'] = 'train/images'     # Relative paths within the dataset directory\n",
    "yaml_data['val'] = 'val/images'\n",
    "yaml_data['test'] = 'test/images'\n",
    "\n",
    "# Write the corrected yaml back\n",
    "with open(data_yaml_path, 'w') as f:\n",
    "    yaml.dump(yaml_data, f, default_flow_style=False)\n",
    "\n",
    "print(\"Dataset YAML file fixed with correct paths.\")\n",
    "\n",
    "# Verify dataset structure\n",
    "print(f\"Checking dataset structure at {LOCAL_DATASET_PATH}...\")\n",
    "\n",
    "# Check if images and labels exist\n",
    "for split in ['train', 'val', 'test']:\n",
    "    img_dir = os.path.join(LOCAL_DATASET_PATH, split, 'images')\n",
    "    label_dir = os.path.join(LOCAL_DATASET_PATH, split, 'labels')\n",
    "\n",
    "    # Count images and labels\n",
    "    img_count = len(glob.glob(f\"{img_dir}/*.*\"))\n",
    "    label_count = len(glob.glob(f\"{label_dir}/*.txt\"))\n",
    "\n",
    "    print(f\"- {split}: {img_count} images, {label_count} labels\")\n",
    "\n",
    "# Print the final dataset.yaml content\n",
    "with open(data_yaml_path, 'r') as f:\n",
    "    print(\"\\nDataset YAML content:\")\n",
    "    print(f.read())\n"
   ],
   "metadata": {
    "id": "iRrPFqHEba31",
    "colab": {
     "base_uri": "https://localhost:8080/"
    },
    "outputId": "38ea7ff2-4d8b-4bdf-8efb-c6de39c34308"
   },
   "outputs": [],
   "execution_count": null
  },
  {
   "cell_type": "code",
   "source": [
    "# Download pre-trained weights\n",
    "!wget https://github.com/sunsmarterjie/yolov12/releases/download/turbo/yolov12n.pt -P /content/\n",
    "\n",
    "# Set the training configuration\n",
    "model = YOLO('/content/yolov12n.pt')  # Load pre-trained model\n"
   ],
   "metadata": {
    "id": "znzENHTqbkAv",
    "colab": {
     "base_uri": "https://localhost:8080/"
    },
    "outputId": "686df92e-08cc-426d-8df5-dfe66734f7b3"
   },
   "outputs": [],
   "execution_count": null
  },
  {
   "cell_type": "code",
   "source": [
    "# TRAINING CONFIGURATION\n",
    "# Adjusted for vehicle detection task\n",
    "epochs = 100             # For small dataset, 100-150 epochs is often sufficient\n",
    "batch_size = 16          # Smaller batch size for limited VRAM\n",
    "image_size = 640         # Standard YOLOv12 input size\n",
    "patience = 20            # Early stopping patience\n",
    "\n",
    "# Start training\n",
    "results = model.train(\n",
    "    data=data_yaml_path,\n",
    "    epochs=epochs,\n",
    "    batch=batch_size,\n",
    "    imgsz=image_size,\n",
    "    patience=patience,\n",
    "    scale=0.5,           # Model-specific augmentation parameter\n",
    "    mosaic=1.0,\n",
    "    mixup=0.0,\n",
    "    copy_paste=0.1,\n",
    "    project=save_dir,\n",
    "    name='yolov12n_vehicle_detection',\n",
    "    exist_ok=True,\n",
    "    pretrained=True,\n",
    "    optimizer=\"AdamW\",   # Optimizer for attention-based models\n",
    "    cos_lr=True,         # Cosine learning rate schedule\n",
    "    lr0=0.001,           # Initial learning rate\n",
    "    lrf=0.01,            # Final learning rate ratio\n",
    "    weight_decay=0.0001, # Weight decay\n",
    "    warmup_epochs=3,     # Warmup epochs\n",
    "    close_mosaic=10,     # Disable mosaic augmentation in final epochs\n",
    "    seed=0,              # For reproducibility\n",
    "    device=0,            # Use GPU 0\n",
    ")\n",
    "\n"
   ],
   "metadata": {
    "id": "H_BRgivKeOGX",
    "colab": {
     "base_uri": "https://localhost:8080/"
    },
    "outputId": "c2af5a5d-1945-4719-9890-572283f75645"
   },
   "outputs": [],
   "execution_count": null
  },
  {
   "cell_type": "code",
   "source": [
    "# VALIDATE THE TRAINED MODEL\n",
    "metrics = model.val(data=data_yaml_path)\n",
    "print(f\"Validation metrics: {metrics}\")"
   ],
   "metadata": {
    "id": "sz7SsdG1eOwC",
    "colab": {
     "base_uri": "https://localhost:8080/"
    },
    "outputId": "ba9b5a08-d390-48ca-e912-f99215883ea5"
   },
   "outputs": [],
   "execution_count": null
  },
  {
   "cell_type": "code",
   "source": [
    "# EXPORT THE MODEL\n",
    "# Get the path of the best weights\n",
    "weights_dir = os.path.join(save_dir, 'yolov12n_vehicle_detection', 'weights')\n",
    "best_pt = os.path.join(weights_dir, 'best.pt')\n",
    "\n",
    "# Export to ONNX format\n",
    "model.export(format=\"onnx\", imgsz=image_size)  # Creates best.onnx in the same folder\n",
    "\n",
    "# Print actual paths for both PT and ONNX models\n",
    "print(f\"PyTorch model saved at: {best_pt}\")\n",
    "print(f\"ONNX model exported to: {os.path.join(weights_dir, 'best.onnx')}\")"
   ],
   "metadata": {
    "id": "v7l99eI4blu5",
    "colab": {
     "base_uri": "https://localhost:8080/"
    },
    "outputId": "5a8027fa-7e8d-402a-c303-5f7817e5413d"
   },
   "outputs": [],
   "execution_count": null
  },
  {
   "cell_type": "code",
   "source": [
    "# RUN INFERENCE ON A TEST IMAGE\n",
    "# Find all test images in the directory\n",
    "test_image_dir = os.path.join(LOCAL_DATASET_PATH, 'test', 'images')\n",
    "test_images = glob.glob(f\"{test_image_dir}/*.jpg\") + glob.glob(f\"{test_image_dir}/*.jpeg\") + glob.glob(f\"{test_image_dir}/*.png\")\n",
    "\n",
    "if test_images:\n",
    "    # Use the first test image found\n",
    "    test_image_path = test_images[0]\n",
    "    print(f\"Running inference on: {test_image_path}\")\n",
    "\n",
    "    # Perform inference\n",
    "    results = model.predict(test_image_path, save=True, conf=0.25)\n",
    "    print(f\"Inference results saved to: {results[0].save_dir}\")\n",
    "\n",
    "    # Display the results directly in Colab\n",
    "    display(Image(os.path.join(results[0].save_dir, os.path.basename(test_image_path))))\n",
    "else:\n",
    "    print(f\"No test images found in {test_image_dir}\")\n",
    "    print(\"Try running inference on a specific image with:\")\n",
    "    print(\"model.predict('/path/to/your/image.jpg', save=True, conf=0.25)\")\n",
    "\n",
    "print(\"Training, validation, and export complete!\")"
   ],
   "metadata": {
    "id": "_O7CwraUedfz",
    "colab": {
     "base_uri": "https://localhost:8080/",
     "height": 779
    },
    "outputId": "0e938f82-aefb-4f8b-ba0f-c01002f65c7c"
   },
   "outputs": [],
   "execution_count": null
  },
  {
   "cell_type": "code",
   "source": [],
   "metadata": {
    "id": "JxCGi7k8f2j6"
   },
   "outputs": [],
   "execution_count": null
  },
  {
   "cell_type": "code",
   "source": [],
   "metadata": {
    "id": "6FE6rLWkbo7U"
   },
   "outputs": [],
   "execution_count": null
  },
  {
   "cell_type": "code",
   "source": [],
   "metadata": {
    "id": "waJXYa8TbrRV"
   },
   "outputs": [],
   "execution_count": null
  },
  {
   "cell_type": "code",
   "source": [],
   "metadata": {
    "id": "B_cNoGc7bt1I"
   },
   "outputs": [],
   "execution_count": null
  }
 ]
}
