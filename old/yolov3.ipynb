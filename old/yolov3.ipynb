{
 "nbformat": 4,
 "nbformat_minor": 0,
 "metadata": {
  "colab": {
   "provenance": [],
   "gpuType": "T4"
  },
  "kernelspec": {
   "name": "python3",
   "display_name": "Python 3"
  },
  "language_info": {
   "name": "python"
  },
  "accelerator": "GPU"
 },
 "cells": [
  {
   "cell_type": "code",
   "metadata": {
    "colab": {
     "base_uri": "https://localhost:8080/"
    },
    "id": "urZYpfUJfz8f",
    "outputId": "9e2b2115-d738-4dc4-cac1-9cb3ce84bb9f"
   },
   "source": [
    "\"\"\"\n",
    "YOLOv3 Training Script for Google Colab\n",
    "This script sets up the environment, downloads your Roboflow dataset, and trains a YOLOv3 model.\n",
    "\"\"\"\n",
    "\n",
    "# INITIAL SETUP\n",
    "!pip install ultralytics roboflow\n"
   ],
   "outputs": [],
   "execution_count": null
  },
  {
   "cell_type": "code",
   "source": [
    "from ultralytics import YOLO\n",
    "import os\n",
    "from google.colab import drive\n",
    "from roboflow import Roboflow"
   ],
   "metadata": {
    "id": "KH5FIUPdgA1f"
   },
   "outputs": [],
   "execution_count": null
  },
  {
   "cell_type": "code",
   "source": [
    "# Mount Google Drive to save models\n",
    "drive.mount('/content/drive')\n",
    "save_dir = '/content/drive/MyDrive/yolov3tiny_training'\n",
    "os.makedirs(save_dir, exist_ok=True)"
   ],
   "metadata": {
    "colab": {
     "base_uri": "https://localhost:8080/"
    },
    "id": "5jJANN8RgCXe",
    "outputId": "c9556ffc-a900-47e4-c8a3-7bcc4e880886"
   },
   "outputs": [],
   "execution_count": null
  },
  {
   "cell_type": "code",
   "source": [
    "# DOWNLOAD DATASET FROM ROBOFLOW\n",
    "from API import *\n",
    "rf = Roboflow(api_key=api_key)\n",
    "project = rf.workspace(workspace_id).project(original_project_id)\n",
    "version = project.version(2)\n",
    "dataset = version.download(\"yolov8\")"
   ],
   "metadata": {
    "colab": {
     "base_uri": "https://localhost:8080/"
    },
    "id": "wLFIsfnOgG_a",
    "outputId": "42a89236-543e-4255-a635-3e7220e51b3c"
   },
   "outputs": [],
   "execution_count": null
  },
  {
   "cell_type": "code",
   "source": [
    "# Print dataset information\n",
    "print(f\"Dataset downloaded to: {dataset.location}\")\n",
    "print(f\"Data configuration file: {dataset.location}/data.yaml\")\n"
   ],
   "metadata": {
    "colab": {
     "base_uri": "https://localhost:8080/"
    },
    "id": "Lh6OefW-gSJM",
    "outputId": "c98f0a22-4e1b-43e0-9b06-34c590a8a7a8"
   },
   "outputs": [],
   "execution_count": null
  },
  {
   "cell_type": "code",
   "source": [
    "# TRAIN THE MODEL\n",
    "# YOLOv3-tiny is the lightweight version, similar to YOLOv8n\n",
    "model = YOLO('yolov3-tiny.pt')  # Load pre-trained YOLOv3-tiny model"
   ],
   "metadata": {
    "colab": {
     "base_uri": "https://localhost:8080/"
    },
    "id": "whP0mF2igUEs",
    "outputId": "6e77be6e-102f-4ab8-96b2-3b3465e5d5cb"
   },
   "outputs": [],
   "execution_count": null
  },
  {
   "cell_type": "code",
   "source": [
    "# TRAINING CONFIGURATION\n",
    "# Modified parameters appropriate for YOLOv3\n",
    "epochs = 100             # For small dataset, 100-150 epochs is often sufficient\n",
    "batch_size = 16          # Smaller batch size for limited VRAM\n",
    "image_size = 640         # Standard YOLOv3 input size\n",
    "patience = 20            # Early stopping patience\n",
    "\n",
    "# Start training\n",
    "results = model.train(\n",
    "    data=f\"{dataset.location}/data.yaml\",\n",
    "    epochs=epochs,\n",
    "    batch=batch_size,\n",
    "    imgsz=image_size,\n",
    "    patience=patience,\n",
    "    project=save_dir,\n",
    "    name='yolov3tiny_custom',\n",
    "    exist_ok=True,\n",
    "    pretrained=True,\n",
    "    optimizer=\"AdamW\",   # Advanced optimizer\n",
    "    cos_lr=True,         # Cosine learning rate schedule\n",
    "    lr0=0.001,           # Initial learning rate\n",
    "    lrf=0.01,            # Final learning rate ratio\n",
    "    weight_decay=0.0001, # Weight decay\n",
    "    warmup_epochs=3,     # Warmup epochs\n",
    "    seed=0,                 # For reproducibility\n",
    "    device=0,               # Use GPU 0\n",
    ")"
   ],
   "metadata": {
    "colab": {
     "base_uri": "https://localhost:8080/"
    },
    "id": "8wHuA4BxgWeS",
    "outputId": "0303395d-7c26-4f4a-9e3f-e433d0bbe1ec"
   },
   "outputs": [],
   "execution_count": null
  },
  {
   "cell_type": "code",
   "source": [
    "# VALIDATE THE TRAINED MODEL\n",
    "metrics = model.val(data=f\"{dataset.location}/data.yaml\")\n",
    "print(f\"Validation metrics: {metrics}\")"
   ],
   "metadata": {
    "colab": {
     "base_uri": "https://localhost:8080/"
    },
    "id": "9jy6Q9dPgi0F",
    "outputId": "7bc4cd84-d011-4711-f0e3-781d385d2afc"
   },
   "outputs": [],
   "execution_count": null
  },
  {
   "cell_type": "code",
   "source": [
    "# EXPORT THE MODEL\n",
    "# Get the path of the best weights\n",
    "weights_dir = os.path.join(save_dir, 'yolov3_custom', 'weights')\n",
    "best_pt = os.path.join(weights_dir, 'best.pt')\n",
    "\n",
    "# Export to ONNX format\n",
    "model.export(format=\"onnx\", imgsz=image_size)  # Creates best.onnx in the same folder\n",
    "\n",
    "# Print actual paths for both PT and ONNX models\n",
    "print(f\"PyTorch model saved at: {best_pt}\")\n",
    "print(f\"ONNX model exported to: {os.path.join(weights_dir, 'best.onnx')}\")"
   ],
   "metadata": {
    "colab": {
     "base_uri": "https://localhost:8080/"
    },
    "id": "1PZNlNcrgot2",
    "outputId": "9adfc790-1c83-4555-88e9-f20468e5db16"
   },
   "outputs": [],
   "execution_count": null
  },
  {
   "cell_type": "code",
   "source": [
    "# RUN INFERENCE ON A TEST IMAGE\n",
    "# Find all test images in the directory\n",
    "import glob\n",
    "\n",
    "# Get a list of all test images\n",
    "test_image_dir = f\"{dataset.location}/test/images\"\n",
    "test_images = glob.glob(f\"{test_image_dir}/*.jpg\") + glob.glob(f\"{test_image_dir}/*.jpeg\") + glob.glob(f\"{test_image_dir}/*.png\")\n",
    "\n",
    "if test_images:\n",
    "    # Use the first test image found\n",
    "    test_image_path = test_images[9]\n",
    "    print(f\"Running inference on: {test_image_path}\")\n",
    "    # Perform inference\n",
    "    results = model.predict(test_image_path, save=True, conf=0.25)\n",
    "    print(f\"Inference results saved to: {results[0].save_dir}\")\n",
    "\n",
    "    # If you want to display the results directly in Colab\n",
    "    from IPython.display import Image, display\n",
    "    display(Image(os.path.join(results[0].save_dir, os.path.basename(test_image_path))))\n",
    "else:\n",
    "    print(f\"No test images found in {test_image_dir}\")\n",
    "    print(\"Try running inference on a specific image with:\")\n",
    "    print(\"model.predict('/path/to/your/image.jpg', save=True, conf=0.25)\")"
   ],
   "metadata": {
    "colab": {
     "base_uri": "https://localhost:8080/",
     "height": 761
    },
    "id": "xYQ4brQsgtr5",
    "outputId": "573327a4-f1dc-45ae-d96e-fd402673be74"
   },
   "outputs": [],
   "execution_count": null
  },
  {
   "cell_type": "code",
   "source": [
    "# If you want to display the results directly in Colab\n",
    "from IPython.display import Image, display\n",
    "display(Image(os.path.join(results[0].save_dir, os.path.basename(test_image_path))))\n",
    "\n",
    "print(\"Training, validation, and export complete!\")"
   ],
   "metadata": {
    "colab": {
     "base_uri": "https://localhost:8080/",
     "height": 674
    },
    "id": "SIOukb6NgvPG",
    "outputId": "1cf77f13-1860-4f0a-dfb6-fb9494dbe297"
   },
   "outputs": [],
   "execution_count": null
  }
 ]
}
